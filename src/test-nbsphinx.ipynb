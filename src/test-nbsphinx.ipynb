{
 "cells": [
  {
   "cell_type": "markdown",
   "id": "c917c2b2-c54b-4673-8d12-eaf0ccd903e8",
   "metadata": {
    "tags": []
   },
   "source": [
    "# Basic Line Demo\n",
    "Basic line chart showing trends in a dataset. This chart includes the series-label module, which adds a label to each line for enhanced readability."
   ]
  },
  {
   "cell_type": "code",
   "execution_count": 1,
   "id": "cf155630-1493-4ab1-bcae-51f65ef9b664",
   "metadata": {
    "tags": []
   },
   "outputs": [
    {
     "data": {
      "text/plain": [
       "'This is my tested return.'"
      ]
     },
     "execution_count": 1,
     "metadata": {},
     "output_type": "execute_result"
    }
   ],
   "source": [
    "\"This is my tested return.\""
   ]
  },
  {
   "cell_type": "code",
   "execution_count": null,
   "id": "d1178c4c-d431-4d52-9453-3f9e37d58a6a",
   "metadata": {},
   "outputs": [],
   "source": []
  }
 ],
 "metadata": {
  "kernelspec": {
   "display_name": "Python 3 (ipykernel)",
   "language": "python",
   "name": "python3"
  },
  "language_info": {
   "codemirror_mode": {
    "name": "ipython",
    "version": 3
   },
   "file_extension": ".py",
   "mimetype": "text/x-python",
   "name": "python",
   "nbconvert_exporter": "python",
   "pygments_lexer": "ipython3",
   "version": "3.10.5"
  }
 },
 "nbformat": 4,
 "nbformat_minor": 5
}
