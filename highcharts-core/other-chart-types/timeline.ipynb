{
 "cells": [
  {
   "cell_type": "markdown",
   "id": "0c26872a-fc19-4f08-9fd9-ce0b0d961f27",
   "metadata": {},
   "source": [
    "# Timeline Chart Demo\n",
    "Timeline charts are used to place events on a time axis, such as this example showing some space exploration events from 2000 to 2020."
   ]
  },
  {
   "cell_type": "markdown",
   "id": "6b461423-bdfe-46fd-ac5e-89a8191948e5",
   "metadata": {},
   "source": [
    "## Import Dependencies"
   ]
  },
  {
   "cell_type": "code",
   "execution_count": null,
   "id": "6ebbd6b7-cd27-4304-9d60-5e5cb2950063",
   "metadata": {},
   "outputs": [],
   "source": [
    "from highcharts_core.chart import Chart\n",
    "from highcharts_core.options import HighchartsOptions"
   ]
  },
  {
   "cell_type": "markdown",
   "id": "a07d8167-8441-4d14-97e6-f40983f37278",
   "metadata": {},
   "source": [
    "## Configure Options"
   ]
  },
  {
   "cell_type": "code",
   "execution_count": null,
   "id": "2d4b0bda-3c20-4af7-bf76-caff71606fed",
   "metadata": {},
   "outputs": [],
   "source": [
    "options_as_str = \"\"\"{\n",
    "    chart: {\n",
    "        type: 'timeline'\n",
    "    },\n",
    "    \n",
    "    accessibility: {\n",
    "        screenReaderSection: {\n",
    "            beforeChartFormat: '<h5>{chartTitle}</h5><div>{typeDescription}</div><div>{chartSubtitle}</div><div>{chartLongdesc}</div><div>{viewTableButton}</div>'\n",
    "        },\n",
    "        point: {\n",
    "            valueDescriptionFormat: '{index}. {point.label}. {point.description}.'\n",
    "        }\n",
    "    },\n",
    "    \n",
    "    xAxis: {\n",
    "        visible: false\n",
    "    },\n",
    "    \n",
    "    yAxis: {\n",
    "        visible: false\n",
    "    },\n",
    "    \n",
    "    title: {\n",
    "        text: 'Timeline of Space Exploration'\n",
    "    },\n",
    "    \n",
    "    subtitle: {\n",
    "        text: 'Info source: <a href=\"https://en.wikipedia.org/wiki/Timeline_of_space_exploration\">www.wikipedia.org</a>'\n",
    "    },\n",
    "    \n",
    "    colors: [\n",
    "        '#4185F3',\n",
    "        '#427CDD',\n",
    "        '#406AB2',\n",
    "        '#3E5A8E',\n",
    "        '#3B4A68',\n",
    "        '#363C46'\n",
    "    ],\n",
    "    \n",
    "    series: [{\n",
    "        data: [{\n",
    "            name: '2000: Orbiting of an asteroid',\n",
    "            description: '14 February 2000, first orbiting of an asteroid (433 Eros).'\n",
    "        }, {\n",
    "            name: '2005: Landing on Titan.',\n",
    "            description: '14 January 2005, first soft landing on Titan also first soft landing in the outer Solar System.'\n",
    "        }, {\n",
    "            name: '2011: Orbit of Mercury',\n",
    "            description: '18 March 2011, first spacecraft to orbit Mercury.'\n",
    "        }, {\n",
    "            name: '2015: Food eaten in space',\n",
    "            description: '10 August 2015, first food grown in space and eaten (lettuce).'\n",
    "        }, {\n",
    "            name: '2019: Black hole photograph',\n",
    "            description: '10 April 2019, first direct photograph of a black hole and its vicinity.'\n",
    "        }, {\n",
    "            name: '2020: Private spaceflight',\n",
    "            description: '30 May 2020, first orbital human spaceflight launched by a private company (SpaceX).'\n",
    "        }]\n",
    "    }]\n",
    "}\"\"\"\n",
    "\n",
    "options = HighchartsOptions.from_js_literal(options_as_str)"
   ]
  },
  {
   "cell_type": "markdown",
   "id": "832f54d4-de59-48ed-ab5d-fbeda623f099",
   "metadata": {
    "tags": []
   },
   "source": [
    "## Generate Chart"
   ]
  },
  {
   "cell_type": "code",
   "execution_count": null,
   "id": "71cd0e89-da09-4fa0-bdef-8ed5ce5db44a",
   "metadata": {
    "tags": []
   },
   "outputs": [],
   "source": [
    "chart = Chart.from_options(options)\n",
    "chart.display()"
   ]
  },
  {
   "cell_type": "code",
   "execution_count": null,
   "id": "ab68da56-8e96-4451-9d98-6a93041e33ac",
   "metadata": {},
   "outputs": [],
   "source": []
  }
 ],
 "metadata": {
  "kernelspec": {
   "display_name": "Python 3 (ipykernel)",
   "language": "python",
   "name": "python3"
  },
  "language_info": {
   "codemirror_mode": {
    "name": "ipython",
    "version": 3
   },
   "file_extension": ".py",
   "mimetype": "text/x-python",
   "name": "python",
   "nbconvert_exporter": "python",
   "pygments_lexer": "ipython3",
   "version": "3.11.6"
  }
 },
 "nbformat": 4,
 "nbformat_minor": 5
}
