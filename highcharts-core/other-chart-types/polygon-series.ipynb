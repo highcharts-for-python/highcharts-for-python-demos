{
 "cells": [
  {
   "cell_type": "markdown",
   "id": "0c26872a-fc19-4f08-9fd9-ce0b0d961f27",
   "metadata": {},
   "source": [
    "# Polygon Series Demo\n",
    "Chart showing use of the `polygon` series type to plot height and weight data using a set of coordinates."
   ]
  },
  {
   "cell_type": "markdown",
   "id": "6b461423-bdfe-46fd-ac5e-89a8191948e5",
   "metadata": {},
   "source": [
    "## Import Dependencies"
   ]
  },
  {
   "cell_type": "code",
   "execution_count": null,
   "id": "6ebbd6b7-cd27-4304-9d60-5e5cb2950063",
   "metadata": {},
   "outputs": [],
   "source": [
    "from highcharts_core.chart import Chart\n",
    "from highcharts_core.options import HighchartsOptions"
   ]
  },
  {
   "cell_type": "markdown",
   "id": "a07d8167-8441-4d14-97e6-f40983f37278",
   "metadata": {},
   "source": [
    "## Configure Options"
   ]
  },
  {
   "cell_type": "code",
   "execution_count": null,
   "id": "2d4b0bda-3c20-4af7-bf76-caff71606fed",
   "metadata": {},
   "outputs": [],
   "source": [
    "options_as_str = \"\"\"{\n",
    "    title: {\n",
    "        text: 'Average height and weight for men by country',\n",
    "        align: 'left'\n",
    "    },\n",
    "    \n",
    "    subtitle: {\n",
    "        text: 'Source: <a href=\"https://www.worlddata.info/average-bodyheight.php\" target=\"_blank\">WorldData</a>',\n",
    "        align: 'left'\n",
    "    },\n",
    "    \n",
    "    xAxis: {\n",
    "        gridLineWidth: 1,\n",
    "        title: {\n",
    "            enabled: true,\n",
    "            text: 'Height (cm)'\n",
    "        },\n",
    "        startOnTick: true,\n",
    "        endOnTick: true,\n",
    "        showLastLabel: true\n",
    "    },\n",
    "    \n",
    "    yAxis: {\n",
    "        title: {\n",
    "            text: 'Weight (kg)'\n",
    "        }\n",
    "    },\n",
    "    \n",
    "    legend: {\n",
    "        layout: 'vertical',\n",
    "        align: 'right',\n",
    "        verticalAlign: 'middle'\n",
    "    },\n",
    "    \n",
    "    series: [{\n",
    "        name: 'Target',\n",
    "        type: 'polygon',\n",
    "        data: [[163, 42], [162, 46], [162, 55], [163, 64], [164, 70], [170, 90],\n",
    "            [181, 100], [182, 90], [173, 52], [166, 45]],\n",
    "        color: '#2caffe80',\n",
    "        enableMouseTracking: false,\n",
    "        accessibility: {\n",
    "            exposeAsGroupOnly: true,\n",
    "            description: 'Target ranges in an upwards trending diagonal from 161 to 182 on the x axis, and 42 to 100 on the y axis.'\n",
    "        }\n",
    "    }, {\n",
    "        name: 'Observations',\n",
    "        type: 'scatter',\n",
    "        color: '#544fc5',\n",
    "        data: [\n",
    "            { x: 184, y: 87.9, name: 'Netherlands' },\n",
    "            { x: 183, y: 90.4, name: 'Montenegro' },\n",
    "            { x: 182, y: 89.9, name: 'Estonia' },\n",
    "            { x: 182, y: 86.8, name: 'Denmark' },\n",
    "            { x: 181, y: 89.2, name: 'Iceland' },\n",
    "            { x: 181, y: 89.9, name: 'Czechia' },\n",
    "            { x: 180, y: 89.9, name: 'Serbia' },\n",
    "            { x: 180, y: 89.9, name: 'Sweden' },\n",
    "            { x: 180, y: 89.1, name: 'Norway' },\n",
    "            { x: 180, y: 80.7, name: 'Dominica' },\n",
    "            { x: 180, y: 86.3, name: 'Finland' },\n",
    "            { x: 179, y: 88.4, name: 'Bermuda' },\n",
    "            { x: 179, y: 90.7, name: 'Puerto Rico' },\n",
    "            { x: 178, y: 84.1, name: 'Belarus' },\n",
    "            { x: 178, y: 103.7, name: 'Cook Islands' },\n",
    "            { x: 177, y: 98.8, name: 'Niue' },\n",
    "            { x: 177, y: 103.2, name: 'American Samoa' },\n",
    "            { x: 176, y: 80.3, name: 'Russia' },\n",
    "            { x: 176, y: 91.1, name: 'Saint Lucia' },\n",
    "            { x: 175, y: 67.0, name: 'Senegal' },\n",
    "            { x: 175, y: 93.7, name: 'Tonga' },\n",
    "            { x: 174, y: 74.6, name: 'Algeria' },\n",
    "            { x: 174, y: 84.7, name: 'Argentina' },\n",
    "            { x: 174, y: 79.5, name: 'Portugal' },\n",
    "            { x: 173, y: 73.6, name: 'Mauritius' },\n",
    "            { x: 173, y: 91.8, name: 'Samoa' },\n",
    "            { x: 172, y: 69.5, name: 'Japan' },\n",
    "            { x: 172, y: 74.0, name: 'Bahrain' },\n",
    "            { x: 171, y: 64.1, name: 'Chad' },\n",
    "            { x: 171, y: 88.0, name: 'Tuvalu' },\n",
    "            { x: 171, y: 67.8, name: 'Sudan' },\n",
    "            { x: 170, y: 58.8, name: 'Eritrea' },\n",
    "            { x: 170, y: 63.9, name: 'Kenya' },\n",
    "            { x: 170, y: 74.7, name: 'Mongolia' },\n",
    "            { x: 170, y: 65.1, name: 'Nigeria' },\n",
    "            { x: 169, y: 93.0, name: 'Nauru' },\n",
    "            { x: 169, y: 81.1, name: 'Micronesia' },\n",
    "            { x: 169, y: 64.9, name: 'Ghana' },\n",
    "            { x: 169, y: 71.9, name: 'South Africa' },\n",
    "            { x: 168, y: 61.2, name: 'Vietnam' },\n",
    "            { x: 168, y: 65.9, name: 'Ivory Coast' },\n",
    "            { x: 168, y: 69.2, name: 'Maldives' },\n",
    "            { x: 168, y: 56.5, name: 'Ethiopia' },\n",
    "            { x: 167, y: 74.2, name: 'Ecuador' },\n",
    "            { x: 167, y: 60.5, name: 'Burundi' },\n",
    "            { x: 166, y: 69.6, name: 'India' },\n",
    "            { x: 166, y: 74.7, name: 'Brunei' },\n",
    "            { x: 165, y: 57.7, name: 'Bangladesh' },\n",
    "            { x: 165, y: 58.4, name: 'Madagascar' },\n",
    "            { x: 165, y: 61.8, name: 'Philippines' },\n",
    "            { x: 164, y: 60.5, name: 'Nepal' },\n",
    "            { x: 164, y: 69.1, name: 'Guatemala' },\n",
    "            { x: 163, y: 62.5, name: 'Yemen' },\n",
    "            { x: 162, y: 59.5, name: 'Laos' },\n",
    "            { x: 159, y: 53.9, name: 'Timor-Leste' }\n",
    "        ]\n",
    "    }],\n",
    "    \n",
    "    tooltip: {\n",
    "        headerFormat: '<b>{point.key}</b><br>',\n",
    "        pointFormat: '{point.x} cm, {point.y} kg'\n",
    "    },\n",
    "    \n",
    "    responsive: {\n",
    "        rules: [{\n",
    "            condition: {\n",
    "                maxWidth: 500\n",
    "            },\n",
    "            chartOptions: {\n",
    "                legend: {\n",
    "                    align: 'center',\n",
    "                    layout: 'horizontal',\n",
    "                    verticalAlign: 'bottom'\n",
    "                }\n",
    "            }\n",
    "        }]\n",
    "    }\n",
    "}\"\"\"\n",
    "\n",
    "options = HighchartsOptions.from_js_literal(options_as_str)"
   ]
  },
  {
   "cell_type": "markdown",
   "id": "75115b4a-876c-4bce-909c-cf241ab7c31b",
   "metadata": {},
   "source": [
    "## Generate Chart"
   ]
  },
  {
   "cell_type": "code",
   "execution_count": null,
   "id": "71cd0e89-da09-4fa0-bdef-8ed5ce5db44a",
   "metadata": {
    "tags": []
   },
   "outputs": [],
   "source": [
    "chart = Chart.from_options(options)\n",
    "chart.display()"
   ]
  },
  {
   "cell_type": "code",
   "execution_count": null,
   "id": "ab68da56-8e96-4451-9d98-6a93041e33ac",
   "metadata": {},
   "outputs": [],
   "source": []
  }
 ],
 "metadata": {
  "kernelspec": {
   "display_name": "Python 3 (ipykernel)",
   "language": "python",
   "name": "python3"
  },
  "language_info": {
   "codemirror_mode": {
    "name": "ipython",
    "version": 3
   },
   "file_extension": ".py",
   "mimetype": "text/x-python",
   "name": "python",
   "nbconvert_exporter": "python",
   "pygments_lexer": "ipython3",
   "version": "3.11.6"
  }
 },
 "nbformat": 4,
 "nbformat_minor": 5
}
