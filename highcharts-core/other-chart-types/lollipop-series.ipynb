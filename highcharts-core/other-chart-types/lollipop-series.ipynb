{
 "cells": [
  {
   "cell_type": "markdown",
   "id": "0c26872a-fc19-4f08-9fd9-ce0b0d961f27",
   "metadata": {},
   "source": [
    "# Lollipop Series\n",
    "Lollipop charts are variants of column charts, with a circle marker for the data value and a line extending to the axis."
   ]
  },
  {
   "cell_type": "markdown",
   "id": "6b461423-bdfe-46fd-ac5e-89a8191948e5",
   "metadata": {},
   "source": [
    "## Import Dependencies"
   ]
  },
  {
   "cell_type": "code",
   "execution_count": null,
   "id": "6ebbd6b7-cd27-4304-9d60-5e5cb2950063",
   "metadata": {},
   "outputs": [],
   "source": [
    "from highcharts_core.chart import Chart\n",
    "from highcharts_core.options import HighchartsOptions"
   ]
  },
  {
   "cell_type": "markdown",
   "id": "a07d8167-8441-4d14-97e6-f40983f37278",
   "metadata": {},
   "source": [
    "## Configure Options"
   ]
  },
  {
   "cell_type": "code",
   "execution_count": null,
   "id": "2d4b0bda-3c20-4af7-bf76-caff71606fed",
   "metadata": {},
   "outputs": [],
   "source": [
    "options_as_str = \"\"\"{\n",
    "    chart: {\n",
    "        type: 'lollipop'\n",
    "    },\n",
    "\n",
    "    accessibility: {\n",
    "        point: {\n",
    "            valueDescriptionFormat: '{index}. {xDescription}, {point.y}.'\n",
    "        }\n",
    "    },\n",
    "\n",
    "    legend: {\n",
    "        enabled: false\n",
    "    },\n",
    "\n",
    "    subtitle: {\n",
    "        text: '2021'\n",
    "    },\n",
    "\n",
    "    title: {\n",
    "        text: 'Top 10 Countries by Population'\n",
    "    },\n",
    "\n",
    "    tooltip: {\n",
    "        shared: true\n",
    "    },\n",
    "\n",
    "    xAxis: {\n",
    "        type: 'category'\n",
    "    },\n",
    "\n",
    "    yAxis: {\n",
    "        title: {\n",
    "            text: 'Population'\n",
    "        }\n",
    "    },\n",
    "\n",
    "    series: [{\n",
    "        name: 'Population',\n",
    "        data: [{\n",
    "            name: 'China',\n",
    "            y: 1444216107\n",
    "        }, {\n",
    "            name: 'India',\n",
    "            y: 1393409038\n",
    "        }, {\n",
    "            name: 'United States',\n",
    "            y: 332915073\n",
    "        }, {\n",
    "            name: 'Indonesia',\n",
    "            y: 276361783\n",
    "        }, {\n",
    "            name: 'Pakistan',\n",
    "            y: 225199937\n",
    "        }, {\n",
    "            name: 'Brazil',\n",
    "            y: 213993437\n",
    "        }, {\n",
    "            name: 'Nigeria',\n",
    "            y: 211400708\n",
    "        }, {\n",
    "            name: 'Bangladesh',\n",
    "            y: 166303498\n",
    "        }, {\n",
    "            name: 'Russia',\n",
    "            y: 145912025\n",
    "        }, {\n",
    "            name: 'Mexico',\n",
    "            y: 130262216\n",
    "        }]\n",
    "    }]\n",
    "}\"\"\"\n",
    "\n",
    "options = HighchartsOptions.from_js_literal(options_as_str)"
   ]
  },
  {
   "cell_type": "markdown",
   "id": "832f54d4-de59-48ed-ab5d-fbeda623f099",
   "metadata": {
    "tags": []
   },
   "source": [
    "## Generate Chart"
   ]
  },
  {
   "cell_type": "code",
   "execution_count": null,
   "id": "71cd0e89-da09-4fa0-bdef-8ed5ce5db44a",
   "metadata": {
    "tags": []
   },
   "outputs": [],
   "source": [
    "chart = Chart.from_options(options)\n",
    "chart.display()"
   ]
  },
  {
   "cell_type": "code",
   "execution_count": null,
   "id": "ab68da56-8e96-4451-9d98-6a93041e33ac",
   "metadata": {},
   "outputs": [],
   "source": []
  }
 ],
 "metadata": {
  "kernelspec": {
   "display_name": "Python 3 (ipykernel)",
   "language": "python",
   "name": "python3"
  },
  "language_info": {
   "codemirror_mode": {
    "name": "ipython",
    "version": 3
   },
   "file_extension": ".py",
   "mimetype": "text/x-python",
   "name": "python",
   "nbconvert_exporter": "python",
   "pygments_lexer": "ipython3",
   "version": "3.11.6"
  }
 },
 "nbformat": 4,
 "nbformat_minor": 5
}
