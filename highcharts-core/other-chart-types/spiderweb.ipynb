{
 "cells": [
  {
   "cell_type": "markdown",
   "id": "0c26872a-fc19-4f08-9fd9-ce0b0d961f27",
   "metadata": {},
   "source": [
    "# Spiderweb Chart Demo\n",
    "A spiderweb chart or radar chart is a variant of the polar chart. Spiderweb charts are commonly used to compare multivariate data sets, like this demo using six variables of comparison."
   ]
  },
  {
   "cell_type": "markdown",
   "id": "6b461423-bdfe-46fd-ac5e-89a8191948e5",
   "metadata": {},
   "source": [
    "## Import Dependencies"
   ]
  },
  {
   "cell_type": "code",
   "execution_count": null,
   "id": "6ebbd6b7-cd27-4304-9d60-5e5cb2950063",
   "metadata": {},
   "outputs": [],
   "source": [
    "from highcharts_core.chart import Chart\n",
    "from highcharts_core.options import HighchartsOptions"
   ]
  },
  {
   "cell_type": "markdown",
   "id": "a07d8167-8441-4d14-97e6-f40983f37278",
   "metadata": {},
   "source": [
    "## Configure Options"
   ]
  },
  {
   "cell_type": "code",
   "execution_count": null,
   "id": "2d4b0bda-3c20-4af7-bf76-caff71606fed",
   "metadata": {},
   "outputs": [],
   "source": [
    "options_as_str = \"\"\"{\n",
    "    chart: {\n",
    "        polar: true,\n",
    "        type: 'line'\n",
    "    },\n",
    "\n",
    "    accessibility: {\n",
    "        description: 'A spiderweb chart compares the allocated budget against actual spending within an organization. The spider chart has six spokes. Each spoke represents one of the 6 departments within the organization: sales, marketing, development, customer support, information technology and administration. The chart is interactive, and each data point is displayed upon hovering. The chart clearly shows that 4 of the 6 departments have overspent their budget with Marketing responsible for the greatest overspend of $20,000. The allocated budget and actual spending data points for each department are as follows: Sales. Budget equals $43,000; spending equals $50,000. Marketing. Budget equals $19,000; spending equals $39,000. Development. Budget equals $60,000; spending equals $42,000. Customer support. Budget equals $35,000; spending equals $31,000. Information technology. Budget equals $17,000; spending equals $26,000. Administration. Budget equals $10,000; spending equals $14,000.'\n",
    "    },\n",
    "\n",
    "    title: {\n",
    "        text: 'Budget vs spending',\n",
    "        x: -80\n",
    "    },\n",
    "\n",
    "    pane: {\n",
    "        size: '80%'\n",
    "    },\n",
    "\n",
    "    xAxis: {\n",
    "        categories: ['Sales', 'Marketing', 'Development', 'Customer Support',\n",
    "            'Information Technology', 'Administration'],\n",
    "        tickmarkPlacement: 'on',\n",
    "        lineWidth: 0\n",
    "    },\n",
    "\n",
    "    yAxis: {\n",
    "        gridLineInterpolation: 'polygon',\n",
    "        lineWidth: 0,\n",
    "        min: 0\n",
    "    },\n",
    "\n",
    "    tooltip: {\n",
    "        shared: true,\n",
    "        pointFormat: '<span style=\"color:{series.color}\">{series.name}: <b>${point.y:,.0f}</b><br/>'\n",
    "    },\n",
    "\n",
    "    legend: {\n",
    "        align: 'right',\n",
    "        verticalAlign: 'middle',\n",
    "        layout: 'vertical'\n",
    "    },\n",
    "\n",
    "    series: [{\n",
    "        name: 'Allocated Budget',\n",
    "        data: [43000, 19000, 60000, 35000, 17000, 10000],\n",
    "        pointPlacement: 'on'\n",
    "    }, {\n",
    "        name: 'Actual Spending',\n",
    "        data: [50000, 39000, 42000, 31000, 26000, 14000],\n",
    "        pointPlacement: 'on'\n",
    "    }],\n",
    "\n",
    "    responsive: {\n",
    "        rules: [{\n",
    "            condition: {\n",
    "                maxWidth: 500\n",
    "            },\n",
    "            chartOptions: {\n",
    "                legend: {\n",
    "                    align: 'center',\n",
    "                    verticalAlign: 'bottom',\n",
    "                    layout: 'horizontal'\n",
    "                },\n",
    "                pane: {\n",
    "                    size: '70%'\n",
    "                }\n",
    "            }\n",
    "        }]\n",
    "    }\n",
    "}\"\"\"\n",
    "\n",
    "options = HighchartsOptions.from_js_literal(options_as_str)"
   ]
  },
  {
   "cell_type": "markdown",
   "id": "832f54d4-de59-48ed-ab5d-fbeda623f099",
   "metadata": {
    "tags": []
   },
   "source": [
    "## Generate Chart"
   ]
  },
  {
   "cell_type": "code",
   "execution_count": null,
   "id": "71cd0e89-da09-4fa0-bdef-8ed5ce5db44a",
   "metadata": {
    "tags": []
   },
   "outputs": [],
   "source": [
    "chart = Chart.from_options(options)\n",
    "chart.display()"
   ]
  },
  {
   "cell_type": "code",
   "execution_count": null,
   "id": "ab68da56-8e96-4451-9d98-6a93041e33ac",
   "metadata": {},
   "outputs": [],
   "source": []
  }
 ],
 "metadata": {
  "kernelspec": {
   "display_name": "Python 3 (ipykernel)",
   "language": "python",
   "name": "python3"
  },
  "language_info": {
   "codemirror_mode": {
    "name": "ipython",
    "version": 3
   },
   "file_extension": ".py",
   "mimetype": "text/x-python",
   "name": "python",
   "nbconvert_exporter": "python",
   "pygments_lexer": "ipython3",
   "version": "3.11.6"
  }
 },
 "nbformat": 4,
 "nbformat_minor": 5
}
