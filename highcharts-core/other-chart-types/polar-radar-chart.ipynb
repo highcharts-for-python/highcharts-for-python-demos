{
 "cells": [
  {
   "cell_type": "markdown",
   "id": "0c26872a-fc19-4f08-9fd9-ce0b0d961f27",
   "metadata": {},
   "source": [
    "# Polar (Radar) Chart\n",
    "A polar chart showing different series types on a radial axis. Polar charts, also known as a radar charts, are often used to compare multivariate data sets. A polar chart in Highcharts is simply a cartesian chart where the X axis is wrapped around the perimeter. It can render common cartesian series types like line, column, area or arearange."
   ]
  },
  {
   "cell_type": "markdown",
   "id": "6b461423-bdfe-46fd-ac5e-89a8191948e5",
   "metadata": {},
   "source": [
    "## Import Dependencies"
   ]
  },
  {
   "cell_type": "code",
   "execution_count": null,
   "id": "6ebbd6b7-cd27-4304-9d60-5e5cb2950063",
   "metadata": {},
   "outputs": [],
   "source": [
    "from highcharts_core.chart import Chart\n",
    "from highcharts_core.options import HighchartsOptions"
   ]
  },
  {
   "cell_type": "markdown",
   "id": "a07d8167-8441-4d14-97e6-f40983f37278",
   "metadata": {},
   "source": [
    "## Configure Options"
   ]
  },
  {
   "cell_type": "code",
   "execution_count": null,
   "id": "2d4b0bda-3c20-4af7-bf76-caff71606fed",
   "metadata": {},
   "outputs": [],
   "source": [
    "options_as_str = \"\"\"{\n",
    "    chart: {\n",
    "        polar: true\n",
    "    },\n",
    "\n",
    "    title: {\n",
    "        text: 'Highcharts Polar Chart'\n",
    "    },\n",
    "\n",
    "    subtitle: {\n",
    "        text: 'Also known as Radar Chart'\n",
    "    },\n",
    "\n",
    "    pane: {\n",
    "        startAngle: 0,\n",
    "        endAngle: 360\n",
    "    },\n",
    "\n",
    "    xAxis: {\n",
    "        tickInterval: 45,\n",
    "        min: 0,\n",
    "        max: 360,\n",
    "        labels: {\n",
    "            format: '{value}°'\n",
    "        }\n",
    "    },\n",
    "\n",
    "    yAxis: {\n",
    "        min: 0\n",
    "    },\n",
    "\n",
    "    plotOptions: {\n",
    "        series: {\n",
    "            pointStart: 0,\n",
    "            pointInterval: 45\n",
    "        },\n",
    "        column: {\n",
    "            pointPadding: 0,\n",
    "            groupPadding: 0\n",
    "        }\n",
    "    },\n",
    "\n",
    "    series: [{\n",
    "        type: 'column',\n",
    "        name: 'Column',\n",
    "        data: [8, 7, 6, 5, 4, 3, 2, 1],\n",
    "        pointPlacement: 'between'\n",
    "    }, {\n",
    "        type: 'line',\n",
    "        name: 'Line',\n",
    "        data: [1, 2, 3, 4, 5, 6, 7, 8]\n",
    "    }, {\n",
    "        type: 'area',\n",
    "        name: 'Area',\n",
    "        data: [1, 8, 2, 7, 3, 6, 4, 5]\n",
    "    }]\n",
    "}\"\"\"\n",
    "\n",
    "options = HighchartsOptions.from_js_literal(options_as_str)"
   ]
  },
  {
   "cell_type": "markdown",
   "id": "832f54d4-de59-48ed-ab5d-fbeda623f099",
   "metadata": {
    "tags": []
   },
   "source": [
    "## Generate Chart"
   ]
  },
  {
   "cell_type": "code",
   "execution_count": null,
   "id": "71cd0e89-da09-4fa0-bdef-8ed5ce5db44a",
   "metadata": {
    "tags": []
   },
   "outputs": [],
   "source": [
    "chart = Chart.from_options(options)\n",
    "chart.display()"
   ]
  },
  {
   "cell_type": "code",
   "execution_count": null,
   "id": "ab68da56-8e96-4451-9d98-6a93041e33ac",
   "metadata": {},
   "outputs": [],
   "source": []
  }
 ],
 "metadata": {
  "kernelspec": {
   "display_name": "Python 3 (ipykernel)",
   "language": "python",
   "name": "python3"
  },
  "language_info": {
   "codemirror_mode": {
    "name": "ipython",
    "version": 3
   },
   "file_extension": ".py",
   "mimetype": "text/x-python",
   "name": "python",
   "nbconvert_exporter": "python",
   "pygments_lexer": "ipython3",
   "version": "3.11.6"
  }
 },
 "nbformat": 4,
 "nbformat_minor": 5
}
