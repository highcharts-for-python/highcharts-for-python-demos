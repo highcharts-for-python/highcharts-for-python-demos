{
 "cells": [
  {
   "cell_type": "markdown",
   "id": "0c26872a-fc19-4f08-9fd9-ce0b0d961f27",
   "metadata": {},
   "source": [
    "# Arc Diagram\n",
    "Arc diagram chart with circles of different sizes along the X axis, and connections drawn as arcs between them. From the chart we can see that Paris is the city with the most connections to other cities."
   ]
  },
  {
   "cell_type": "markdown",
   "id": "6b461423-bdfe-46fd-ac5e-89a8191948e5",
   "metadata": {},
   "source": [
    "## Import Dependencies"
   ]
  },
  {
   "cell_type": "code",
   "execution_count": null,
   "id": "6ebbd6b7-cd27-4304-9d60-5e5cb2950063",
   "metadata": {},
   "outputs": [],
   "source": [
    "from highcharts_core.chart import Chart\n",
    "from highcharts_core.options import HighchartsOptions"
   ]
  },
  {
   "cell_type": "markdown",
   "id": "a07d8167-8441-4d14-97e6-f40983f37278",
   "metadata": {},
   "source": [
    "## Configure Options"
   ]
  },
  {
   "cell_type": "code",
   "execution_count": null,
   "id": "2d4b0bda-3c20-4af7-bf76-caff71606fed",
   "metadata": {},
   "outputs": [],
   "source": [
    "options_as_str = \"\"\"{\n",
    "\n",
    "    colors: ['#293462', '#a64942', '#fe5f55', '#fff1c1', '#5bd1d7', '#ff502f', '#004d61', '#ff8a5c', '#fff591', '#f5587b', '#fad3cf', '#a696c8', '#5BE7C4', '#266A2E', '#593E1A'],\n",
    "\n",
    "    title: {\n",
    "        text: 'Main train connections in Europe'\n",
    "    },\n",
    "\n",
    "    accessibility: {\n",
    "        description: 'Arc diagram chart with circles of different sizes along the X axis, and connections drawn as arcs between them. From the chart we can see that Paris is the city with the most connections to other cities.',\n",
    "        point: {\n",
    "            valueDescriptionFormat: 'Connection from {point.from} to {point.to}.'\n",
    "        }\n",
    "    },\n",
    "\n",
    "    series: [{\n",
    "        keys: ['from', 'to', 'weight'],\n",
    "        type: 'arcdiagram',\n",
    "        name: 'Train connections',\n",
    "        linkWeight: 1,\n",
    "        centeredLinks: true,\n",
    "        dataLabels: {\n",
    "            rotation: 90,\n",
    "            y: 30,\n",
    "            align: 'left',\n",
    "            color: 'black'\n",
    "        },\n",
    "        offset: '65%',\n",
    "        data: [\n",
    "            ['Hamburg', 'Stuttgart', 1],\n",
    "            ['Hamburg', 'Frankfurt', 1],\n",
    "            ['Hamburg', 'München', 1],\n",
    "            ['Hannover', 'Wien', 1],\n",
    "            ['Hannover', 'München', 1],\n",
    "            ['Berlin', 'Wien', 1],\n",
    "            ['Berlin', 'München', 1],\n",
    "            ['Berlin', 'Stuttgart', 1],\n",
    "            ['Berlin', 'Frankfurt', 1],\n",
    "            ['Berlin', 'Köln', 1],\n",
    "            ['Berlin', 'Düsseldorf', 1],\n",
    "            ['München', 'Düsseldorf', 1],\n",
    "            ['München', 'Wien', 1],\n",
    "            ['München', 'Frankfurt', 1],\n",
    "            ['München', 'Köln', 1],\n",
    "            ['München', 'Amsterdam', 1],\n",
    "            ['Stuttgart', 'Wien', 1],\n",
    "            ['Frankfurt', 'Wien', 1],\n",
    "            ['Frankfurt', 'Amsterdam', 1],\n",
    "            ['Frankfurt', 'Paris', 1],\n",
    "            ['Frankfurt', 'Budapest', 1],\n",
    "            ['Düsseldorf', 'Wien', 1],\n",
    "            ['Düsseldorf', 'Hamburg', 1],\n",
    "            ['Amsterdam', 'Paris', 1],\n",
    "            ['Paris', 'Brest', 1],\n",
    "            ['Paris', 'Nantes', 1],\n",
    "            ['Paris', 'Bayonne', 1],\n",
    "            ['Paris', 'Bordeaux', 1],\n",
    "            ['Paris', 'Toulouse', 1],\n",
    "            ['Paris', 'Montpellier', 1],\n",
    "            ['Paris', 'Marseille', 1],\n",
    "            ['Paris', 'Nice', 1],\n",
    "            ['Paris', 'Milano', 1],\n",
    "            ['Nantes', 'Nice', 1],\n",
    "            ['Bordeaux', 'Lyon', 1],\n",
    "            ['Nantes', 'Lyon', 1],\n",
    "            ['Milano', 'München', 1],\n",
    "            ['Milano', 'Roma', 1],\n",
    "            ['Milano', 'Bari', 1],\n",
    "            ['Milano', 'Napoli', 1],\n",
    "            ['Milano', 'Brindisi', 1],\n",
    "            ['Milano', 'Lamezia Terme', 1],\n",
    "            ['Torino', 'Roma', 1],\n",
    "            ['Venezia', 'Napoli', 1],\n",
    "            ['Roma', 'Bari', 1],\n",
    "            ['Roma', 'Catania', 1],\n",
    "            ['Roma', 'Brindisi', 1],\n",
    "            ['Catania', 'Milano', 1]\n",
    "        ]\n",
    "    }]\n",
    "\n",
    "}\"\"\"\n",
    "options = HighchartsOptions.from_js_literal(options_as_str)"
   ]
  },
  {
   "cell_type": "markdown",
   "id": "8fd69eea-42f7-4c32-8431-21e77e14b568",
   "metadata": {},
   "source": [
    "## Generate Chart"
   ]
  },
  {
   "cell_type": "code",
   "execution_count": null,
   "id": "71cd0e89-da09-4fa0-bdef-8ed5ce5db44a",
   "metadata": {
    "tags": []
   },
   "outputs": [],
   "source": [
    "chart = Chart.from_options(options)\n",
    "chart.display()"
   ]
  },
  {
   "cell_type": "code",
   "execution_count": null,
   "id": "ab68da56-8e96-4451-9d98-6a93041e33ac",
   "metadata": {},
   "outputs": [],
   "source": []
  }
 ],
 "metadata": {
  "kernelspec": {
   "display_name": "Python 3 (ipykernel)",
   "language": "python",
   "name": "python3"
  },
  "language_info": {
   "codemirror_mode": {
    "name": "ipython",
    "version": 3
   },
   "file_extension": ".py",
   "mimetype": "text/x-python",
   "name": "python",
   "nbconvert_exporter": "python",
   "pygments_lexer": "ipython3",
   "version": "3.11.6"
  }
 },
 "nbformat": 4,
 "nbformat_minor": 5
}
