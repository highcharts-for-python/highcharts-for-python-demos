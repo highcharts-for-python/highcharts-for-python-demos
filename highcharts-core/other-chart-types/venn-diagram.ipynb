{
 "cells": [
  {
   "cell_type": "markdown",
   "id": "0c26872a-fc19-4f08-9fd9-ce0b0d961f27",
   "metadata": {},
   "source": [
    "# Venn Diagram\n",
    "Venn diagrams are used to show logical relations between sets. This chart is showing the relationship between the sets \"Good\", \"Bad\", and \"Cheap\", with labels for the different intersections."
   ]
  },
  {
   "cell_type": "markdown",
   "id": "6b461423-bdfe-46fd-ac5e-89a8191948e5",
   "metadata": {},
   "source": [
    "## Import Dependencies"
   ]
  },
  {
   "cell_type": "code",
   "execution_count": null,
   "id": "6ebbd6b7-cd27-4304-9d60-5e5cb2950063",
   "metadata": {},
   "outputs": [],
   "source": [
    "from highcharts_core.chart import Chart\n",
    "from highcharts_core.options import HighchartsOptions"
   ]
  },
  {
   "cell_type": "markdown",
   "id": "a07d8167-8441-4d14-97e6-f40983f37278",
   "metadata": {},
   "source": [
    "## Configure Options"
   ]
  },
  {
   "cell_type": "code",
   "execution_count": null,
   "id": "2d4b0bda-3c20-4af7-bf76-caff71606fed",
   "metadata": {},
   "outputs": [],
   "source": [
    "options_as_str = \"\"\"{\n",
    "    accessibility: {\n",
    "        point: {\n",
    "            descriptionFormat: '{add index 1}. Intersection: {sets}. {#if (gt sets.length 1)}{name}. {/if} Value {value}'\n",
    "        }\n",
    "    },\n",
    "    \n",
    "    series: [{\n",
    "        type: 'venn',\n",
    "        name: 'The Unattainable Triangle',\n",
    "        data: [{\n",
    "            sets: ['Good'],\n",
    "            value: 2\n",
    "        }, {\n",
    "            sets: ['Fast'],\n",
    "            value: 2\n",
    "        }, {\n",
    "            sets: ['Cheap'],\n",
    "            value: 2\n",
    "        }, {\n",
    "            sets: ['Good', 'Fast'],\n",
    "            value: 1,\n",
    "            name: 'More expensive'\n",
    "        }, {\n",
    "            sets: ['Good', 'Cheap'],\n",
    "            value: 1,\n",
    "            name: 'Will take time to deliver'\n",
    "        }, {\n",
    "            sets: ['Fast', 'Cheap'],\n",
    "            value: 1,\n",
    "            name: 'Not the best quality'\n",
    "        }, {\n",
    "            sets: ['Fast', 'Cheap', 'Good'],\n",
    "            value: 1,\n",
    "            name: \"They're dreaming\"\n",
    "        }]\n",
    "    }],\n",
    "    \n",
    "    title: {\n",
    "        text: 'The Unattainable Triangle'\n",
    "    }\n",
    "}\"\"\"\n",
    "\n",
    "options = HighchartsOptions.from_js_literal(options_as_str)"
   ]
  },
  {
   "cell_type": "markdown",
   "id": "832f54d4-de59-48ed-ab5d-fbeda623f099",
   "metadata": {
    "tags": []
   },
   "source": [
    "## Generate Chart"
   ]
  },
  {
   "cell_type": "code",
   "execution_count": null,
   "id": "71cd0e89-da09-4fa0-bdef-8ed5ce5db44a",
   "metadata": {
    "tags": []
   },
   "outputs": [],
   "source": [
    "chart = Chart.from_options(options)\n",
    "chart.display()"
   ]
  },
  {
   "cell_type": "code",
   "execution_count": null,
   "id": "ab68da56-8e96-4451-9d98-6a93041e33ac",
   "metadata": {},
   "outputs": [],
   "source": []
  }
 ],
 "metadata": {
  "kernelspec": {
   "display_name": "Python 3 (ipykernel)",
   "language": "python",
   "name": "python3"
  },
  "language_info": {
   "codemirror_mode": {
    "name": "ipython",
    "version": 3
   },
   "file_extension": ".py",
   "mimetype": "text/x-python",
   "name": "python",
   "nbconvert_exporter": "python",
   "pygments_lexer": "ipython3",
   "version": "3.11.6"
  }
 },
 "nbformat": 4,
 "nbformat_minor": 5
}
