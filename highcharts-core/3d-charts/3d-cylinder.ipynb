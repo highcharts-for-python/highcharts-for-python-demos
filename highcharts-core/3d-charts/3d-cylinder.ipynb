{
 "cells": [
  {
   "cell_type": "markdown",
   "id": "0c26872a-fc19-4f08-9fd9-ce0b0d961f27",
   "metadata": {},
   "source": [
    "# 3D Cylinder Chart Demo\n",
    "Chart showing basic use of 3D cylindrical columns. A 3D cylinder chart is similar to a 3D column chart, with a different shape. The chart visualizes confirmed COVID-19 cases for women in Norway."
   ]
  },
  {
   "cell_type": "markdown",
   "id": "6b461423-bdfe-46fd-ac5e-89a8191948e5",
   "metadata": {},
   "source": [
    "## Import Dependencies"
   ]
  },
  {
   "cell_type": "code",
   "execution_count": null,
   "id": "6ebbd6b7-cd27-4304-9d60-5e5cb2950063",
   "metadata": {},
   "outputs": [],
   "source": [
    "from highcharts_core.chart import Chart\n",
    "from highcharts_core.options import HighchartsOptions"
   ]
  },
  {
   "cell_type": "markdown",
   "id": "a07d8167-8441-4d14-97e6-f40983f37278",
   "metadata": {},
   "source": [
    "## Configure Options"
   ]
  },
  {
   "cell_type": "code",
   "execution_count": null,
   "id": "2d4b0bda-3c20-4af7-bf76-caff71606fed",
   "metadata": {},
   "outputs": [],
   "source": [
    "options_as_str = \"\"\"{\n",
    "    chart: {\n",
    "        type: 'cylinder',\n",
    "        options3d: {\n",
    "            enabled: true,\n",
    "            alpha: 15,\n",
    "            beta: 15,\n",
    "            depth: 50,\n",
    "            viewDistance: 25\n",
    "        }\n",
    "    },\n",
    "    \n",
    "    title: {\n",
    "        text: 'Number of confirmed COVID-19'\n",
    "    },\n",
    "    \n",
    "    subtitle: {\n",
    "        text: 'Source: <a href=\"https://www.fhi.no/en/id/infectious-diseases/coronavirus/daily-reports/daily-reports-COVID19/\" target=\"_blank\">FHI</a>'\n",
    "    },\n",
    "    \n",
    "    xAxis: {\n",
    "        categories: ['0-9', '10-19', '20-29', '30-39', '40-49', '50-59', '60-69', '70-79', '80-89', '90+'],\n",
    "        title: {\n",
    "            text: 'Age groups'\n",
    "        }\n",
    "    },\n",
    "    \n",
    "    yAxis: {\n",
    "        title: {\n",
    "            margin: 20,\n",
    "            text: 'Reported cases'\n",
    "        }\n",
    "    },\n",
    "    \n",
    "    tooltip: {\n",
    "        headerFormat: '<b>Age: {point.x}</b><br>'\n",
    "    },\n",
    "    \n",
    "    plotOptions: {\n",
    "        series: {\n",
    "            depth: 25,\n",
    "        }\n",
    "    },\n",
    "    \n",
    "    series: [{\n",
    "        data: [95321, 169339, 121105, 136046, 106800, 58041, 26766, 14291,\n",
    "            7065, 3283],\n",
    "        name: 'Cases',\n",
    "        showInLegend: false,\n",
    "        colorByPoint: true\n",
    "    }]\n",
    "}\"\"\"\n",
    "\n",
    "options = HighchartsOptions.from_js_literal(options_as_str)"
   ]
  },
  {
   "cell_type": "markdown",
   "id": "aca115d7-e2e2-4647-82dc-076e150db99d",
   "metadata": {},
   "source": [
    "## Generate Chart"
   ]
  },
  {
   "cell_type": "code",
   "execution_count": null,
   "id": "71cd0e89-da09-4fa0-bdef-8ed5ce5db44a",
   "metadata": {
    "tags": []
   },
   "outputs": [],
   "source": [
    "chart = Chart.from_options(options)\n",
    "chart.display()"
   ]
  },
  {
   "cell_type": "code",
   "execution_count": null,
   "id": "ab68da56-8e96-4451-9d98-6a93041e33ac",
   "metadata": {},
   "outputs": [],
   "source": []
  }
 ],
 "metadata": {
  "kernelspec": {
   "display_name": "Python 3 (ipykernel)",
   "language": "python",
   "name": "python3"
  },
  "language_info": {
   "codemirror_mode": {
    "name": "ipython",
    "version": 3
   },
   "file_extension": ".py",
   "mimetype": "text/x-python",
   "name": "python",
   "nbconvert_exporter": "python",
   "pygments_lexer": "ipython3",
   "version": "3.11.6"
  }
 },
 "nbformat": 4,
 "nbformat_minor": 5
}
