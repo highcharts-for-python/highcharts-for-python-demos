{
 "cells": [
  {
   "cell_type": "markdown",
   "id": "0c26872a-fc19-4f08-9fd9-ce0b0d961f27",
   "metadata": {},
   "source": [
    "# 3D Pie Chart Demo\n",
    "Chart demonstrating the use of a 3D pie layout. The \"Xiaomi\" slice has been selected, and is offset from the pie. Click on slices to select and unselect them. Note that 3D pies, while decorative, can be hard to read, and the viewing angles can make slices close to the user appear larger than they are.\n",
    "\n",
    "*OPPO includes OnePlus since Q3 2021*"
   ]
  },
  {
   "cell_type": "markdown",
   "id": "6b461423-bdfe-46fd-ac5e-89a8191948e5",
   "metadata": {},
   "source": [
    "## Import Dependencies"
   ]
  },
  {
   "cell_type": "code",
   "execution_count": null,
   "id": "6ebbd6b7-cd27-4304-9d60-5e5cb2950063",
   "metadata": {},
   "outputs": [],
   "source": [
    "from highcharts_core.chart import Chart\n",
    "from highcharts_core.options import HighchartsOptions"
   ]
  },
  {
   "cell_type": "markdown",
   "id": "a07d8167-8441-4d14-97e6-f40983f37278",
   "metadata": {},
   "source": [
    "## Configure Options"
   ]
  },
  {
   "cell_type": "code",
   "execution_count": null,
   "id": "2d4b0bda-3c20-4af7-bf76-caff71606fed",
   "metadata": {},
   "outputs": [],
   "source": [
    "options_as_str = \"\"\"{\n",
    "    chart: {\n",
    "        type: 'pie',\n",
    "        options3d: {\n",
    "            enabled: true,\n",
    "            alpha: 45,\n",
    "            beta: 0\n",
    "        }\n",
    "    },\n",
    "    \n",
    "    title: {\n",
    "        text: 'Global smartphone shipments market share, Q1 2022',\n",
    "        align: 'left'\n",
    "    },\n",
    "    \n",
    "    subtitle: {\n",
    "        text: 'Source: <a href=\"https://www.counterpointresearch.com/global-smartphone-share/\" target=\"_blank\">Counterpoint Research</a>',\n",
    "        align: 'left'\n",
    "    },\n",
    "    \n",
    "    accessibility: {\n",
    "        point: {\n",
    "            valueSuffix: '%'\n",
    "        }\n",
    "    },\n",
    "    \n",
    "    tooltip: {\n",
    "        pointFormat: '{series.name}: <b>{point.percentage:.1f}%</b>'\n",
    "    },\n",
    "    \n",
    "    plotOptions: {\n",
    "        pie: {\n",
    "            allowPointSelect: true,\n",
    "            cursor: 'pointer',\n",
    "            depth: 35,\n",
    "            dataLabels: {\n",
    "                enabled: true,\n",
    "                format: '{point.name}'\n",
    "            }\n",
    "        }\n",
    "    },\n",
    "    \n",
    "    series: [{\n",
    "        type: 'pie',\n",
    "        name: 'Share',\n",
    "        data: [\n",
    "            ['Samsung', 23],\n",
    "            ['Apple', 18],\n",
    "            {\n",
    "                name: 'Xiaomi',\n",
    "                y: 12,\n",
    "                sliced: true,\n",
    "                selected: true\n",
    "            },\n",
    "            ['Oppo*', 9],\n",
    "            ['Vivo', 8],\n",
    "            ['Others', 30]\n",
    "        ]\n",
    "    }]\n",
    "}\"\"\"\n",
    "\n",
    "options = HighchartsOptions.from_js_literal(options_as_str)"
   ]
  },
  {
   "cell_type": "markdown",
   "id": "aca115d7-e2e2-4647-82dc-076e150db99d",
   "metadata": {},
   "source": [
    "## Generate Chart"
   ]
  },
  {
   "cell_type": "code",
   "execution_count": null,
   "id": "71cd0e89-da09-4fa0-bdef-8ed5ce5db44a",
   "metadata": {
    "tags": []
   },
   "outputs": [],
   "source": [
    "chart = Chart.from_options(options)\n",
    "chart.display()"
   ]
  },
  {
   "cell_type": "code",
   "execution_count": null,
   "id": "ab68da56-8e96-4451-9d98-6a93041e33ac",
   "metadata": {},
   "outputs": [],
   "source": []
  }
 ],
 "metadata": {
  "kernelspec": {
   "display_name": "Python 3 (ipykernel)",
   "language": "python",
   "name": "python3"
  },
  "language_info": {
   "codemirror_mode": {
    "name": "ipython",
    "version": 3
   },
   "file_extension": ".py",
   "mimetype": "text/x-python",
   "name": "python",
   "nbconvert_exporter": "python",
   "pygments_lexer": "ipython3",
   "version": "3.11.6"
  }
 },
 "nbformat": 4,
 "nbformat_minor": 5
}
