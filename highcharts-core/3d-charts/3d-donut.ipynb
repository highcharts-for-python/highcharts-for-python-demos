{
 "cells": [
  {
   "cell_type": "markdown",
   "id": "0c26872a-fc19-4f08-9fd9-ce0b0d961f27",
   "metadata": {},
   "source": [
    "# 3D Donut Chart Demo\n",
    "A variation of a 3D pie chart with an inner radius added. These charts are often referred to as donut charts."
   ]
  },
  {
   "cell_type": "markdown",
   "id": "6b461423-bdfe-46fd-ac5e-89a8191948e5",
   "metadata": {},
   "source": [
    "## Import Dependencies"
   ]
  },
  {
   "cell_type": "code",
   "execution_count": null,
   "id": "6ebbd6b7-cd27-4304-9d60-5e5cb2950063",
   "metadata": {},
   "outputs": [],
   "source": [
    "from highcharts_core.chart import Chart\n",
    "from highcharts_core.options import HighchartsOptions"
   ]
  },
  {
   "cell_type": "markdown",
   "id": "a07d8167-8441-4d14-97e6-f40983f37278",
   "metadata": {},
   "source": [
    "## Configure Options"
   ]
  },
  {
   "cell_type": "code",
   "execution_count": null,
   "id": "2d4b0bda-3c20-4af7-bf76-caff71606fed",
   "metadata": {},
   "outputs": [],
   "source": [
    "options_as_str = \"\"\"{\n",
    "    chart: {\n",
    "        type: 'pie',\n",
    "        options3d: {\n",
    "            enabled: true,\n",
    "            alpha: 45\n",
    "        }\n",
    "    },\n",
    "    \n",
    "    title: {\n",
    "        text: 'Beijing 2022 gold medals by country',\n",
    "        align: 'left'\n",
    "    },\n",
    "    \n",
    "    subtitle: {\n",
    "        text: '3D donut in Highcharts',\n",
    "        align: 'left'\n",
    "    },\n",
    "    \n",
    "    plotOptions: {\n",
    "        pie: {\n",
    "            innerSize: 100,\n",
    "            depth: 45\n",
    "        }\n",
    "    },\n",
    "    \n",
    "    series: [{\n",
    "        name: 'Medals',\n",
    "        data: [\n",
    "            ['Norway', 16],\n",
    "            ['Germany', 12],\n",
    "            ['USA', 8],\n",
    "            ['Sweden', 8],\n",
    "            ['Netherlands', 8],\n",
    "            ['ROC', 6],\n",
    "            ['Austria', 7],\n",
    "            ['Canada', 4],\n",
    "            ['Japan', 3]\n",
    "\n",
    "        ]\n",
    "    }]\n",
    "}\"\"\"\n",
    "\n",
    "options = HighchartsOptions.from_js_literal(options_as_str)"
   ]
  },
  {
   "cell_type": "markdown",
   "id": "aca115d7-e2e2-4647-82dc-076e150db99d",
   "metadata": {},
   "source": [
    "## Generate Chart"
   ]
  },
  {
   "cell_type": "code",
   "execution_count": null,
   "id": "71cd0e89-da09-4fa0-bdef-8ed5ce5db44a",
   "metadata": {
    "tags": []
   },
   "outputs": [],
   "source": [
    "chart = Chart.from_options(options)\n",
    "chart.display()"
   ]
  },
  {
   "cell_type": "code",
   "execution_count": null,
   "id": "ab68da56-8e96-4451-9d98-6a93041e33ac",
   "metadata": {},
   "outputs": [],
   "source": []
  }
 ],
 "metadata": {
  "kernelspec": {
   "display_name": "Python 3 (ipykernel)",
   "language": "python",
   "name": "python3"
  },
  "language_info": {
   "codemirror_mode": {
    "name": "ipython",
    "version": 3
   },
   "file_extension": ".py",
   "mimetype": "text/x-python",
   "name": "python",
   "nbconvert_exporter": "python",
   "pygments_lexer": "ipython3",
   "version": "3.11.6"
  }
 },
 "nbformat": 4,
 "nbformat_minor": 5
}
