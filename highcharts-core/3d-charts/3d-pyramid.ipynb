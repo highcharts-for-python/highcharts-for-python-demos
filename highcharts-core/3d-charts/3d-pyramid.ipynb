{
 "cells": [
  {
   "cell_type": "markdown",
   "id": "0c26872a-fc19-4f08-9fd9-ce0b0d961f27",
   "metadata": {},
   "source": [
    "# 3D Pyramid Chart Demo\n",
    "Highcharts supports drawing pyramid charts in 3D as well as 2D. While the 2D version is typically easier to read, the 3D version is sometimes used for decorative effect."
   ]
  },
  {
   "cell_type": "markdown",
   "id": "6b461423-bdfe-46fd-ac5e-89a8191948e5",
   "metadata": {},
   "source": [
    "## Import Dependencies"
   ]
  },
  {
   "cell_type": "code",
   "execution_count": null,
   "id": "6ebbd6b7-cd27-4304-9d60-5e5cb2950063",
   "metadata": {},
   "outputs": [],
   "source": [
    "from highcharts_core.chart import Chart\n",
    "from highcharts_core.options import HighchartsOptions"
   ]
  },
  {
   "cell_type": "markdown",
   "id": "a07d8167-8441-4d14-97e6-f40983f37278",
   "metadata": {},
   "source": [
    "## Configure Options"
   ]
  },
  {
   "cell_type": "code",
   "execution_count": null,
   "id": "2d4b0bda-3c20-4af7-bf76-caff71606fed",
   "metadata": {},
   "outputs": [],
   "source": [
    "options_as_str = \"\"\"{\n",
    "    chart: {\n",
    "        type: 'pyramid3d',\n",
    "        options3d: {\n",
    "            enabled: true,\n",
    "            alpha: 10,\n",
    "            depth: 50,\n",
    "            viewDistance: 50\n",
    "        }\n",
    "    },\n",
    "    \n",
    "    title: {\n",
    "        text: 'Highcharts Pyramid3D Chart'\n",
    "    },\n",
    "    \n",
    "    plotOptions: {\n",
    "        series: {\n",
    "            dataLabels: {\n",
    "                enabled: true,\n",
    "                format: '<b>{point.name}</b> ({point.y:,.0f})',\n",
    "                allowOverlap: true,\n",
    "                x: 10,\n",
    "                y: -5\n",
    "            },\n",
    "            width: '60%',\n",
    "            height: '80%',\n",
    "            center: ['50%', '45%']\n",
    "        }\n",
    "    },\n",
    "    \n",
    "    series: [{\n",
    "        name: 'Unique users',\n",
    "        data: [\n",
    "            ['Website visits', 15654],\n",
    "            ['Downloads', 4064],\n",
    "            ['Requested price list', 1987],\n",
    "            ['Invoice sent', 976],\n",
    "            ['Finalized', 846]\n",
    "        ]\n",
    "    }]\n",
    "}\"\"\"\n",
    "\n",
    "options = HighchartsOptions.from_js_literal(options_as_str)"
   ]
  },
  {
   "cell_type": "markdown",
   "id": "aca115d7-e2e2-4647-82dc-076e150db99d",
   "metadata": {},
   "source": [
    "## Generate Chart"
   ]
  },
  {
   "cell_type": "code",
   "execution_count": null,
   "id": "71cd0e89-da09-4fa0-bdef-8ed5ce5db44a",
   "metadata": {
    "tags": []
   },
   "outputs": [],
   "source": [
    "chart = Chart.from_options(options)\n",
    "chart.display()"
   ]
  },
  {
   "cell_type": "code",
   "execution_count": null,
   "id": "ab68da56-8e96-4451-9d98-6a93041e33ac",
   "metadata": {},
   "outputs": [],
   "source": []
  }
 ],
 "metadata": {
  "kernelspec": {
   "display_name": "Python 3 (ipykernel)",
   "language": "python",
   "name": "python3"
  },
  "language_info": {
   "codemirror_mode": {
    "name": "ipython",
    "version": 3
   },
   "file_extension": ".py",
   "mimetype": "text/x-python",
   "name": "python",
   "nbconvert_exporter": "python",
   "pygments_lexer": "ipython3",
   "version": "3.11.6"
  }
 },
 "nbformat": 4,
 "nbformat_minor": 5
}
