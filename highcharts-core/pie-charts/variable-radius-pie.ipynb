{
 "cells": [
  {
   "cell_type": "markdown",
   "id": "0c26872a-fc19-4f08-9fd9-ce0b0d961f27",
   "metadata": {},
   "source": [
    "# Variable Radius Pie Chart Demo\n",
    "Variable radius pie charts can be used to visualize a second dimension in a pie chart. In this chart, the more densely populated countries are drawn further out, while the slice width is determined by the size of the country."
   ]
  },
  {
   "cell_type": "markdown",
   "id": "6b461423-bdfe-46fd-ac5e-89a8191948e5",
   "metadata": {},
   "source": [
    "## Import Dependencies"
   ]
  },
  {
   "cell_type": "code",
   "execution_count": null,
   "id": "6ebbd6b7-cd27-4304-9d60-5e5cb2950063",
   "metadata": {},
   "outputs": [],
   "source": [
    "from highcharts_core.chart import Chart\n",
    "from highcharts_core.options import HighchartsOptions"
   ]
  },
  {
   "cell_type": "markdown",
   "id": "a07d8167-8441-4d14-97e6-f40983f37278",
   "metadata": {},
   "source": [
    "## Configure Options"
   ]
  },
  {
   "cell_type": "code",
   "execution_count": null,
   "id": "2d4b0bda-3c20-4af7-bf76-caff71606fed",
   "metadata": {},
   "outputs": [],
   "source": [
    "options_as_str = \"\"\"{\n",
    "    chart: {\n",
    "        type: 'variablepie'\n",
    "    },\n",
    "    \n",
    "    title: {\n",
    "        text: 'Countries compared by population density and total area, 2022.',\n",
    "        align: 'left'\n",
    "    },\n",
    "    \n",
    "    tooltip: {\n",
    "        headerFormat: '',\n",
    "        pointFormat: '<span style=\"color:{point.color}\">\\u25CF</span> <b> {point.name}</b><br/>Area (square km): <b>{point.y}</b><br/>Population density (people per square km): <b>{point.z}</b><br/>'\n",
    "    },\n",
    "    \n",
    "    series: [{\n",
    "        minPointSize: 10,\n",
    "        innerSize: '20%',\n",
    "        zMin: 0,\n",
    "        name: 'countries',\n",
    "        borderRadius: 5,\n",
    "        data: [{\n",
    "            name: 'Spain',\n",
    "            y: 505992,\n",
    "            z: 92\n",
    "        }, {\n",
    "            name: 'France',\n",
    "            y: 551695,\n",
    "            z: 119\n",
    "        }, {\n",
    "            name: 'Poland',\n",
    "            y: 312679,\n",
    "            z: 121\n",
    "        }, {\n",
    "            name: 'Czech Republic',\n",
    "            y: 78865,\n",
    "            z: 136\n",
    "        }, {\n",
    "            name: 'Italy',\n",
    "            y: 301336,\n",
    "            z: 200\n",
    "        }, {\n",
    "            name: 'Switzerland',\n",
    "            y: 41284,\n",
    "            z: 213\n",
    "        }, {\n",
    "            name: 'Germany',\n",
    "            y: 357114,\n",
    "            z: 235\n",
    "        }],\n",
    "        colors: [\n",
    "            '#4caefe',\n",
    "            '#3dc3e8',\n",
    "            '#2dd9db',\n",
    "            '#1feeaf',\n",
    "            '#0ff3a0',\n",
    "            '#00e887',\n",
    "            '#23e274'\n",
    "        ]\n",
    "    }]\n",
    "}\"\"\"\n",
    "\n",
    "options = HighchartsOptions.from_js_literal(options_as_str)"
   ]
  },
  {
   "cell_type": "markdown",
   "id": "d2ed038c-5070-4c6b-808d-1185477b358d",
   "metadata": {},
   "source": [
    "## Generate Chart"
   ]
  },
  {
   "cell_type": "code",
   "execution_count": null,
   "id": "71cd0e89-da09-4fa0-bdef-8ed5ce5db44a",
   "metadata": {
    "tags": []
   },
   "outputs": [],
   "source": [
    "chart = Chart.from_options(options)\n",
    "chart.display()"
   ]
  },
  {
   "cell_type": "code",
   "execution_count": null,
   "id": "c9526b0f-656c-4019-8e74-dd11ea37370e",
   "metadata": {},
   "outputs": [],
   "source": []
  }
 ],
 "metadata": {
  "kernelspec": {
   "display_name": "Python 3 (ipykernel)",
   "language": "python",
   "name": "python3"
  },
  "language_info": {
   "codemirror_mode": {
    "name": "ipython",
    "version": 3
   },
   "file_extension": ".py",
   "mimetype": "text/x-python",
   "name": "python",
   "nbconvert_exporter": "python",
   "pygments_lexer": "ipython3",
   "version": "3.11.6"
  }
 },
 "nbformat": 4,
 "nbformat_minor": 5
}
