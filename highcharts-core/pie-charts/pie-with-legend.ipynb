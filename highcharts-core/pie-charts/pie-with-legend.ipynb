{
 "cells": [
  {
   "cell_type": "markdown",
   "id": "0c26872a-fc19-4f08-9fd9-ce0b0d961f27",
   "metadata": {},
   "source": [
    "# Pie with Legend\n",
    "This pie chart shows how the chart legend can be used to provide information about the individual slices."
   ]
  },
  {
   "cell_type": "markdown",
   "id": "6b461423-bdfe-46fd-ac5e-89a8191948e5",
   "metadata": {},
   "source": [
    "## Import Dependencies"
   ]
  },
  {
   "cell_type": "code",
   "execution_count": null,
   "id": "6ebbd6b7-cd27-4304-9d60-5e5cb2950063",
   "metadata": {},
   "outputs": [],
   "source": [
    "from highcharts_core.chart import Chart\n",
    "from highcharts_core.options import HighchartsOptions"
   ]
  },
  {
   "cell_type": "markdown",
   "id": "a07d8167-8441-4d14-97e6-f40983f37278",
   "metadata": {},
   "source": [
    "## Configure Options"
   ]
  },
  {
   "cell_type": "code",
   "execution_count": null,
   "id": "2d4b0bda-3c20-4af7-bf76-caff71606fed",
   "metadata": {},
   "outputs": [],
   "source": [
    "options_as_str = \"\"\"{\n",
    "    chart: {\n",
    "        plotShadow: false,\n",
    "        type: 'pie'\n",
    "    },\n",
    "    title: {\n",
    "        text: 'Browser market shares in March, 2022',\n",
    "        align: 'left'\n",
    "    },\n",
    "    tooltip: {\n",
    "        pointFormat: '{series.name}: <b>{point.percentage:.1f}%</b>'\n",
    "    },\n",
    "    accessibility: {\n",
    "        point: {\n",
    "            valueSuffix: '%'\n",
    "        }\n",
    "    },\n",
    "    plotOptions: {\n",
    "        pie: {\n",
    "            allowPointSelect: true,\n",
    "            cursor: 'pointer',\n",
    "            dataLabels: {\n",
    "                enabled: false\n",
    "            },\n",
    "            showInLegend: true\n",
    "        }\n",
    "    },\n",
    "    series: [{\n",
    "        name: 'Brands',\n",
    "        colorByPoint: true,\n",
    "        data: [{\n",
    "            name: 'Chrome',\n",
    "            y: 74.77,\n",
    "            sliced: true,\n",
    "            selected: true\n",
    "        },  {\n",
    "            name: 'Edge',\n",
    "            y: 12.82\n",
    "        },  {\n",
    "            name: 'Firefox',\n",
    "            y: 4.63\n",
    "        }, {\n",
    "            name: 'Safari',\n",
    "            y: 2.44\n",
    "        }, {\n",
    "            name: 'Internet Explorer',\n",
    "            y: 2.02\n",
    "        }, {\n",
    "            name: 'Other',\n",
    "            y: 3.28\n",
    "        }]\n",
    "    }]\n",
    "}\"\"\"\n",
    "options = HighchartsOptions.from_js_literal(options_as_str)"
   ]
  },
  {
   "cell_type": "code",
   "execution_count": null,
   "id": "71cd0e89-da09-4fa0-bdef-8ed5ce5db44a",
   "metadata": {
    "tags": []
   },
   "outputs": [],
   "source": [
    "chart = Chart.from_options(options)\n",
    "chart.display()"
   ]
  },
  {
   "cell_type": "code",
   "execution_count": null,
   "id": "c9526b0f-656c-4019-8e74-dd11ea37370e",
   "metadata": {},
   "outputs": [],
   "source": []
  }
 ],
 "metadata": {
  "kernelspec": {
   "display_name": "Python 3 (ipykernel)",
   "language": "python",
   "name": "python3"
  },
  "language_info": {
   "codemirror_mode": {
    "name": "ipython",
    "version": 3
   },
   "file_extension": ".py",
   "mimetype": "text/x-python",
   "name": "python",
   "nbconvert_exporter": "python",
   "pygments_lexer": "ipython3",
   "version": "3.10.5"
  }
 },
 "nbformat": 4,
 "nbformat_minor": 5
}
