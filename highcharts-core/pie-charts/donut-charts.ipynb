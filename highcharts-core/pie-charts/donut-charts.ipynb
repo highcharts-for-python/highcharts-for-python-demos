{
 "cells": [
  {
   "cell_type": "markdown",
   "id": "0c26872a-fc19-4f08-9fd9-ce0b0d961f27",
   "metadata": {},
   "source": [
    "# Donut Charts\n",
    "Donut charts tend to be easier to read and reason about than pie charts, due to the human brain's better ability to process relative area."
   ]
  },
  {
   "cell_type": "markdown",
   "id": "6b461423-bdfe-46fd-ac5e-89a8191948e5",
   "metadata": {},
   "source": [
    "## Import Dependencies"
   ]
  },
  {
   "cell_type": "code",
   "execution_count": null,
   "id": "6ebbd6b7-cd27-4304-9d60-5e5cb2950063",
   "metadata": {},
   "outputs": [],
   "source": [
    "from highcharts_core.chart import Chart\n",
    "from highcharts_core.options import HighchartsOptions"
   ]
  },
  {
   "cell_type": "markdown",
   "id": "a07d8167-8441-4d14-97e6-f40983f37278",
   "metadata": {},
   "source": [
    "## Donut Chart\n",
    "### Configure Options"
   ]
  },
  {
   "cell_type": "code",
   "execution_count": null,
   "id": "2d4b0bda-3c20-4af7-bf76-caff71606fed",
   "metadata": {},
   "outputs": [],
   "source": [
    "options_as_str = \"\"\"{\n",
    "    chart: {\n",
    "        plotBackgroundColor: null,\n",
    "        plotBorderWidth: 0,\n",
    "        plotShadow: false\n",
    "    },\n",
    "    title: {\n",
    "        text: 'Browser<br>shares<br>January<br>2022',\n",
    "        align: 'center',\n",
    "        verticalAlign: 'middle',\n",
    "        y: 100\n",
    "    },\n",
    "    tooltip: {\n",
    "        pointFormat: '{series.name}: <b>{point.percentage:.1f}%</b>'\n",
    "    },\n",
    "    accessibility: {\n",
    "        point: {\n",
    "            valueSuffix: '%'\n",
    "        }\n",
    "    },\n",
    "    plotOptions: {\n",
    "        pie: {\n",
    "            dataLabels: {\n",
    "                enabled: true,\n",
    "                distance: -50,\n",
    "                style: {\n",
    "                    fontWeight: 'bold',\n",
    "                    color: 'white'\n",
    "                }\n",
    "            },\n",
    "            center: ['50%', '75%']\n",
    "        }\n",
    "    },\n",
    "    series: [{\n",
    "        type: 'pie',\n",
    "        name: 'Browser share',\n",
    "        innerSize: '50%',\n",
    "        data: [\n",
    "            ['Chrome', 73.86],\n",
    "            ['Edge', 11.97],\n",
    "            ['Firefox', 5.52],\n",
    "            ['Safari', 2.98],\n",
    "            ['Internet Explorer', 1.90],\n",
    "            {\n",
    "                name: 'Other',\n",
    "                y: 3.77,\n",
    "                dataLabels: {\n",
    "                    enabled: false\n",
    "                }\n",
    "            }\n",
    "        ]\n",
    "    }]\n",
    "}\"\"\"\n",
    "options = HighchartsOptions.from_js_literal(options_as_str)"
   ]
  },
  {
   "cell_type": "markdown",
   "id": "ef6c9a3e-1db1-49c8-b8b9-206e5b4865ed",
   "metadata": {},
   "source": [
    "### Assemble and Display the Chart"
   ]
  },
  {
   "cell_type": "code",
   "execution_count": null,
   "id": "71cd0e89-da09-4fa0-bdef-8ed5ce5db44a",
   "metadata": {
    "tags": []
   },
   "outputs": [],
   "source": [
    "donut_chart = Chart.from_options(options)\n",
    "donut_chart.display()"
   ]
  },
  {
   "cell_type": "markdown",
   "id": "2b9fc8f6-a066-498b-9a08-3aa67a4dd7e3",
   "metadata": {},
   "source": [
    "## Half-donut Chart\n",
    "Representing something closer to a gauge chart, with the donut represented as a semi-circle."
   ]
  },
  {
   "cell_type": "markdown",
   "id": "01a3101a-be8f-4df2-bfbb-6e01a58e2ee5",
   "metadata": {},
   "source": [
    "## Copy Chart, Configure Options, and Display the Chart"
   ]
  },
  {
   "cell_type": "code",
   "execution_count": null,
   "id": "9e019b74-ef9f-44f5-9e5b-443aa5a95d6b",
   "metadata": {
    "tags": []
   },
   "outputs": [],
   "source": [
    "half_donut_chart = donut_chart.copy(preserve_data = False)\n",
    "\n",
    "half_donut_chart.options.series[0].inner_size = '50%'\n",
    "half_donut_chart.options.plot_options.pie.start_angle = -90\n",
    "half_donut_chart.options.plot_options.pie.end_angle = 90\n",
    "\n",
    "half_donut_chart.display(container = 'half_donut_container')"
   ]
  },
  {
   "cell_type": "code",
   "execution_count": null,
   "id": "9b67989a-3418-4fee-ac99-388f88c741e1",
   "metadata": {},
   "outputs": [],
   "source": []
  }
 ],
 "metadata": {
  "kernelspec": {
   "display_name": "Python 3 (ipykernel)",
   "language": "python",
   "name": "python3"
  },
  "language_info": {
   "codemirror_mode": {
    "name": "ipython",
    "version": 3
   },
   "file_extension": ".py",
   "mimetype": "text/x-python",
   "name": "python",
   "nbconvert_exporter": "python",
   "pygments_lexer": "ipython3",
   "version": "3.11.6"
  }
 },
 "nbformat": 4,
 "nbformat_minor": 5
}
