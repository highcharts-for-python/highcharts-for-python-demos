{
 "cells": [
  {
   "cell_type": "markdown",
   "id": "0e8dd158-ee17-4d09-af9f-7063befe8c85",
   "metadata": {},
   "source": [
    "# Stacked Area Chart\n",
    "A demo showing a stacked area chart, also sometimes referred to as a mountain chart. In a stacked chart, the data series values are added together to make up a total."
   ]
  },
  {
   "cell_type": "markdown",
   "id": "53867965-78f2-4fb9-b970-df942a8e81ba",
   "metadata": {},
   "source": [
    "## Import Dependencies"
   ]
  },
  {
   "cell_type": "code",
   "execution_count": null,
   "id": "0afd1804-2196-4b8d-9585-42ede12d7a3f",
   "metadata": {},
   "outputs": [],
   "source": [
    "from highcharts_core.chart import Chart"
   ]
  },
  {
   "cell_type": "markdown",
   "id": "9b434d45-a9f7-4068-a598-b9c26fd14aca",
   "metadata": {},
   "source": [
    "## Configure Options and Series"
   ]
  },
  {
   "cell_type": "code",
   "execution_count": null,
   "id": "061bc5eb-ddc2-4268-ac1d-62f05fafddf8",
   "metadata": {},
   "outputs": [],
   "source": [
    "options = {\n",
    "    'chart': {\n",
    "        'type': 'area'\n",
    "    },\n",
    "    'title': {\n",
    "        'text': 'Greenhouse gases from Norwegian economic activity',\n",
    "        'align': 'left'\n",
    "    },\n",
    "    'subtitle': {\n",
    "        'text': \"\"\"Source: <a href=\"https://www.ssb.no/en/statbank/table/09288/\" target=\"_blank\">SSB</a>\"\"\",\n",
    "        'align': 'left'\n",
    "    },\n",
    "    'yAxis': {\n",
    "        'title': {\n",
    "            'useHTML': True,\n",
    "            'text': 'Million tonnes CO<sub>2</sub>-equivalents'\n",
    "        }\n",
    "    },\n",
    "    'tooltip': {\n",
    "        'shared': True,\n",
    "        'headerFormat': '<span style=\"font-size:12px\"><b>{point.key}</b></span><br>'\n",
    "    },\n",
    "    'plotOptions': {\n",
    "        'series': {\n",
    "            'pointStart': 2012\n",
    "        },\n",
    "        'area': {\n",
    "            'stacking': 'normal',\n",
    "            'lineColor': '#666666',\n",
    "            'lineWidth': 1,\n",
    "            'marker': {\n",
    "                'lineWidth': 1,\n",
    "                'lineColor': '#666666'\n",
    "            }\n",
    "        }\n",
    "    },\n",
    "    'series': [{\n",
    "        'name': 'Ocean transport',\n",
    "        'data': [13234, 12729, 11533, 17798, 10398, 12811, 15483, 16196, 16214]\n",
    "    }, {\n",
    "        'name': 'Households',\n",
    "        'data': [6685, 6535, 6389, 6384, 6251, 5725, 5631, 5047, 5039]\n",
    "\n",
    "    }, {\n",
    "        'name': 'Agriculture and hunting',\n",
    "        'data': [4752, 4820, 4877, 4925, 5006, 4976, 4946, 4911, 4913]\n",
    "    }, {\n",
    "        'name': 'Air transport',\n",
    "        'data': [3164, 3541, 3898, 4115, 3388, 3569, 3887, 4593, 1550]\n",
    "\n",
    "    }, {\n",
    "        'name': 'Construction',\n",
    "        'data': [2019, 2189, 2150, 2217, 2175, 2257, 2344, 2176, 2186]\n",
    "    }]\n",
    "}"
   ]
  },
  {
   "cell_type": "markdown",
   "id": "d8d8d111-f770-4734-a81b-d9629e981706",
   "metadata": {},
   "source": [
    "## Assemble and Display Chart"
   ]
  },
  {
   "cell_type": "code",
   "execution_count": null,
   "id": "74baf4b3-b080-49a3-9ef4-73edbecbb599",
   "metadata": {
    "tags": []
   },
   "outputs": [],
   "source": [
    "chart = Chart.from_options(options)\n",
    "chart.display()"
   ]
  }
 ],
 "metadata": {
  "kernelspec": {
   "display_name": "Python 3 (ipykernel)",
   "language": "python",
   "name": "python3"
  },
  "language_info": {
   "codemirror_mode": {
    "name": "ipython",
    "version": 3
   },
   "file_extension": ".py",
   "mimetype": "text/x-python",
   "name": "python",
   "nbconvert_exporter": "python",
   "pygments_lexer": "ipython3",
   "version": "3.11.6"
  }
 },
 "nbformat": 4,
 "nbformat_minor": 5
}
