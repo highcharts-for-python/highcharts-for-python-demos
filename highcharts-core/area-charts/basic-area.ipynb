{
 "cells": [
  {
   "cell_type": "markdown",
   "id": "3d033821-eebd-4e56-8d75-1640001f6451",
   "metadata": {},
   "source": [
    "# Basic Area Demo\n",
    "Demonstrating a basic area chart, also known as a mountain chart.\n",
    "Area charts are similar to line charts, but commonly used to visualize\n",
    "volumes."
   ]
  },
  {
   "cell_type": "markdown",
   "id": "19324d42-e2dd-41a3-a12f-ca8fbceda5ec",
   "metadata": {},
   "source": [
    "## Import Dependencies"
   ]
  },
  {
   "cell_type": "code",
   "execution_count": null,
   "id": "9962170c-4f90-41f7-873e-0599ab54c046",
   "metadata": {
    "tags": []
   },
   "outputs": [],
   "source": [
    "from highcharts_core.constants import EnforcedNull\n",
    "from highcharts_core.chart import Chart\n",
    "from highcharts_core.options import HighchartsOptions"
   ]
  },
  {
   "cell_type": "markdown",
   "id": "131fd3c7-bacc-4bfb-ae09-d5800a7be170",
   "metadata": {},
   "source": [
    "# Prepare Data"
   ]
  },
  {
   "cell_type": "code",
   "execution_count": null,
   "id": "3c274c54-ddde-40de-b650-b7a5a001ab77",
   "metadata": {
    "tags": []
   },
   "outputs": [],
   "source": [
    "as_dict = {\n",
    "    'chart': {\n",
    "        'type': 'area'\n",
    "    },\n",
    "    'accessibility': {\n",
    "        'description': 'Image description: An area chart compares the nuclear stockpiles of the USA and the USSR/Russia between 1945 and 2017. The number of nuclear weapons is plotted on the Y-axis and the years on the X-axis. The chart is interactive, and the year-on-year stockpile levels can be traced for each country. The US has a stockpile of 6 nuclear weapons at the dawn of the nuclear age in 1945. This number has gradually increased to 369 by 1950 when the USSR enters the arms race with 6 weapons. At this point, the US starts to rapidly build its stockpile culminating in 32,040 warheads by 1966 compared to the USSR’s 7,089. From this peak in 1966, the US stockpile gradually decreases as the USSR’s stockpile expands. By 1978 the USSR has closed the nuclear gap at 25,393. The USSR stockpile continues to grow until it reaches a peak of 45,000 in 1986 compared to the US arsenal of 24,401. From 1986, the nuclear stockpiles of both countries start to fall. By 2000, the numbers have fallen to 10,577 and 21,000 for the US and Russia, respectively. The decreases continue until 2017 at which point the US holds 4,018 weapons compared to Russia’s 4,500.'\n",
    "    },\n",
    "    'title': {\n",
    "        'text': 'US and USSR nuclear stockpiles'\n",
    "    },\n",
    "    'subtitle': {\n",
    "        'text': 'Source: <a href=\"https://fas.org/issues/nuclear-weapons/status-world-nuclear-forces/\" target=\"_blank\">FAS</a>'\n",
    "    },\n",
    "    'xAxis': {\n",
    "        'allowDecimals': False,\n",
    "        'labels': {\n",
    "            'formatter': \"\"\"function () {\n",
    "                return this.value; // clean, unformatted number for year\n",
    "            }\"\"\"\n",
    "        },\n",
    "        'accessibility': {\n",
    "            'rangeDescription': 'Range: 1940 to 2017.'\n",
    "        }\n",
    "    },\n",
    "    'yAxis': {\n",
    "        'title': {\n",
    "            'text': 'Nuclear weapon states'\n",
    "        },\n",
    "        'labels': {\n",
    "            'formatter': \"\"\"function () {\n",
    "                return this.value / 1000 + 'k';\n",
    "            }\"\"\"\n",
    "        }\n",
    "    },\n",
    "    'tooltip': {\n",
    "        'pointFormat': '{series.name} had stockpiled <b>{point.y:,.0f}</b><br/>warheads in {point.x}'\n",
    "    },\n",
    "    'plotOptions': {\n",
    "        'area': {\n",
    "            'pointStart': 1940,\n",
    "            'marker': {\n",
    "                'enabled': False,\n",
    "                'symbol': 'circle',\n",
    "                'radius': 2,\n",
    "                'states': {\n",
    "                    'hover': {\n",
    "                        'enabled': True\n",
    "                    }\n",
    "                }\n",
    "            }\n",
    "        }\n",
    "    },\n",
    "    'series': [{\n",
    "        'name': 'USA',\n",
    "        'data': [\n",
    "            EnforcedNull, EnforcedNull, EnforcedNull, EnforcedNull, EnforcedNull, 2, 9, 13, 50, 170, 299, 438, 841,\n",
    "            1169, 1703, 2422, 3692, 5543, 7345, 12298, 18638, 22229, 25540,\n",
    "            28133, 29463, 31139, 31175, 31255, 29561, 27552, 26008, 25830,\n",
    "            26516, 27835, 28537, 27519, 25914, 25542, 24418, 24138, 24104,\n",
    "            23208, 22886, 23305, 23459, 23368, 23317, 23575, 23205, 22217,\n",
    "            21392, 19008, 13708, 11511, 10979, 10904, 11011, 10903, 10732,\n",
    "            10685, 10577, 10526, 10457, 10027, 8570, 8360, 7853, 5709, 5273,\n",
    "            5113, 5066, 4897, 4881, 4804, 4717, 4571, 4018, 3822, 3785, 3805,\n",
    "            3750, 3708, 3708\n",
    "        ]\n",
    "    }, {\n",
    "        'name': 'USSR/Russia',\n",
    "        'data': [EnforcedNull, EnforcedNull, EnforcedNull, EnforcedNull, EnforcedNull, EnforcedNull, EnforcedNull, EnforcedNull, EnforcedNull,\n",
    "            1, 5, 25, 50, 120, 150, 200, 426, 660, 863, 1048, 1627, 2492,\n",
    "            3346, 4259, 5242, 6144, 7091, 8400, 9490, 10671, 11736, 13279,\n",
    "            14600, 15878, 17286, 19235, 22165, 24281, 26169, 28258, 30665,\n",
    "            32146, 33486, 35130, 36825, 38582, 40159, 38107, 36538, 35078,\n",
    "            32980, 29154, 26734, 24403, 21339, 18179, 15942, 15442, 14368,\n",
    "            13188, 12188, 11152, 10114, 9076, 8038, 7000, 6643, 6286, 5929,\n",
    "            5527, 5215, 4858, 4750, 4650, 4600, 4500, 4490, 4300, 4350, 4330,\n",
    "            4310, 4495, 4477\n",
    "        ]\n",
    "    }]\n",
    "}"
   ]
  },
  {
   "cell_type": "markdown",
   "id": "089b8f43-ea01-4753-a52f-bfd1e23d948d",
   "metadata": {},
   "source": [
    "## Prepare Options"
   ]
  },
  {
   "cell_type": "code",
   "execution_count": null,
   "id": "e8f030f9-6f9c-445b-b0f5-9f6b2118c865",
   "metadata": {
    "tags": []
   },
   "outputs": [],
   "source": [
    "options = HighchartsOptions.from_dict(as_dict)"
   ]
  },
  {
   "cell_type": "markdown",
   "id": "b06bf4c1-988c-49de-994e-96d6948a440e",
   "metadata": {},
   "source": [
    "## Generate Chart"
   ]
  },
  {
   "cell_type": "code",
   "execution_count": null,
   "id": "57aa98fa-be9a-462c-8b07-eb2e97de4f13",
   "metadata": {
    "tags": []
   },
   "outputs": [],
   "source": [
    "chart = Chart.from_options(options)\n",
    "chart.display()"
   ]
  },
  {
   "cell_type": "code",
   "execution_count": null,
   "id": "d7b3b207-476b-4015-84e6-6bba06e6129d",
   "metadata": {},
   "outputs": [],
   "source": []
  }
 ],
 "metadata": {
  "kernelspec": {
   "display_name": "Python 3 (ipykernel)",
   "language": "python",
   "name": "python3"
  },
  "language_info": {
   "codemirror_mode": {
    "name": "ipython",
    "version": 3
   },
   "file_extension": ".py",
   "mimetype": "text/x-python",
   "name": "python",
   "nbconvert_exporter": "python",
   "pygments_lexer": "ipython3",
   "version": "3.11.6"
  }
 },
 "nbformat": 4,
 "nbformat_minor": 5
}
