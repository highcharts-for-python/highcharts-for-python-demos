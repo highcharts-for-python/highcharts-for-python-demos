{
 "cells": [
  {
   "cell_type": "markdown",
   "id": "ece55170-2df8-4765-a5b3-8ea3fb0ed288",
   "metadata": {},
   "source": [
    "# Area Range with Missing Points\n",
    "An area chart showing a gap in the data. By default, Highcharts treats ``null`` values (modeled as ``constants.EnforcedNull`` in Highcharts for Python) as missing data, and will allow for gaps in datasets."
   ]
  },
  {
   "cell_type": "markdown",
   "id": "f36d81fd-85d4-4717-b3e4-ee70512d070e",
   "metadata": {},
   "source": [
    "## Import Dependencies"
   ]
  },
  {
   "cell_type": "code",
   "execution_count": null,
   "id": "a8033a30-4d65-46e0-9fb0-09e80fd2aa81",
   "metadata": {},
   "outputs": [],
   "source": [
    "from highcharts_core.chart import Chart\n",
    "from highcharts_core.constants import EnforcedNull\n",
    "import requests"
   ]
  },
  {
   "cell_type": "markdown",
   "id": "26d654c8-50ca-4d0a-8fe5-3026939ea48a",
   "metadata": {},
   "source": [
    "## Configure Options"
   ]
  },
  {
   "cell_type": "code",
   "execution_count": null,
   "id": "e06df9fa-ce1b-459e-9d2b-737f44daa3ce",
   "metadata": {},
   "outputs": [],
   "source": [
    "options = {\n",
    "    'chart': {\n",
    "        'type': 'area'\n",
    "    },\n",
    "    'title': {\n",
    "        'text': \"Born persons, by boys' name\"\n",
    "    },\n",
    "    'subtitle': {\n",
    "        'text': '* Missing data for Yasin in 2019',\n",
    "        'align': 'right',\n",
    "        'verticalAlign': 'bottom'\n",
    "    },\n",
    "    'legend': {\n",
    "        'layout': 'vertical',\n",
    "        'align': 'left',\n",
    "        'verticalAlign': 'top',\n",
    "        'x': 150,\n",
    "        'y': 60,\n",
    "        'floating': True,\n",
    "        'borderWidth': 1,\n",
    "        'backgroundColor': '#FFFFFF'\n",
    "    },\n",
    "    'yAxis': {\n",
    "        'title': {\n",
    "            'text': 'Amount'\n",
    "        }\n",
    "    },\n",
    "    'plotOptions': {\n",
    "        'series': {\n",
    "            'pointStart': 2014\n",
    "        },\n",
    "        'area': {\n",
    "            'fillOpacity': 0.5\n",
    "        }\n",
    "    },\n",
    "    'credits': {\n",
    "        'enabled': False\n",
    "    },\n",
    "    'series': [{\n",
    "        'name': 'Arvid',\n",
    "        'data': [10, 9, 11, 11, 8, 13, 12, 14]\n",
    "    }, {\n",
    "        'name': 'Yasin',\n",
    "        'data': [13, 9, 10, 10, 8, EnforcedNull, 8, 6]\n",
    "    }]\n",
    "}"
   ]
  },
  {
   "cell_type": "markdown",
   "id": "48067fda-fcfb-4512-87b5-ea7654a95cee",
   "metadata": {},
   "source": [
    "## Assemble and Display Chart"
   ]
  },
  {
   "cell_type": "code",
   "execution_count": null,
   "id": "f05d003c-a40f-4545-9a28-8f2e1c0f198e",
   "metadata": {
    "tags": []
   },
   "outputs": [],
   "source": [
    "chart = Chart.from_options(options)\n",
    "chart.display()"
   ]
  },
  {
   "cell_type": "code",
   "execution_count": null,
   "id": "26e6a34f-3eda-44f6-9991-1a6174454858",
   "metadata": {},
   "outputs": [],
   "source": []
  }
 ],
 "metadata": {
  "kernelspec": {
   "display_name": "Python 3 (ipykernel)",
   "language": "python",
   "name": "python3"
  },
  "language_info": {
   "codemirror_mode": {
    "name": "ipython",
    "version": 3
   },
   "file_extension": ".py",
   "mimetype": "text/x-python",
   "name": "python",
   "nbconvert_exporter": "python",
   "pygments_lexer": "ipython3",
   "version": "3.10.5"
  }
 },
 "nbformat": 4,
 "nbformat_minor": 5
}
