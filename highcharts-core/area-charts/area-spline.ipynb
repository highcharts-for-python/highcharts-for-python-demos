{
 "cells": [
  {
   "cell_type": "markdown",
   "id": "3d033821-eebd-4e56-8d75-1640001f6451",
   "metadata": {},
   "source": [
    "# Area Spline Chart Demo\n",
    "This demo shows a smoothed area chart with an x-axis plot band highlighting an area of interest at the last two points. Plot bands and plot lines are commonly used to draw attention to certain areas or thresholds."
   ]
  },
  {
   "cell_type": "markdown",
   "id": "19324d42-e2dd-41a3-a12f-ca8fbceda5ec",
   "metadata": {},
   "source": [
    "## Import Dependencies"
   ]
  },
  {
   "cell_type": "code",
   "execution_count": null,
   "id": "9962170c-4f90-41f7-873e-0599ab54c046",
   "metadata": {
    "tags": []
   },
   "outputs": [],
   "source": [
    "from highcharts_core.chart import Chart\n",
    "from highcharts_core.options import HighchartsOptions"
   ]
  },
  {
   "cell_type": "markdown",
   "id": "089b8f43-ea01-4753-a52f-bfd1e23d948d",
   "metadata": {},
   "source": [
    "## Configure Options"
   ]
  },
  {
   "cell_type": "code",
   "execution_count": null,
   "id": "e8f030f9-6f9c-445b-b0f5-9f6b2118c865",
   "metadata": {
    "tags": []
   },
   "outputs": [],
   "source": [
    "options_as_str = \"\"\"{\n",
    "    chart: {\n",
    "        type: 'areaspline'\n",
    "    },\n",
    "    \n",
    "    title: {\n",
    "        text: 'Moose and deer hunting in Norway, 2000 - 2021',\n",
    "        align: 'left'\n",
    "    },\n",
    "    \n",
    "    subtitle: {\n",
    "        text: 'Source: <a href=\"https://www.ssb.no/jord-skog-jakt-og-fiskeri/jakt\" target=\"_blank\">SSB</a>',\n",
    "        align: 'left'\n",
    "    },\n",
    "    \n",
    "    legend: {\n",
    "        layout: 'vertical',\n",
    "        align: 'left',\n",
    "        verticalAlign: 'top',\n",
    "        x: 120,\n",
    "        y: 70,\n",
    "        floating: true,\n",
    "        borderWidth: 1,\n",
    "        backgroundColor: '#FFFFFF'\n",
    "    },\n",
    "    \n",
    "    xAxis: {\n",
    "        plotBands: [{ // Highlight the two last years\n",
    "            from: 2019,\n",
    "            to: 2020,\n",
    "            color: 'rgba(68, 170, 213, .2)'\n",
    "        }]\n",
    "    },\n",
    "    \n",
    "    yAxis: {\n",
    "        title: {\n",
    "            text: 'Quantity'\n",
    "        }\n",
    "    },\n",
    "    \n",
    "    tooltip: {\n",
    "        shared: true,\n",
    "        headerFormat: '<b>Hunting season starting autumn {point.x}</b><br>'\n",
    "    },\n",
    "    \n",
    "    credits: {\n",
    "        enabled: false\n",
    "    },\n",
    "    \n",
    "    plotOptions: {\n",
    "        series: {\n",
    "            pointStart: 2000\n",
    "        },\n",
    "        areaspline: {\n",
    "            fillOpacity: 0.5\n",
    "        }\n",
    "    },\n",
    "    \n",
    "    series: [{\n",
    "        name: 'Moose',\n",
    "        data:\n",
    "            [\n",
    "                38000,\n",
    "                37300,\n",
    "                37892,\n",
    "                38564,\n",
    "                36770,\n",
    "                36026,\n",
    "                34978,\n",
    "                35657,\n",
    "                35620,\n",
    "                35971,\n",
    "                36409,\n",
    "                36435,\n",
    "                34643,\n",
    "                34956,\n",
    "                33199,\n",
    "                31136,\n",
    "                30835,\n",
    "                31611,\n",
    "                30666,\n",
    "                30319,\n",
    "                31766\n",
    "            ]\n",
    "    }, {\n",
    "        name: 'Deer',\n",
    "        data:\n",
    "            [\n",
    "                22534,\n",
    "                23599,\n",
    "                24533,\n",
    "                25195,\n",
    "                25896,\n",
    "                27635,\n",
    "                29173,\n",
    "                32646,\n",
    "                35686,\n",
    "                37709,\n",
    "                39143,\n",
    "                36829,\n",
    "                35031,\n",
    "                36202,\n",
    "                35140,\n",
    "                33718,\n",
    "                37773,\n",
    "                42556,\n",
    "                43820,\n",
    "                46445,\n",
    "                50048\n",
    "            ]\n",
    "    }]\n",
    "}\"\"\"\n",
    "\n",
    "options = HighchartsOptions.from_js_literal(options_as_str)"
   ]
  },
  {
   "cell_type": "markdown",
   "id": "b06bf4c1-988c-49de-994e-96d6948a440e",
   "metadata": {},
   "source": [
    "## Generate Chart"
   ]
  },
  {
   "cell_type": "code",
   "execution_count": null,
   "id": "57aa98fa-be9a-462c-8b07-eb2e97de4f13",
   "metadata": {
    "tags": []
   },
   "outputs": [],
   "source": [
    "chart = Chart.from_options(options)\n",
    "chart.display()"
   ]
  },
  {
   "cell_type": "code",
   "execution_count": null,
   "id": "d7b3b207-476b-4015-84e6-6bba06e6129d",
   "metadata": {},
   "outputs": [],
   "source": []
  }
 ],
 "metadata": {
  "kernelspec": {
   "display_name": "Python 3 (ipykernel)",
   "language": "python",
   "name": "python3"
  },
  "language_info": {
   "codemirror_mode": {
    "name": "ipython",
    "version": 3
   },
   "file_extension": ".py",
   "mimetype": "text/x-python",
   "name": "python",
   "nbconvert_exporter": "python",
   "pygments_lexer": "ipython3",
   "version": "3.11.6"
  }
 },
 "nbformat": 4,
 "nbformat_minor": 5
}
