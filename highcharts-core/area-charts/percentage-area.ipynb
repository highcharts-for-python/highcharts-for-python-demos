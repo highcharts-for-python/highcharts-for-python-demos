{
 "cells": [
  {
   "cell_type": "markdown",
   "id": "0e8dd158-ee17-4d09-af9f-7063befe8c85",
   "metadata": {},
   "source": [
    "# Percentage Stacked Area Chart Demo\n",
    "Chart demonstrating a percentage-stacked area chart, a variation of the stacked area chart where each data series is visualized as a running percentage of the total."
   ]
  },
  {
   "cell_type": "markdown",
   "id": "53867965-78f2-4fb9-b970-df942a8e81ba",
   "metadata": {},
   "source": [
    "## Import Dependencies"
   ]
  },
  {
   "cell_type": "code",
   "execution_count": null,
   "id": "0afd1804-2196-4b8d-9585-42ede12d7a3f",
   "metadata": {},
   "outputs": [],
   "source": [
    "from highcharts_core.chart import Chart\n",
    "from highcharts_core.options import HighchartsOptions"
   ]
  },
  {
   "cell_type": "markdown",
   "id": "9b434d45-a9f7-4068-a598-b9c26fd14aca",
   "metadata": {},
   "source": [
    "## Configure Options"
   ]
  },
  {
   "cell_type": "code",
   "execution_count": null,
   "id": "061bc5eb-ddc2-4268-ac1d-62f05fafddf8",
   "metadata": {},
   "outputs": [],
   "source": [
    "options_as_str = \"\"\"{\n",
    "    chart: {\n",
    "        type: 'area'\n",
    "    },\n",
    "    \n",
    "    title: {\n",
    "        useHTML: true,\n",
    "        text: 'Countries/regions with highest Gt CO<sub>2</sub>-emissions',\n",
    "        align: 'left'\n",
    "    },\n",
    "    \n",
    "    subtitle: {\n",
    "        text: 'Source: <a href=\"https://energiogklima.no/klimavakten/land-med-hoyest-utslipp/\" target=\"_blank\">Energi og Klima</a>',\n",
    "        align: 'left'\n",
    "    },\n",
    "    \n",
    "    accessibility: {\n",
    "        point: {\n",
    "            valueDescriptionFormat: '{index}. {point.category}, {point.y:,.1f} billions, {point.percentage:.1f}%.'\n",
    "        }\n",
    "    },\n",
    "    \n",
    "    yAxis: {\n",
    "        labels: {\n",
    "            format: '{value}%'\n",
    "        },\n",
    "        title: {\n",
    "            enabled: false\n",
    "        }\n",
    "    },\n",
    "    \n",
    "    tooltip: {\n",
    "        pointFormat: '<span style=\"color:{series.color}\">{series.name}</span>: <b>{point.percentage:.1f}%</b> ({point.y:,.1f} billion Gt)<br/>',\n",
    "        split: true\n",
    "    },\n",
    "    \n",
    "    plotOptions: {\n",
    "        series: {\n",
    "            pointStart: 1990\n",
    "        },\n",
    "        area: {\n",
    "            stacking: 'percent',\n",
    "            marker: {\n",
    "                enabled: false\n",
    "            }\n",
    "        }\n",
    "    },\n",
    "    \n",
    "    series: [{\n",
    "        name: 'China',\n",
    "        data: [2.5, 2.6, 2.7, 2.9, 3.1, 3.4, 3.5, 3.5, 3.4, 3.4, 3.4,\n",
    "            3.5, 3.9, 4.5, 5.2, 5.9, 6.5, 7, 7.5, 7.9, 8.6, 9.5, 9.8,\n",
    "            10, 10, 9.8, 9.7, 9.9, 10.3, 10.5, 10.7, 10.9\n",
    "        ]\n",
    "    }, {\n",
    "        name: 'USA',\n",
    "        data: [5.1, 5.1, 5.2, 5.3, 5.4, 5.4, 5.6, 5.7, 5.7, 5.8, 6, 5.9,\n",
    "            5.9, 6, 6.1, 6.1, 6.1, 6.1, 5.9, 5.5, 5.7, 5.5, 5.3, 5.5,\n",
    "            5.5, 5.4, 5.2, 5.2, 5.4, 5.3, 4.7, 5\n",
    "        ]\n",
    "    }, {\n",
    "        name: 'EU',\n",
    "        data: [3.9, 3.8, 3.7, 3.6, 3.6, 3.6, 3.7, 3.7, 3.6, 3.6, 3.6, 3.7,\n",
    "            3.7, 3.7, 3.8, 3.7, 3.7, 3.7, 3.6, 3.3, 3.4, 3.3, 3.3, 3.2, 3,\n",
    "            3.1, 3.1, 3.1, 3, 2.9, 2.6, 2.7]\n",
    "    }, {\n",
    "        name: 'India',\n",
    "        data: [0.6, 0.6, 0.7, 0.7, 0.7, 0.8, 0.8, 0.9, 0.9, 1, 1, 1,\n",
    "            1, 1.1, 1.1, 1.2, 1.3, 1.4, 1.5, 1.6, 1.7, 1.8, 2, 2,\n",
    "            2.2, 2.3, 2.4, 2.4, 2.6, 2.6, 2.4, 2.7]\n",
    "    }]\n",
    "}\"\"\"\n",
    "\n",
    "options = HighchartsOptions.from_js_literal(options_as_str)"
   ]
  },
  {
   "cell_type": "markdown",
   "id": "d8d8d111-f770-4734-a81b-d9629e981706",
   "metadata": {},
   "source": [
    "## Generate Chart"
   ]
  },
  {
   "cell_type": "code",
   "execution_count": null,
   "id": "74baf4b3-b080-49a3-9ef4-73edbecbb599",
   "metadata": {
    "tags": []
   },
   "outputs": [],
   "source": [
    "chart = Chart.from_options(options)\n",
    "chart.display()"
   ]
  },
  {
   "cell_type": "code",
   "execution_count": null,
   "id": "ec5e7174-4cf7-4caf-8d37-ffdfea809022",
   "metadata": {},
   "outputs": [],
   "source": []
  }
 ],
 "metadata": {
  "kernelspec": {
   "display_name": "Python 3 (ipykernel)",
   "language": "python",
   "name": "python3"
  },
  "language_info": {
   "codemirror_mode": {
    "name": "ipython",
    "version": 3
   },
   "file_extension": ".py",
   "mimetype": "text/x-python",
   "name": "python",
   "nbconvert_exporter": "python",
   "pygments_lexer": "ipython3",
   "version": "3.11.6"
  }
 },
 "nbformat": 4,
 "nbformat_minor": 5
}
