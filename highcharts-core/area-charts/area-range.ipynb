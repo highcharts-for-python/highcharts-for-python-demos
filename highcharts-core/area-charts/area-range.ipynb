{
 "cells": [
  {
   "cell_type": "markdown",
   "id": "3d033821-eebd-4e56-8d75-1640001f6451",
   "metadata": {},
   "source": [
    "# Area Range Demo\n",
    "Demonstrating an arearange chart with a low and high value per point.\n",
    "Area range charts are commonly used to visualize a range that changes\n",
    "over time."
   ]
  },
  {
   "cell_type": "markdown",
   "id": "19324d42-e2dd-41a3-a12f-ca8fbceda5ec",
   "metadata": {},
   "source": [
    "## Import Dependencies"
   ]
  },
  {
   "cell_type": "code",
   "execution_count": null,
   "id": "9962170c-4f90-41f7-873e-0599ab54c046",
   "metadata": {
    "tags": []
   },
   "outputs": [],
   "source": [
    "from highcharts_core.constants import EnforcedNull\n",
    "from highcharts_core.chart import Chart\n",
    "from highcharts_core.options import HighchartsOptions\n",
    "import requests"
   ]
  },
  {
   "cell_type": "markdown",
   "id": "131fd3c7-bacc-4bfb-ae09-d5800a7be170",
   "metadata": {},
   "source": [
    "# Prepare Data"
   ]
  },
  {
   "cell_type": "code",
   "execution_count": null,
   "id": "3c274c54-ddde-40de-b650-b7a5a001ab77",
   "metadata": {
    "tags": []
   },
   "outputs": [],
   "source": [
    "response = requests.get('https://cdn.jsdelivr.net/gh/highcharts/highcharts@v7.0.0/samples/data/range.json')\n",
    "data = response.text"
   ]
  },
  {
   "cell_type": "markdown",
   "id": "089b8f43-ea01-4753-a52f-bfd1e23d948d",
   "metadata": {},
   "source": [
    "## Prepare Options"
   ]
  },
  {
   "cell_type": "code",
   "execution_count": null,
   "id": "e8f030f9-6f9c-445b-b0f5-9f6b2118c865",
   "metadata": {
    "tags": []
   },
   "outputs": [],
   "source": [
    "options = {\n",
    "    'chart': {\n",
    "        'type': 'arearange',\n",
    "        'zoomType': 'x',\n",
    "        'scrollablePlotArea': {\n",
    "            'minWidth': 600,\n",
    "            'scrollPositionX': 1\n",
    "        }\n",
    "    },\n",
    "\n",
    "    'title': {\n",
    "        'text': 'Temperature variation by day'\n",
    "    },\n",
    "\n",
    "    'xAxis': {\n",
    "        'type': 'datetime',\n",
    "        'accessibility': {\n",
    "            'rangeDescription': 'Range: Jan 1st 2017 to Dec 31 2017.'\n",
    "        }\n",
    "    },\n",
    "\n",
    "    'yAxis': {\n",
    "        'title': {\n",
    "            'text': None\n",
    "        }\n",
    "    },\n",
    "\n",
    "    'tooltip': {\n",
    "        'crosshairs': True,\n",
    "        'shared': True,\n",
    "        'valueSuffix': '°C',\n",
    "        'xDateFormat': '%A, %b %e'\n",
    "    },\n",
    "\n",
    "    'legend': {\n",
    "        'enabled': False\n",
    "    },\n",
    "\n",
    "    'series': [{\n",
    "        'name': 'Temperatures',\n",
    "        'data': data,\n",
    "        'color': {\n",
    "            'linearGradient': {\n",
    "                'x1': 0,\n",
    "                'x2': 0,\n",
    "                'y1': 0,\n",
    "                'y2': 1\n",
    "            },\n",
    "            'stops': [\n",
    "                [0, '#ff0000'],\n",
    "                [1, '#0000ff']\n",
    "            ]\n",
    "        }\n",
    "    }]\n",
    "}"
   ]
  },
  {
   "cell_type": "markdown",
   "id": "b06bf4c1-988c-49de-994e-96d6948a440e",
   "metadata": {},
   "source": [
    "## Generate Chart"
   ]
  },
  {
   "cell_type": "code",
   "execution_count": null,
   "id": "57aa98fa-be9a-462c-8b07-eb2e97de4f13",
   "metadata": {
    "tags": []
   },
   "outputs": [],
   "source": [
    "chart = Chart.from_options(options)\n",
    "chart.display()"
   ]
  },
  {
   "cell_type": "code",
   "execution_count": null,
   "id": "d7b3b207-476b-4015-84e6-6bba06e6129d",
   "metadata": {},
   "outputs": [],
   "source": []
  }
 ],
 "metadata": {
  "kernelspec": {
   "display_name": "Python 3 (ipykernel)",
   "language": "python",
   "name": "python3"
  },
  "language_info": {
   "codemirror_mode": {
    "name": "ipython",
    "version": 3
   },
   "file_extension": ".py",
   "mimetype": "text/x-python",
   "name": "python",
   "nbconvert_exporter": "python",
   "pygments_lexer": "ipython3",
   "version": "3.11.6"
  }
 },
 "nbformat": 4,
 "nbformat_minor": 5
}
