{
 "cells": [
  {
   "cell_type": "markdown",
   "id": "b61ab4e2-55d4-4159-96c0-b5ab12954d59",
   "metadata": {},
   "source": [
    "# ``.from_pandas()`` Demo\n",
    "Highcharts for Python includes a super useful ``.from_pandas()`` method which can quickly and easily generate a Highcharts visualization from a Pandas dataframe."
   ]
  },
  {
   "cell_type": "markdown",
   "id": "36247b6d-8b86-4c54-9142-b47d3f994eca",
   "metadata": {
    "tags": []
   },
   "source": [
    "## Import Dependencies"
   ]
  },
  {
   "cell_type": "code",
   "execution_count": null,
   "id": "03fde0d1-880a-467a-9aac-777ebf7c59f3",
   "metadata": {
    "tags": []
   },
   "outputs": [],
   "source": [
    "from highcharts_core.chart import Chart\n",
    "from highcharts_core.options.series.area import LineSeries\n",
    "import pandas"
   ]
  },
  {
   "cell_type": "markdown",
   "id": "e0000636-b68e-488e-b15f-988ebc1d8b6a",
   "metadata": {},
   "source": [
    "## Prepare the Configuration"
   ]
  },
  {
   "cell_type": "code",
   "execution_count": null,
   "id": "0a5ab4ab-0e15-4cbc-a2fb-83bf97e48d3f",
   "metadata": {
    "tags": []
   },
   "outputs": [],
   "source": [
    "options_kwargs = {\n",
    "    'title': {\n",
    "        'text': 'U.S Solar Employment Growth by Job Category, 2010-2020',\n",
    "        'align': 'left'\n",
    "    },\n",
    "    'subtitle': {\n",
    "        'text': 'Source: <a href=\"https://irecusa.org/programs/solar-jobs-census/\" target=\"_blank\">IREC</a>',\n",
    "        'align': 'left'\n",
    "    },\n",
    "    'y_axis': {\n",
    "        'title': {\n",
    "            'text': 'Number of Employees'\n",
    "        }\n",
    "    },\n",
    "    'x_axis': {\n",
    "        'accessibility': {\n",
    "            'range_description': 'Range: 2010 to 2020'\n",
    "        }\n",
    "    },\n",
    "    'legend': {\n",
    "        'layout': 'vertical',\n",
    "        'align': 'right',\n",
    "        'vertical_align': 'middle'\n",
    "    },\n",
    "    'plot_options': {\n",
    "        'series': {\n",
    "            'point_start': 2010,\n",
    "            'label': {\n",
    "                'connector_allowed': False\n",
    "            }\n",
    "        }\n",
    "    }\n",
    "}"
   ]
  },
  {
   "cell_type": "markdown",
   "id": "83ea7d23-2026-4a15-9144-e30001406eb8",
   "metadata": {},
   "source": [
    "## Populate the Dataframe"
   ]
  },
  {
   "cell_type": "code",
   "execution_count": null,
   "id": "a51b0171-0852-4f72-94a5-af08626144a6",
   "metadata": {
    "tags": []
   },
   "outputs": [],
   "source": [
    "df = pandas.read_csv('from-pandas.csv')\n",
    "df"
   ]
  },
  {
   "cell_type": "markdown",
   "id": "2294327c-46ec-425d-8f4e-0e618607c037",
   "metadata": {},
   "source": [
    "## Create the Series"
   ]
  },
  {
   "cell_type": "code",
   "execution_count": null,
   "id": "8fb6490d-cb69-4ed3-995b-8df7389caee3",
   "metadata": {
    "tags": []
   },
   "outputs": [],
   "source": [
    "series_columns = ['Installation & Developers',\n",
    "                  'Manufacturing',\n",
    "                  'Sales & Distribution',\n",
    "                  'Operations & Maintenance',\n",
    "                  'Other']\n",
    "series = [LineSeries.from_pandas(df, property_map = {'y': x}, series_kwargs = {'name': x}) for x in series_columns]"
   ]
  },
  {
   "cell_type": "markdown",
   "id": "22f593cd-1641-46db-aca3-4aaeec8d59bb",
   "metadata": {},
   "source": [
    "## Assemble the Chart"
   ]
  },
  {
   "cell_type": "code",
   "execution_count": null,
   "id": "d54eeb90-3535-4973-b44e-8109bf480c4e",
   "metadata": {},
   "outputs": [],
   "source": [
    "chart = Chart(options = options_kwargs)\n",
    "chart.add_series(*series)"
   ]
  },
  {
   "cell_type": "markdown",
   "id": "da99cefc-d953-4764-8392-a704e34702a8",
   "metadata": {},
   "source": [
    "## Display the Chart"
   ]
  },
  {
   "cell_type": "code",
   "execution_count": null,
   "id": "97eb8175-132f-48ac-bfeb-58d10dae40a6",
   "metadata": {},
   "outputs": [],
   "source": [
    "chart.display(container = 'highcharts_container')"
   ]
  },
  {
   "cell_type": "code",
   "execution_count": null,
   "id": "fac19969-4243-4ca3-bee5-32ab4dcf7c97",
   "metadata": {},
   "outputs": [],
   "source": []
  }
 ],
 "metadata": {
  "kernelspec": {
   "display_name": "Python 3 (ipykernel)",
   "language": "python",
   "name": "python3"
  },
  "language_info": {
   "codemirror_mode": {
    "name": "ipython",
    "version": 3
   },
   "file_extension": ".py",
   "mimetype": "text/x-python",
   "name": "python",
   "nbconvert_exporter": "python",
   "pygments_lexer": "ipython3",
   "version": "3.10.5"
  }
 },
 "nbformat": 4,
 "nbformat_minor": 5
}
