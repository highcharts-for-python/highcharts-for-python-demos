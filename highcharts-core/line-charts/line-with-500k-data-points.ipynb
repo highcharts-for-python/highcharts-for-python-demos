{
 "cells": [
  {
   "cell_type": "markdown",
   "id": "cef59875-0750-4a44-ba52-ae0cc9e9058a",
   "metadata": {},
   "source": [
    "# Line with 500,000 Data Points\n",
    "Using the Highcharts Boost module, it is possible to render large amounts\n",
    "of data on the client side. This chart shows a line series with 500,000\n",
    "data points. The points represent hourly data since 1965. Click and drag\n",
    "in the chart to zoom in."
   ]
  },
  {
   "cell_type": "markdown",
   "id": "9fe70031-41c4-4527-9ede-88ce2e1258f1",
   "metadata": {},
   "source": [
    "## Import Dependencies"
   ]
  },
  {
   "cell_type": "code",
   "execution_count": 1,
   "id": "a096590a-7138-4d70-9903-09aa8bf857ea",
   "metadata": {
    "tags": []
   },
   "outputs": [],
   "source": [
    "import random\n",
    "import math\n",
    "from datetime import timedelta\n",
    "from validator_collection import validators\n",
    "from highcharts_core.chart import Chart\n",
    "from highcharts_core.options import HighchartsOptions\n",
    "from highcharts_core.options.series.area import LineSeries"
   ]
  },
  {
   "cell_type": "markdown",
   "id": "fe8f327a-d341-4d58-8952-2d85939a8d77",
   "metadata": {},
   "source": [
    "## Function to Produce Data"
   ]
  },
  {
   "cell_type": "code",
   "execution_count": 2,
   "id": "82099e32-7636-481b-a9bb-8641e3d2a1b7",
   "metadata": {
    "tags": []
   },
   "outputs": [],
   "source": [
    "def get_data_points(n):\n",
    "    start_time = validators.datetime('1955-01-01')\n",
    "    a = b = c = spike = 0\n",
    "    x_values = []\n",
    "    hour_count = 0\n",
    "    data_points = []\n",
    "    while len(x_values) < n:\n",
    "        if not x_values:\n",
    "            new_time = start_time\n",
    "        else:\n",
    "            new_time = x_values[-1] + timedelta(hours = 1)\n",
    "        if hour_count % 100 == 0:\n",
    "            a = 2 * random.random()\n",
    "        if hour_count % 1000 == 0:\n",
    "            b = 2 * random.random()\n",
    "        if hour_count % 10000 == 0:\n",
    "            c = 2 * random.random()\n",
    "        if hour_count % 50000 == 0:\n",
    "            spike = 10\n",
    "        else:\n",
    "            spike = 0\n",
    "        data_point = 2 * math.sin(hour_count / 100) + a + b + c + spike + random.random()\n",
    "        data_points.append(data_point)\n",
    "        hour_count += 1\n",
    "        x_values.append(new_time)\n",
    "        \n",
    "    return x_values, data_points"
   ]
  },
  {
   "cell_type": "markdown",
   "id": "de26fec6-5941-46ff-8be1-3ea9c2530e4d",
   "metadata": {},
   "source": [
    "## Create Chart Options"
   ]
  },
  {
   "cell_type": "code",
   "execution_count": 3,
   "id": "72cfa723-71b5-4e00-82ab-8ec17bc8b8b6",
   "metadata": {
    "tags": []
   },
   "outputs": [],
   "source": [
    "options_as_js_literal_string = \"\"\"{\n",
    "\n",
    "    chart: {\n",
    "        zoomType: 'x'\n",
    "    },\n",
    "\n",
    "    title: {\n",
    "        text: 'Highcharts drawing 500,000 points'\n",
    "    },\n",
    "\n",
    "    subtitle: {\n",
    "        text: 'Using the Boost module'\n",
    "    },\n",
    "\n",
    "    accessibility: {\n",
    "        screenReaderSection: {\n",
    "            beforeChartFormat: '<{headingTagName}>{chartTitle}</{headingTagName}><div>{chartSubtitle}</div><div>{chartLongdesc}</div><div>{xAxisDescription}</div><div>{yAxisDescription}</div>'\n",
    "        }\n",
    "    },\n",
    "\n",
    "    tooltip: {\n",
    "        valueDecimals: 2\n",
    "    },\n",
    "\n",
    "    xAxis: {\n",
    "        type: 'datetime'\n",
    "    }\n",
    "}\"\"\"\n",
    "\n",
    "options = HighchartsOptions.from_js_literal(options_as_js_literal_string)\n",
    "options.add_series(LineSeries(line_width = 0.5, name = 'Hourly data points'))"
   ]
  },
  {
   "cell_type": "markdown",
   "id": "060f0f57-8475-4c57-bf32-6bbb44d92c3f",
   "metadata": {},
   "source": [
    "## Get Data Points"
   ]
  },
  {
   "cell_type": "code",
   "execution_count": 4,
   "id": "f9ba03ca-b4d0-4f8f-8c5a-5a150c9ba8cb",
   "metadata": {
    "tags": []
   },
   "outputs": [],
   "source": [
    "n = 500000\n",
    "x_values, y_values = get_data_points(n)\n",
    "data_points = zip(x_values, y_values)\n",
    "options.series[0].data = data_points"
   ]
  },
  {
   "cell_type": "markdown",
   "id": "adc03e55-6b55-4d04-a35f-13ca0bce182b",
   "metadata": {},
   "source": [
    "## Assemble Chart"
   ]
  },
  {
   "cell_type": "code",
   "execution_count": 5,
   "id": "ae8b0f40-02a9-4e49-a840-25f5e81683a2",
   "metadata": {
    "tags": []
   },
   "outputs": [
    {
     "ename": "KeyboardInterrupt",
     "evalue": "",
     "output_type": "error",
     "traceback": [
      "\u001b[1;31m---------------------------------------------------------------------------\u001b[0m",
      "\u001b[1;31mKeyboardInterrupt\u001b[0m                         Traceback (most recent call last)",
      "Cell \u001b[1;32mIn[5], line 2\u001b[0m\n\u001b[0;32m      1\u001b[0m chart \u001b[38;5;241m=\u001b[39m Chart\u001b[38;5;241m.\u001b[39mfrom_options(options)\n\u001b[1;32m----> 2\u001b[0m \u001b[43mchart\u001b[49m\u001b[38;5;241;43m.\u001b[39;49m\u001b[43mdisplay\u001b[49m\u001b[43m(\u001b[49m\u001b[43m)\u001b[49m\n",
      "File \u001b[1;32m~\\github\\hcp\\highcharts-core\\highcharts_core\\chart.py:699\u001b[0m, in \u001b[0;36mChart.display\u001b[1;34m(self, global_options, container, retries, interval)\u001b[0m\n\u001b[0;32m    696\u001b[0m html_str \u001b[38;5;241m=\u001b[39m \u001b[38;5;28mself\u001b[39m\u001b[38;5;241m.\u001b[39m_jupyter_container_html(container)\n\u001b[0;32m    697\u001b[0m html_display \u001b[38;5;241m=\u001b[39m display_mod\u001b[38;5;241m.\u001b[39mHTML(data \u001b[38;5;241m=\u001b[39m html_str)\n\u001b[1;32m--> 699\u001b[0m chart_js_str \u001b[38;5;241m=\u001b[39m \u001b[38;5;28;43mself\u001b[39;49m\u001b[38;5;241;43m.\u001b[39;49m\u001b[43m_jupyter_javascript\u001b[49m\u001b[43m(\u001b[49m\u001b[43mglobal_options\u001b[49m\u001b[43m \u001b[49m\u001b[38;5;241;43m=\u001b[39;49m\u001b[43m \u001b[49m\u001b[43mglobal_options\u001b[49m\u001b[43m,\u001b[49m\u001b[43m \u001b[49m\n\u001b[0;32m    700\u001b[0m \u001b[43m                                        \u001b[49m\u001b[43mcontainer\u001b[49m\u001b[43m \u001b[49m\u001b[38;5;241;43m=\u001b[39;49m\u001b[43m \u001b[49m\u001b[43mcontainer\u001b[49m\u001b[43m,\u001b[49m\n\u001b[0;32m    701\u001b[0m \u001b[43m                                        \u001b[49m\u001b[43mretries\u001b[49m\u001b[43m \u001b[49m\u001b[38;5;241;43m=\u001b[39;49m\u001b[43m \u001b[49m\u001b[43mretries\u001b[49m\u001b[43m,\u001b[49m\n\u001b[0;32m    702\u001b[0m \u001b[43m                                        \u001b[49m\u001b[43minterval\u001b[49m\u001b[43m \u001b[49m\u001b[38;5;241;43m=\u001b[39;49m\u001b[43m \u001b[49m\u001b[43minterval\u001b[49m\u001b[43m)\u001b[49m\n\u001b[0;32m    703\u001b[0m javascript_display \u001b[38;5;241m=\u001b[39m display_mod\u001b[38;5;241m.\u001b[39mJavascript(data \u001b[38;5;241m=\u001b[39m chart_js_str)\n\u001b[0;32m    705\u001b[0m display(include_display)\n",
      "File \u001b[1;32m~\\github\\hcp\\highcharts-core\\highcharts_core\\chart.py:94\u001b[0m, in \u001b[0;36mChart._jupyter_javascript\u001b[1;34m(self, global_options, container, retries, interval)\u001b[0m\n\u001b[0;32m     91\u001b[0m \u001b[38;5;28;01mif\u001b[39;00m global_options:\n\u001b[0;32m     92\u001b[0m     js_str \u001b[38;5;241m+\u001b[39m\u001b[38;5;241m=\u001b[39m \u001b[38;5;124m'\u001b[39m\u001b[38;5;130;01m\\n\u001b[39;00m\u001b[38;5;124m'\u001b[39m \u001b[38;5;241m+\u001b[39m utility_functions\u001b[38;5;241m.\u001b[39mprep_js_for_jupyter(global_options\u001b[38;5;241m.\u001b[39mto_js_literal()) \u001b[38;5;241m+\u001b[39m \u001b[38;5;124m'\u001b[39m\u001b[38;5;130;01m\\n\u001b[39;00m\u001b[38;5;124m'\u001b[39m\n\u001b[1;32m---> 94\u001b[0m js_str \u001b[38;5;241m+\u001b[39m\u001b[38;5;241m=\u001b[39m utility_functions\u001b[38;5;241m.\u001b[39mprep_js_for_jupyter(\u001b[38;5;28;43mself\u001b[39;49m\u001b[38;5;241;43m.\u001b[39;49m\u001b[43mto_js_literal\u001b[49m\u001b[43m(\u001b[49m\u001b[43m)\u001b[49m,\n\u001b[0;32m     95\u001b[0m                                                 container \u001b[38;5;241m=\u001b[39m \u001b[38;5;28mself\u001b[39m\u001b[38;5;241m.\u001b[39mcontainer,\n\u001b[0;32m     96\u001b[0m                                                 retries \u001b[38;5;241m=\u001b[39m retries,\n\u001b[0;32m     97\u001b[0m                                                 interval \u001b[38;5;241m=\u001b[39m interval)\n\u001b[0;32m     99\u001b[0m \u001b[38;5;28mself\u001b[39m\u001b[38;5;241m.\u001b[39mcontainer \u001b[38;5;241m=\u001b[39m original_container\n\u001b[0;32m    101\u001b[0m \u001b[38;5;28;01mreturn\u001b[39;00m js_str\n",
      "File \u001b[1;32m~\\github\\hcp\\highcharts-core\\highcharts_core\\chart.py:276\u001b[0m, in \u001b[0;36mChart.to_js_literal\u001b[1;34m(self, filename, encoding)\u001b[0m\n\u001b[0;32m    274\u001b[0m \u001b[38;5;28;01mfor\u001b[39;00m key \u001b[38;5;129;01min\u001b[39;00m untrimmed:\n\u001b[0;32m    275\u001b[0m     item \u001b[38;5;241m=\u001b[39m untrimmed[key]\n\u001b[1;32m--> 276\u001b[0m     serialized \u001b[38;5;241m=\u001b[39m \u001b[43mserialize_to_js_literal\u001b[49m\u001b[43m(\u001b[49m\u001b[43mitem\u001b[49m\u001b[43m,\u001b[49m\u001b[43m \u001b[49m\u001b[43mencoding\u001b[49m\u001b[43m \u001b[49m\u001b[38;5;241;43m=\u001b[39;49m\u001b[43m \u001b[49m\u001b[43mencoding\u001b[49m\u001b[43m)\u001b[49m\n\u001b[0;32m    277\u001b[0m     \u001b[38;5;28;01mif\u001b[39;00m serialized \u001b[38;5;129;01mis\u001b[39;00m \u001b[38;5;129;01mnot\u001b[39;00m \u001b[38;5;28;01mNone\u001b[39;00m:\n\u001b[0;32m    278\u001b[0m         as_dict[key] \u001b[38;5;241m=\u001b[39m serialized\n",
      "File \u001b[1;32m~\\github\\hcp\\highcharts-core\\highcharts_core\\js_literal_functions.py:30\u001b[0m, in \u001b[0;36mserialize_to_js_literal\u001b[1;34m(item, encoding)\u001b[0m\n\u001b[0;32m     28\u001b[0m     \u001b[38;5;28;01mreturn\u001b[39;00m [serialize_to_js_literal(x, encoding \u001b[38;5;241m=\u001b[39m encoding) \u001b[38;5;28;01mfor\u001b[39;00m x \u001b[38;5;129;01min\u001b[39;00m item]\n\u001b[0;32m     29\u001b[0m \u001b[38;5;28;01melif\u001b[39;00m \u001b[38;5;28mhasattr\u001b[39m(item, \u001b[38;5;124m'\u001b[39m\u001b[38;5;124mto_js_literal\u001b[39m\u001b[38;5;124m'\u001b[39m):\n\u001b[1;32m---> 30\u001b[0m     \u001b[38;5;28;01mreturn\u001b[39;00m \u001b[43mitem\u001b[49m\u001b[38;5;241;43m.\u001b[39;49m\u001b[43mto_js_literal\u001b[49m\u001b[43m(\u001b[49m\u001b[43mencoding\u001b[49m\u001b[43m \u001b[49m\u001b[38;5;241;43m=\u001b[39;49m\u001b[43m \u001b[49m\u001b[43mencoding\u001b[49m\u001b[43m)\u001b[49m\n\u001b[0;32m     31\u001b[0m \u001b[38;5;28;01melif\u001b[39;00m \u001b[38;5;28misinstance\u001b[39m(item, constants\u001b[38;5;241m.\u001b[39mEnforcedNullType) \u001b[38;5;129;01mor\u001b[39;00m item \u001b[38;5;241m==\u001b[39m \u001b[38;5;124m'\u001b[39m\u001b[38;5;124mnull\u001b[39m\u001b[38;5;124m'\u001b[39m:\n\u001b[0;32m     32\u001b[0m     \u001b[38;5;28;01mreturn\u001b[39;00m constants\u001b[38;5;241m.\u001b[39mEnforcedNull\n",
      "File \u001b[1;32m~\\github\\hcp\\highcharts-core\\highcharts_core\\metaclasses.py:334\u001b[0m, in \u001b[0;36mHighchartsMeta.to_js_literal\u001b[1;34m(self, filename, encoding)\u001b[0m\n\u001b[0;32m    332\u001b[0m \u001b[38;5;28;01mfor\u001b[39;00m key \u001b[38;5;129;01min\u001b[39;00m untrimmed:\n\u001b[0;32m    333\u001b[0m     item \u001b[38;5;241m=\u001b[39m untrimmed[key]\n\u001b[1;32m--> 334\u001b[0m     serialized \u001b[38;5;241m=\u001b[39m \u001b[43mserialize_to_js_literal\u001b[49m\u001b[43m(\u001b[49m\u001b[43mitem\u001b[49m\u001b[43m,\u001b[49m\u001b[43m \u001b[49m\u001b[43mencoding\u001b[49m\u001b[43m \u001b[49m\u001b[38;5;241;43m=\u001b[39;49m\u001b[43m \u001b[49m\u001b[43mencoding\u001b[49m\u001b[43m)\u001b[49m\n\u001b[0;32m    335\u001b[0m     \u001b[38;5;28;01mif\u001b[39;00m serialized \u001b[38;5;129;01mis\u001b[39;00m \u001b[38;5;129;01mnot\u001b[39;00m \u001b[38;5;28;01mNone\u001b[39;00m:\n\u001b[0;32m    336\u001b[0m         as_dict[key] \u001b[38;5;241m=\u001b[39m serialized\n",
      "File \u001b[1;32m~\\github\\hcp\\highcharts-core\\highcharts_core\\js_literal_functions.py:28\u001b[0m, in \u001b[0;36mserialize_to_js_literal\u001b[1;34m(item, encoding)\u001b[0m\n\u001b[0;32m     15\u001b[0m \u001b[38;5;250m\u001b[39m\u001b[38;5;124;03m\"\"\"Convert ``item`` to the contents of a JavaScript object literal code snippet.\u001b[39;00m\n\u001b[0;32m     16\u001b[0m \n\u001b[0;32m     17\u001b[0m \u001b[38;5;124;03m:param item: A value that is to be converted into a JS object literal notation value.\u001b[39;00m\n\u001b[1;32m   (...)\u001b[0m\n\u001b[0;32m     25\u001b[0m \u001b[38;5;124;03m:rtype: :class:`str <python:str>` or :obj:`None <python:None>`\u001b[39;00m\n\u001b[0;32m     26\u001b[0m \u001b[38;5;124;03m\"\"\"\u001b[39;00m\n\u001b[0;32m     27\u001b[0m \u001b[38;5;28;01mif\u001b[39;00m checkers\u001b[38;5;241m.\u001b[39mis_iterable(item, forbid_literals \u001b[38;5;241m=\u001b[39m (\u001b[38;5;28mstr\u001b[39m, \u001b[38;5;28mbytes\u001b[39m, \u001b[38;5;28mdict\u001b[39m, UserDict)):\n\u001b[1;32m---> 28\u001b[0m     \u001b[38;5;28;01mreturn\u001b[39;00m [serialize_to_js_literal(x, encoding \u001b[38;5;241m=\u001b[39m encoding) \u001b[38;5;28;01mfor\u001b[39;00m x \u001b[38;5;129;01min\u001b[39;00m item]\n\u001b[0;32m     29\u001b[0m \u001b[38;5;28;01melif\u001b[39;00m \u001b[38;5;28mhasattr\u001b[39m(item, \u001b[38;5;124m'\u001b[39m\u001b[38;5;124mto_js_literal\u001b[39m\u001b[38;5;124m'\u001b[39m):\n\u001b[0;32m     30\u001b[0m     \u001b[38;5;28;01mreturn\u001b[39;00m item\u001b[38;5;241m.\u001b[39mto_js_literal(encoding \u001b[38;5;241m=\u001b[39m encoding)\n",
      "File \u001b[1;32m~\\github\\hcp\\highcharts-core\\highcharts_core\\js_literal_functions.py:28\u001b[0m, in \u001b[0;36m<listcomp>\u001b[1;34m(.0)\u001b[0m\n\u001b[0;32m     15\u001b[0m \u001b[38;5;250m\u001b[39m\u001b[38;5;124;03m\"\"\"Convert ``item`` to the contents of a JavaScript object literal code snippet.\u001b[39;00m\n\u001b[0;32m     16\u001b[0m \n\u001b[0;32m     17\u001b[0m \u001b[38;5;124;03m:param item: A value that is to be converted into a JS object literal notation value.\u001b[39;00m\n\u001b[1;32m   (...)\u001b[0m\n\u001b[0;32m     25\u001b[0m \u001b[38;5;124;03m:rtype: :class:`str <python:str>` or :obj:`None <python:None>`\u001b[39;00m\n\u001b[0;32m     26\u001b[0m \u001b[38;5;124;03m\"\"\"\u001b[39;00m\n\u001b[0;32m     27\u001b[0m \u001b[38;5;28;01mif\u001b[39;00m checkers\u001b[38;5;241m.\u001b[39mis_iterable(item, forbid_literals \u001b[38;5;241m=\u001b[39m (\u001b[38;5;28mstr\u001b[39m, \u001b[38;5;28mbytes\u001b[39m, \u001b[38;5;28mdict\u001b[39m, UserDict)):\n\u001b[1;32m---> 28\u001b[0m     \u001b[38;5;28;01mreturn\u001b[39;00m [\u001b[43mserialize_to_js_literal\u001b[49m\u001b[43m(\u001b[49m\u001b[43mx\u001b[49m\u001b[43m,\u001b[49m\u001b[43m \u001b[49m\u001b[43mencoding\u001b[49m\u001b[43m \u001b[49m\u001b[38;5;241;43m=\u001b[39;49m\u001b[43m \u001b[49m\u001b[43mencoding\u001b[49m\u001b[43m)\u001b[49m \u001b[38;5;28;01mfor\u001b[39;00m x \u001b[38;5;129;01min\u001b[39;00m item]\n\u001b[0;32m     29\u001b[0m \u001b[38;5;28;01melif\u001b[39;00m \u001b[38;5;28mhasattr\u001b[39m(item, \u001b[38;5;124m'\u001b[39m\u001b[38;5;124mto_js_literal\u001b[39m\u001b[38;5;124m'\u001b[39m):\n\u001b[0;32m     30\u001b[0m     \u001b[38;5;28;01mreturn\u001b[39;00m item\u001b[38;5;241m.\u001b[39mto_js_literal(encoding \u001b[38;5;241m=\u001b[39m encoding)\n",
      "File \u001b[1;32m~\\github\\hcp\\highcharts-core\\highcharts_core\\js_literal_functions.py:30\u001b[0m, in \u001b[0;36mserialize_to_js_literal\u001b[1;34m(item, encoding)\u001b[0m\n\u001b[0;32m     28\u001b[0m     \u001b[38;5;28;01mreturn\u001b[39;00m [serialize_to_js_literal(x, encoding \u001b[38;5;241m=\u001b[39m encoding) \u001b[38;5;28;01mfor\u001b[39;00m x \u001b[38;5;129;01min\u001b[39;00m item]\n\u001b[0;32m     29\u001b[0m \u001b[38;5;28;01melif\u001b[39;00m \u001b[38;5;28mhasattr\u001b[39m(item, \u001b[38;5;124m'\u001b[39m\u001b[38;5;124mto_js_literal\u001b[39m\u001b[38;5;124m'\u001b[39m):\n\u001b[1;32m---> 30\u001b[0m     \u001b[38;5;28;01mreturn\u001b[39;00m \u001b[43mitem\u001b[49m\u001b[38;5;241;43m.\u001b[39;49m\u001b[43mto_js_literal\u001b[49m\u001b[43m(\u001b[49m\u001b[43mencoding\u001b[49m\u001b[43m \u001b[49m\u001b[38;5;241;43m=\u001b[39;49m\u001b[43m \u001b[49m\u001b[43mencoding\u001b[49m\u001b[43m)\u001b[49m\n\u001b[0;32m     31\u001b[0m \u001b[38;5;28;01melif\u001b[39;00m \u001b[38;5;28misinstance\u001b[39m(item, constants\u001b[38;5;241m.\u001b[39mEnforcedNullType) \u001b[38;5;129;01mor\u001b[39;00m item \u001b[38;5;241m==\u001b[39m \u001b[38;5;124m'\u001b[39m\u001b[38;5;124mnull\u001b[39m\u001b[38;5;124m'\u001b[39m:\n\u001b[0;32m     32\u001b[0m     \u001b[38;5;28;01mreturn\u001b[39;00m constants\u001b[38;5;241m.\u001b[39mEnforcedNull\n",
      "File \u001b[1;32m~\\github\\hcp\\highcharts-core\\highcharts_core\\metaclasses.py:334\u001b[0m, in \u001b[0;36mHighchartsMeta.to_js_literal\u001b[1;34m(self, filename, encoding)\u001b[0m\n\u001b[0;32m    332\u001b[0m \u001b[38;5;28;01mfor\u001b[39;00m key \u001b[38;5;129;01min\u001b[39;00m untrimmed:\n\u001b[0;32m    333\u001b[0m     item \u001b[38;5;241m=\u001b[39m untrimmed[key]\n\u001b[1;32m--> 334\u001b[0m     serialized \u001b[38;5;241m=\u001b[39m \u001b[43mserialize_to_js_literal\u001b[49m\u001b[43m(\u001b[49m\u001b[43mitem\u001b[49m\u001b[43m,\u001b[49m\u001b[43m \u001b[49m\u001b[43mencoding\u001b[49m\u001b[43m \u001b[49m\u001b[38;5;241;43m=\u001b[39;49m\u001b[43m \u001b[49m\u001b[43mencoding\u001b[49m\u001b[43m)\u001b[49m\n\u001b[0;32m    335\u001b[0m     \u001b[38;5;28;01mif\u001b[39;00m serialized \u001b[38;5;129;01mis\u001b[39;00m \u001b[38;5;129;01mnot\u001b[39;00m \u001b[38;5;28;01mNone\u001b[39;00m:\n\u001b[0;32m    336\u001b[0m         as_dict[key] \u001b[38;5;241m=\u001b[39m serialized\n",
      "File \u001b[1;32m~\\github\\hcp\\highcharts-core\\highcharts_core\\js_literal_functions.py:28\u001b[0m, in \u001b[0;36mserialize_to_js_literal\u001b[1;34m(item, encoding)\u001b[0m\n\u001b[0;32m     15\u001b[0m \u001b[38;5;250m\u001b[39m\u001b[38;5;124;03m\"\"\"Convert ``item`` to the contents of a JavaScript object literal code snippet.\u001b[39;00m\n\u001b[0;32m     16\u001b[0m \n\u001b[0;32m     17\u001b[0m \u001b[38;5;124;03m:param item: A value that is to be converted into a JS object literal notation value.\u001b[39;00m\n\u001b[1;32m   (...)\u001b[0m\n\u001b[0;32m     25\u001b[0m \u001b[38;5;124;03m:rtype: :class:`str <python:str>` or :obj:`None <python:None>`\u001b[39;00m\n\u001b[0;32m     26\u001b[0m \u001b[38;5;124;03m\"\"\"\u001b[39;00m\n\u001b[0;32m     27\u001b[0m \u001b[38;5;28;01mif\u001b[39;00m checkers\u001b[38;5;241m.\u001b[39mis_iterable(item, forbid_literals \u001b[38;5;241m=\u001b[39m (\u001b[38;5;28mstr\u001b[39m, \u001b[38;5;28mbytes\u001b[39m, \u001b[38;5;28mdict\u001b[39m, UserDict)):\n\u001b[1;32m---> 28\u001b[0m     \u001b[38;5;28;01mreturn\u001b[39;00m [serialize_to_js_literal(x, encoding \u001b[38;5;241m=\u001b[39m encoding) \u001b[38;5;28;01mfor\u001b[39;00m x \u001b[38;5;129;01min\u001b[39;00m item]\n\u001b[0;32m     29\u001b[0m \u001b[38;5;28;01melif\u001b[39;00m \u001b[38;5;28mhasattr\u001b[39m(item, \u001b[38;5;124m'\u001b[39m\u001b[38;5;124mto_js_literal\u001b[39m\u001b[38;5;124m'\u001b[39m):\n\u001b[0;32m     30\u001b[0m     \u001b[38;5;28;01mreturn\u001b[39;00m item\u001b[38;5;241m.\u001b[39mto_js_literal(encoding \u001b[38;5;241m=\u001b[39m encoding)\n",
      "File \u001b[1;32m~\\github\\hcp\\highcharts-core\\highcharts_core\\js_literal_functions.py:28\u001b[0m, in \u001b[0;36m<listcomp>\u001b[1;34m(.0)\u001b[0m\n\u001b[0;32m     15\u001b[0m \u001b[38;5;250m\u001b[39m\u001b[38;5;124;03m\"\"\"Convert ``item`` to the contents of a JavaScript object literal code snippet.\u001b[39;00m\n\u001b[0;32m     16\u001b[0m \n\u001b[0;32m     17\u001b[0m \u001b[38;5;124;03m:param item: A value that is to be converted into a JS object literal notation value.\u001b[39;00m\n\u001b[1;32m   (...)\u001b[0m\n\u001b[0;32m     25\u001b[0m \u001b[38;5;124;03m:rtype: :class:`str <python:str>` or :obj:`None <python:None>`\u001b[39;00m\n\u001b[0;32m     26\u001b[0m \u001b[38;5;124;03m\"\"\"\u001b[39;00m\n\u001b[0;32m     27\u001b[0m \u001b[38;5;28;01mif\u001b[39;00m checkers\u001b[38;5;241m.\u001b[39mis_iterable(item, forbid_literals \u001b[38;5;241m=\u001b[39m (\u001b[38;5;28mstr\u001b[39m, \u001b[38;5;28mbytes\u001b[39m, \u001b[38;5;28mdict\u001b[39m, UserDict)):\n\u001b[1;32m---> 28\u001b[0m     \u001b[38;5;28;01mreturn\u001b[39;00m [\u001b[43mserialize_to_js_literal\u001b[49m\u001b[43m(\u001b[49m\u001b[43mx\u001b[49m\u001b[43m,\u001b[49m\u001b[43m \u001b[49m\u001b[43mencoding\u001b[49m\u001b[43m \u001b[49m\u001b[38;5;241;43m=\u001b[39;49m\u001b[43m \u001b[49m\u001b[43mencoding\u001b[49m\u001b[43m)\u001b[49m \u001b[38;5;28;01mfor\u001b[39;00m x \u001b[38;5;129;01min\u001b[39;00m item]\n\u001b[0;32m     29\u001b[0m \u001b[38;5;28;01melif\u001b[39;00m \u001b[38;5;28mhasattr\u001b[39m(item, \u001b[38;5;124m'\u001b[39m\u001b[38;5;124mto_js_literal\u001b[39m\u001b[38;5;124m'\u001b[39m):\n\u001b[0;32m     30\u001b[0m     \u001b[38;5;28;01mreturn\u001b[39;00m item\u001b[38;5;241m.\u001b[39mto_js_literal(encoding \u001b[38;5;241m=\u001b[39m encoding)\n",
      "File \u001b[1;32m~\\github\\hcp\\highcharts-core\\highcharts_core\\js_literal_functions.py:30\u001b[0m, in \u001b[0;36mserialize_to_js_literal\u001b[1;34m(item, encoding)\u001b[0m\n\u001b[0;32m     28\u001b[0m     \u001b[38;5;28;01mreturn\u001b[39;00m [serialize_to_js_literal(x, encoding \u001b[38;5;241m=\u001b[39m encoding) \u001b[38;5;28;01mfor\u001b[39;00m x \u001b[38;5;129;01min\u001b[39;00m item]\n\u001b[0;32m     29\u001b[0m \u001b[38;5;28;01melif\u001b[39;00m \u001b[38;5;28mhasattr\u001b[39m(item, \u001b[38;5;124m'\u001b[39m\u001b[38;5;124mto_js_literal\u001b[39m\u001b[38;5;124m'\u001b[39m):\n\u001b[1;32m---> 30\u001b[0m     \u001b[38;5;28;01mreturn\u001b[39;00m \u001b[43mitem\u001b[49m\u001b[38;5;241;43m.\u001b[39;49m\u001b[43mto_js_literal\u001b[49m\u001b[43m(\u001b[49m\u001b[43mencoding\u001b[49m\u001b[43m \u001b[49m\u001b[38;5;241;43m=\u001b[39;49m\u001b[43m \u001b[49m\u001b[43mencoding\u001b[49m\u001b[43m)\u001b[49m\n\u001b[0;32m     31\u001b[0m \u001b[38;5;28;01melif\u001b[39;00m \u001b[38;5;28misinstance\u001b[39m(item, constants\u001b[38;5;241m.\u001b[39mEnforcedNullType) \u001b[38;5;129;01mor\u001b[39;00m item \u001b[38;5;241m==\u001b[39m \u001b[38;5;124m'\u001b[39m\u001b[38;5;124mnull\u001b[39m\u001b[38;5;124m'\u001b[39m:\n\u001b[0;32m     32\u001b[0m     \u001b[38;5;28;01mreturn\u001b[39;00m constants\u001b[38;5;241m.\u001b[39mEnforcedNull\n",
      "File \u001b[1;32m~\\github\\hcp\\highcharts-core\\highcharts_core\\metaclasses.py:334\u001b[0m, in \u001b[0;36mHighchartsMeta.to_js_literal\u001b[1;34m(self, filename, encoding)\u001b[0m\n\u001b[0;32m    332\u001b[0m \u001b[38;5;28;01mfor\u001b[39;00m key \u001b[38;5;129;01min\u001b[39;00m untrimmed:\n\u001b[0;32m    333\u001b[0m     item \u001b[38;5;241m=\u001b[39m untrimmed[key]\n\u001b[1;32m--> 334\u001b[0m     serialized \u001b[38;5;241m=\u001b[39m \u001b[43mserialize_to_js_literal\u001b[49m\u001b[43m(\u001b[49m\u001b[43mitem\u001b[49m\u001b[43m,\u001b[49m\u001b[43m \u001b[49m\u001b[43mencoding\u001b[49m\u001b[43m \u001b[49m\u001b[38;5;241;43m=\u001b[39;49m\u001b[43m \u001b[49m\u001b[43mencoding\u001b[49m\u001b[43m)\u001b[49m\n\u001b[0;32m    335\u001b[0m     \u001b[38;5;28;01mif\u001b[39;00m serialized \u001b[38;5;129;01mis\u001b[39;00m \u001b[38;5;129;01mnot\u001b[39;00m \u001b[38;5;28;01mNone\u001b[39;00m:\n\u001b[0;32m    336\u001b[0m         as_dict[key] \u001b[38;5;241m=\u001b[39m serialized\n",
      "File \u001b[1;32m~\\github\\hcp\\highcharts-core\\highcharts_core\\js_literal_functions.py:54\u001b[0m, in \u001b[0;36mserialize_to_js_literal\u001b[1;34m(item, encoding)\u001b[0m\n\u001b[0;32m     52\u001b[0m \u001b[38;5;28;01melif\u001b[39;00m checkers\u001b[38;5;241m.\u001b[39mis_date(item):\n\u001b[0;32m     53\u001b[0m     \u001b[38;5;28;01mreturn\u001b[39;00m \u001b[38;5;124mf\u001b[39m\u001b[38;5;124m'\u001b[39m\u001b[38;5;124mDate.UTC(\u001b[39m\u001b[38;5;132;01m{\u001b[39;00mitem\u001b[38;5;241m.\u001b[39myear\u001b[38;5;132;01m}\u001b[39;00m\u001b[38;5;124m, \u001b[39m\u001b[38;5;132;01m{\u001b[39;00mitem\u001b[38;5;241m.\u001b[39mmonth\u001b[38;5;250m \u001b[39m\u001b[38;5;241m-\u001b[39m\u001b[38;5;250m \u001b[39m\u001b[38;5;241m1\u001b[39m\u001b[38;5;132;01m}\u001b[39;00m\u001b[38;5;124m, \u001b[39m\u001b[38;5;132;01m{\u001b[39;00mitem\u001b[38;5;241m.\u001b[39mday\u001b[38;5;132;01m}\u001b[39;00m\u001b[38;5;124m)\u001b[39m\u001b[38;5;124m'\u001b[39m\n\u001b[1;32m---> 54\u001b[0m \u001b[38;5;28;01melif\u001b[39;00m \u001b[43mcheckers\u001b[49m\u001b[38;5;241;43m.\u001b[39;49m\u001b[43mis_time\u001b[49m\u001b[43m(\u001b[49m\u001b[43mitem\u001b[49m\u001b[43m)\u001b[49m:\n\u001b[0;32m     55\u001b[0m     \u001b[38;5;28;01mreturn\u001b[39;00m item\u001b[38;5;241m.\u001b[39misoformat()\n\u001b[0;32m     56\u001b[0m \u001b[38;5;28;01melif\u001b[39;00m item \u001b[38;5;129;01mis\u001b[39;00m \u001b[38;5;28;01mNone\u001b[39;00m:\n",
      "File \u001b[1;32m~\\github\\hcp\\highcharts-for-python-demos\\.py310\\lib\\site-packages\\validator_collection\\_decorators.py:77\u001b[0m, in \u001b[0;36mdisable_checker_on_env.<locals>.func_wrapper\u001b[1;34m(*args, **kwargs)\u001b[0m\n\u001b[0;32m     75\u001b[0m     \u001b[38;5;28;01mreturn\u001b[39;00m \u001b[38;5;28;01mTrue\u001b[39;00m\n\u001b[0;32m     76\u001b[0m \u001b[38;5;28;01melse\u001b[39;00m:\n\u001b[1;32m---> 77\u001b[0m     \u001b[38;5;28;01mreturn\u001b[39;00m func(\u001b[38;5;241m*\u001b[39margs, \u001b[38;5;241m*\u001b[39m\u001b[38;5;241m*\u001b[39mkwargs)\n",
      "File \u001b[1;32m~\\github\\hcp\\highcharts-for-python-demos\\.py310\\lib\\site-packages\\validator_collection\\checkers.py:786\u001b[0m, in \u001b[0;36mis_time\u001b[1;34m(value, minimum, maximum, coerce_value, **kwargs)\u001b[0m\n\u001b[0;32m    755\u001b[0m \u001b[38;5;250m\u001b[39m\u001b[38;5;124;03m\"\"\"Indicate whether ``value`` is a :class:`time <python:datetime.time>`.\u001b[39;00m\n\u001b[0;32m    756\u001b[0m \n\u001b[0;32m    757\u001b[0m \u001b[38;5;124;03m:param value: The value to evaluate.\u001b[39;00m\n\u001b[1;32m   (...)\u001b[0m\n\u001b[0;32m    783\u001b[0m \n\u001b[0;32m    784\u001b[0m \u001b[38;5;124;03m\"\"\"\u001b[39;00m\n\u001b[0;32m    785\u001b[0m \u001b[38;5;28;01mtry\u001b[39;00m:\n\u001b[1;32m--> 786\u001b[0m     value \u001b[38;5;241m=\u001b[39m validators\u001b[38;5;241m.\u001b[39mtime(value,\n\u001b[0;32m    787\u001b[0m                             minimum \u001b[38;5;241m=\u001b[39m minimum,\n\u001b[0;32m    788\u001b[0m                             maximum \u001b[38;5;241m=\u001b[39m maximum,\n\u001b[0;32m    789\u001b[0m                             coerce_value \u001b[38;5;241m=\u001b[39m coerce_value,\n\u001b[0;32m    790\u001b[0m                             \u001b[38;5;241m*\u001b[39m\u001b[38;5;241m*\u001b[39mkwargs)\n\u001b[0;32m    791\u001b[0m \u001b[38;5;28;01mexcept\u001b[39;00m \u001b[38;5;167;01mSyntaxError\u001b[39;00m \u001b[38;5;28;01mas\u001b[39;00m error:\n\u001b[0;32m    792\u001b[0m     \u001b[38;5;28;01mraise\u001b[39;00m error\n",
      "File \u001b[1;32m~\\github\\hcp\\highcharts-for-python-demos\\.py310\\lib\\site-packages\\validator_collection\\_decorators.py:48\u001b[0m, in \u001b[0;36mdisable_on_env.<locals>.func_wrapper\u001b[1;34m(*args, **kwargs)\u001b[0m\n\u001b[0;32m     46\u001b[0m     \u001b[38;5;28;01mreturn\u001b[39;00m value\n\u001b[0;32m     47\u001b[0m \u001b[38;5;28;01melse\u001b[39;00m:\n\u001b[1;32m---> 48\u001b[0m     updated_kwargs \u001b[38;5;241m=\u001b[39m {key : kwargs[key]\n\u001b[0;32m     49\u001b[0m                       \u001b[38;5;28;01mfor\u001b[39;00m key \u001b[38;5;129;01min\u001b[39;00m kwargs\n\u001b[0;32m     50\u001b[0m                       \u001b[38;5;28;01mif\u001b[39;00m key \u001b[38;5;241m!=\u001b[39m \u001b[38;5;124m'\u001b[39m\u001b[38;5;124mforce_run\u001b[39m\u001b[38;5;124m'\u001b[39m}\n\u001b[0;32m     51\u001b[0m     \u001b[38;5;28;01mreturn\u001b[39;00m func(\u001b[38;5;241m*\u001b[39margs, \u001b[38;5;241m*\u001b[39m\u001b[38;5;241m*\u001b[39mupdated_kwargs)\n",
      "File \u001b[1;32m~\\github\\hcp\\highcharts-for-python-demos\\.py310\\lib\\site-packages\\validator_collection\\_decorators.py:48\u001b[0m, in \u001b[0;36m<dictcomp>\u001b[1;34m(.0)\u001b[0m\n\u001b[0;32m     46\u001b[0m     \u001b[38;5;28;01mreturn\u001b[39;00m value\n\u001b[0;32m     47\u001b[0m \u001b[38;5;28;01melse\u001b[39;00m:\n\u001b[1;32m---> 48\u001b[0m     updated_kwargs \u001b[38;5;241m=\u001b[39m {key : kwargs[key]\n\u001b[0;32m     49\u001b[0m                       \u001b[38;5;28;01mfor\u001b[39;00m key \u001b[38;5;129;01min\u001b[39;00m kwargs\n\u001b[0;32m     50\u001b[0m                       \u001b[38;5;28;01mif\u001b[39;00m key \u001b[38;5;241m!=\u001b[39m \u001b[38;5;124m'\u001b[39m\u001b[38;5;124mforce_run\u001b[39m\u001b[38;5;124m'\u001b[39m}\n\u001b[0;32m     51\u001b[0m     \u001b[38;5;28;01mreturn\u001b[39;00m func(\u001b[38;5;241m*\u001b[39margs, \u001b[38;5;241m*\u001b[39m\u001b[38;5;241m*\u001b[39mupdated_kwargs)\n",
      "\u001b[1;31mKeyboardInterrupt\u001b[0m: "
     ]
    }
   ],
   "source": [
    "chart = Chart.from_options(options)\n",
    "chart.display()"
   ]
  },
  {
   "cell_type": "code",
   "execution_count": null,
   "id": "b4d2d5ec-7348-48a5-86de-5b10d9107c98",
   "metadata": {},
   "outputs": [],
   "source": []
  }
 ],
 "metadata": {
  "kernelspec": {
   "display_name": "Python 3 (ipykernel)",
   "language": "python",
   "name": "python3"
  },
  "language_info": {
   "codemirror_mode": {
    "name": "ipython",
    "version": 3
   },
   "file_extension": ".py",
   "mimetype": "text/x-python",
   "name": "python",
   "nbconvert_exporter": "python",
   "pygments_lexer": "ipython3",
   "version": "3.10.5"
  }
 },
 "nbformat": 4,
 "nbformat_minor": 5
}
