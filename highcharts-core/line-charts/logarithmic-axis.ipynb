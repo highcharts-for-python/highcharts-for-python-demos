{
 "cells": [
  {
   "cell_type": "markdown",
   "id": "3d033821-eebd-4e56-8d75-1640001f6451",
   "metadata": {},
   "source": [
    "# Logarithmic Axis\n",
    "This chart shows the use of a logarithmic y-axis. Logarithmic axes can\n",
    "be useful when dealing with data with spikes or large value gaps,\n",
    "as they allow variance in the smaller values to remain visible."
   ]
  },
  {
   "cell_type": "markdown",
   "id": "19324d42-e2dd-41a3-a12f-ca8fbceda5ec",
   "metadata": {},
   "source": [
    "## Import Dependencies"
   ]
  },
  {
   "cell_type": "code",
   "execution_count": 1,
   "id": "9962170c-4f90-41f7-873e-0599ab54c046",
   "metadata": {
    "tags": []
   },
   "outputs": [],
   "source": [
    "from highcharts_core.chart import Chart\n",
    "from highcharts_core.options import HighchartsOptions"
   ]
  },
  {
   "cell_type": "markdown",
   "id": "089b8f43-ea01-4753-a52f-bfd1e23d948d",
   "metadata": {},
   "source": [
    "## Prepare Options"
   ]
  },
  {
   "cell_type": "code",
   "execution_count": 3,
   "id": "e8f030f9-6f9c-445b-b0f5-9f6b2118c865",
   "metadata": {
    "tags": []
   },
   "outputs": [],
   "source": [
    "as_str = \"\"\"{\n",
    "\n",
    "    title: {\n",
    "        text: 'Logarithmic axis demo'\n",
    "    },\n",
    "\n",
    "    xAxis: {\n",
    "        tickInterval: 1,\n",
    "        type: 'logarithmic',\n",
    "        accessibility: {\n",
    "            rangeDescription: 'Range: 1 to 10'\n",
    "        }\n",
    "    },\n",
    "\n",
    "    yAxis: {\n",
    "        type: 'logarithmic',\n",
    "        minorTickInterval: 0.1,\n",
    "        accessibility: {\n",
    "            rangeDescription: 'Range: 0.1 to 1000'\n",
    "        }\n",
    "    },\n",
    "\n",
    "    tooltip: {\n",
    "        headerFormat: '<b>{series.name}</b><br />',\n",
    "        pointFormat: 'x = {point.x}, y = {point.y}'\n",
    "    },\n",
    "\n",
    "    series: [{\n",
    "        type: 'line',\n",
    "        data: [1, 2, 4, 8, 16, 32, 64, 128, 256, 512],\n",
    "        pointStart: 1\n",
    "    }]\n",
    "}\"\"\"\n",
    "\n",
    "options = HighchartsOptions.from_js_literal(as_str)"
   ]
  },
  {
   "cell_type": "markdown",
   "id": "b06bf4c1-988c-49de-994e-96d6948a440e",
   "metadata": {},
   "source": [
    "## Generate Chart"
   ]
  },
  {
   "cell_type": "code",
   "execution_count": 4,
   "id": "57aa98fa-be9a-462c-8b07-eb2e97de4f13",
   "metadata": {
    "tags": []
   },
   "outputs": [
    {
     "data": {
      "application/javascript": [
       "new Promise(function(resolve, reject) {\n",
       "  var existing_tags = document.querySelectorAll(\"script[src='https://code.highcharts.com/highcharts.js']\");  if (existing_tags.length == 0) {\n",
       "        var script = document.createElement(\"script\");\n",
       "        script.onload = resolve;\n",
       "        script.onerror = reject;        script.src = 'https://code.highcharts.com/highcharts.js';        document.head.appendChild(script);\n",
       "    };\n",
       "}).then(() => {new Promise(function(resolve, reject) {\n",
       "  var existing_tags = document.querySelectorAll(\"script[src='https://code.highcharts.com/highcharts-more.js']\");  if (existing_tags.length == 0) {\n",
       "        var script = document.createElement(\"script\");\n",
       "        script.onload = resolve;\n",
       "        script.onerror = reject;        script.src = 'https://code.highcharts.com/highcharts-more.js';        document.head.appendChild(script);\n",
       "    };\n",
       "}).then(() => {new Promise(function(resolve, reject) {\n",
       "  var existing_tags = document.querySelectorAll(\"script[src='https://code.highcharts.com/highcharts-3d.js']\");  if (existing_tags.length == 0) {\n",
       "        var script = document.createElement(\"script\");\n",
       "        script.onload = resolve;\n",
       "        script.onerror = reject;        script.src = 'https://code.highcharts.com/highcharts-3d.js';        document.head.appendChild(script);\n",
       "    };\n",
       "}).then(() => {new Promise(function(resolve, reject) {\n",
       "  var existing_tags = document.querySelectorAll(\"script[src='https://code.highcharts.com/modules/accessibility.js']\");  if (existing_tags.length == 0) {\n",
       "        var script = document.createElement(\"script\");\n",
       "        script.onload = resolve;\n",
       "        script.onerror = reject;        script.src = 'https://code.highcharts.com/modules/accessibility.js';        document.head.appendChild(script);\n",
       "    };\n",
       "}).then(() => {new Promise(function(resolve, reject) {\n",
       "  var existing_tags = document.querySelectorAll(\"script[src='https://code.highcharts.com/modules/annotations.js']\");  if (existing_tags.length == 0) {\n",
       "        var script = document.createElement(\"script\");\n",
       "        script.onload = resolve;\n",
       "        script.onerror = reject;        script.src = 'https://code.highcharts.com/modules/annotations.js';        document.head.appendChild(script);\n",
       "    };\n",
       "}).then(() => {new Promise(function(resolve, reject) {\n",
       "  var existing_tags = document.querySelectorAll(\"script[src='https://code.highcharts.com/modules/boost.js']\");  if (existing_tags.length == 0) {\n",
       "        var script = document.createElement(\"script\");\n",
       "        script.onload = resolve;\n",
       "        script.onerror = reject;        script.src = 'https://code.highcharts.com/modules/boost.js';        document.head.appendChild(script);\n",
       "    };\n",
       "}).then(() => {new Promise(function(resolve, reject) {\n",
       "  var existing_tags = document.querySelectorAll(\"script[src='https://code.highcharts.com/modules/broken-axis.js']\");  if (existing_tags.length == 0) {\n",
       "        var script = document.createElement(\"script\");\n",
       "        script.onload = resolve;\n",
       "        script.onerror = reject;        script.src = 'https://code.highcharts.com/modules/broken-axis.js';        document.head.appendChild(script);\n",
       "    };\n",
       "}).then(() => {new Promise(function(resolve, reject) {\n",
       "  var existing_tags = document.querySelectorAll(\"script[src='https://code.highcharts.com/modules/data.js']\");  if (existing_tags.length == 0) {\n",
       "        var script = document.createElement(\"script\");\n",
       "        script.onload = resolve;\n",
       "        script.onerror = reject;        script.src = 'https://code.highcharts.com/modules/data.js';        document.head.appendChild(script);\n",
       "    };\n",
       "}).then(() => {new Promise(function(resolve, reject) {\n",
       "  var existing_tags = document.querySelectorAll(\"script[src='https://code.highcharts.com/modules/exporting.js']\");  if (existing_tags.length == 0) {\n",
       "        var script = document.createElement(\"script\");\n",
       "        script.onload = resolve;\n",
       "        script.onerror = reject;        script.src = 'https://code.highcharts.com/modules/exporting.js';        document.head.appendChild(script);\n",
       "    };\n",
       "}).then(() => {new Promise(function(resolve, reject) {\n",
       "  var existing_tags = document.querySelectorAll(\"script[src='https://code.highcharts.com/modules/drilldown.js']\");  if (existing_tags.length == 0) {\n",
       "        var script = document.createElement(\"script\");\n",
       "        script.onload = resolve;\n",
       "        script.onerror = reject;        script.src = 'https://code.highcharts.com/modules/drilldown.js';        document.head.appendChild(script);\n",
       "    };\n",
       "}).then(() => {new Promise(function(resolve, reject) {\n",
       "  var existing_tags = document.querySelectorAll(\"script[src='https://code.highcharts.com/modules/funnel.js']\");  if (existing_tags.length == 0) {\n",
       "        var script = document.createElement(\"script\");\n",
       "        script.onload = resolve;\n",
       "        script.onerror = reject;        script.src = 'https://code.highcharts.com/modules/funnel.js';        document.head.appendChild(script);\n",
       "    };\n",
       "}).then(() => {new Promise(function(resolve, reject) {\n",
       "  var existing_tags = document.querySelectorAll(\"script[src='https://code.highcharts.com/modules/heatmap.js']\");  if (existing_tags.length == 0) {\n",
       "        var script = document.createElement(\"script\");\n",
       "        script.onload = resolve;\n",
       "        script.onerror = reject;        script.src = 'https://code.highcharts.com/modules/heatmap.js';        document.head.appendChild(script);\n",
       "    };\n",
       "}).then(() => {new Promise(function(resolve, reject) {\n",
       "  var existing_tags = document.querySelectorAll(\"script[src='https://code.highcharts.com/modules/no-data-to-display.js']\");  if (existing_tags.length == 0) {\n",
       "        var script = document.createElement(\"script\");\n",
       "        script.onload = resolve;\n",
       "        script.onerror = reject;        script.src = 'https://code.highcharts.com/modules/no-data-to-display.js';        document.head.appendChild(script);\n",
       "    };\n",
       "}).then(() => {new Promise(function(resolve, reject) {\n",
       "  var existing_tags = document.querySelectorAll(\"script[src='https://code.highcharts.com/modules/offline-exporting.js']\");  if (existing_tags.length == 0) {\n",
       "        var script = document.createElement(\"script\");\n",
       "        script.onload = resolve;\n",
       "        script.onerror = reject;        script.src = 'https://code.highcharts.com/modules/offline-exporting.js';        document.head.appendChild(script);\n",
       "    };\n",
       "}).then(() => {new Promise(function(resolve, reject) {\n",
       "  var existing_tags = document.querySelectorAll(\"script[src='https://code.highcharts.com/modules/solid-gauge.js']\");  if (existing_tags.length == 0) {\n",
       "        var script = document.createElement(\"script\");\n",
       "        script.onload = resolve;\n",
       "        script.onerror = reject;        script.src = 'https://code.highcharts.com/modules/solid-gauge.js';        document.head.appendChild(script);\n",
       "    };\n",
       "}).then(() => {new Promise(function(resolve, reject) {\n",
       "  var existing_tags = document.querySelectorAll(\"script[src='https://code.highcharts.com/modules/series-label.js']\");  if (existing_tags.length == 0) {\n",
       "        var script = document.createElement(\"script\");\n",
       "        script.onload = resolve;\n",
       "        script.onerror = reject;        script.src = 'https://code.highcharts.com/modules/series-label.js';        document.head.appendChild(script);\n",
       "    };\n",
       "}).then(() => {new Promise(function(resolve, reject) {\n",
       "  var existing_tags = document.querySelectorAll(\"script[src='https://code.highcharts.com/modules/treemap.js']\");  if (existing_tags.length == 0) {\n",
       "        var script = document.createElement(\"script\");\n",
       "        script.onload = resolve;\n",
       "        script.onerror = reject;        script.src = 'https://code.highcharts.com/modules/treemap.js';        document.head.appendChild(script);\n",
       "    };\n",
       "}).then(() => {});});});});});});});});});});});});});});});});});"
      ],
      "text/plain": [
       "<IPython.core.display.Javascript object>"
      ]
     },
     "metadata": {},
     "output_type": "display_data"
    },
    {
     "data": {
      "text/html": [
       "<div id=\"highcharts_target_div\" style=\"width:100%; height:400;\"></div>\n"
      ],
      "text/plain": [
       "<IPython.core.display.HTML object>"
      ]
     },
     "metadata": {},
     "output_type": "display_data"
    },
    {
     "data": {
      "application/javascript": [
       "function retryHighcharts(fn, container = 'highcharts_target_div', retries = 3, retriesLeft = 3, \n",
       "        interval = 1000) {\n",
       "            return new Promise((resolve, reject) => {\n",
       "            try {\n",
       "                fn()\n",
       "                return resolve();\n",
       "            } catch (err) {\n",
       "                if (err instanceof ReferenceError) {\n",
       "                    if (retriesLeft === 0) {\n",
       "                        var target_div = document.getElementById(container);\n",
       "                        if (target_div) {\n",
       "                            var timeElapsed = (retries * interval) / 1000;\n",
       "                            var errorMessage = \"<p>Something went wrong with the Highcharts.js script. It should have been automatically loaded, but it did not load for over \" + timeElapsed + \" seconds. Check your internet connection, and then if the problem persists please reach out for support.</p>\";\n",
       "                            target_div.innerHTML = errorMessage;\n",
       "                        }\n",
       "                        return reject();\n",
       "                    }\n",
       "\n",
       "                    setTimeout(() => {\n",
       "                        retryHighcharts(fn, container, retries, retriesLeft - 1, interval).then(resolve).catch(reject);\n",
       "                    }, interval);\n",
       "                } else {\n",
       "                    throw err;\n",
       "                }\n",
       "            }\n",
       "        });\n",
       "    };function insertChart_5ANFQ4() {\n",
       "\n",
       "new Highcharts.chart('highcharts_target_div',\n",
       "{\n",
       "  series: [{\n",
       "  data: [{\n",
       "  y: 1\n",
       "},\n",
       "{\n",
       "  y: 2\n",
       "},\n",
       "{\n",
       "  y: 4\n",
       "},\n",
       "{\n",
       "  y: 8\n",
       "},\n",
       "{\n",
       "  y: 16\n",
       "},\n",
       "{\n",
       "  y: 32\n",
       "},\n",
       "{\n",
       "  y: 64\n",
       "},\n",
       "{\n",
       "  y: 128\n",
       "},\n",
       "{\n",
       "  y: 256\n",
       "},\n",
       "{\n",
       "  y: 512\n",
       "}],\n",
       "  pointStart: 1,\n",
       "  type: 'line'\n",
       "}],\n",
       "  title: {\n",
       "  text: 'Logarithmic axis demo'\n",
       "},\n",
       "  tooltip: {\n",
       "  headerFormat: '<b>{series.name}</b><br />',\n",
       "  pointFormat: 'x = {point.x}, y = {point.y}'\n",
       "},\n",
       "  xAxis: {\n",
       "  accessibility: {\n",
       "  rangeDescription: 'Range: 1 to 10'\n",
       "},\n",
       "  tickInterval: 1,\n",
       "  type: 'logarithmic'\n",
       "},\n",
       "  yAxis: {\n",
       "  accessibility: {\n",
       "  rangeDescription: 'Range: 0.1 to 1000'\n",
       "},\n",
       "  minorTickInterval: 0.1,\n",
       "  type: 'logarithmic'\n",
       "}\n",
       "},\n",
       ");\n",
       "\n",
       "};\n",
       "retryHighcharts(insertChart_5ANFQ4, 'highcharts_target_div', 3, 3, 1000);"
      ],
      "text/plain": [
       "<IPython.core.display.Javascript object>"
      ]
     },
     "metadata": {},
     "output_type": "display_data"
    }
   ],
   "source": [
    "chart = Chart.from_options(options)\n",
    "chart.display()"
   ]
  },
  {
   "cell_type": "code",
   "execution_count": null,
   "id": "eeee1852-fa5e-40d6-86e3-32fbb3bb85e4",
   "metadata": {},
   "outputs": [],
   "source": []
  }
 ],
 "metadata": {
  "kernelspec": {
   "display_name": "Python 3 (ipykernel)",
   "language": "python",
   "name": "python3"
  },
  "language_info": {
   "codemirror_mode": {
    "name": "ipython",
    "version": 3
   },
   "file_extension": ".py",
   "mimetype": "text/x-python",
   "name": "python",
   "nbconvert_exporter": "python",
   "pygments_lexer": "ipython3",
   "version": "3.10.5"
  }
 },
 "nbformat": 4,
 "nbformat_minor": 5
}
