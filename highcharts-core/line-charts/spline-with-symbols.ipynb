{
 "cells": [
  {
   "cell_type": "markdown",
   "id": "3d033821-eebd-4e56-8d75-1640001f6451",
   "metadata": {},
   "source": [
    "# Spline with Symbols\n",
    "This chart shows how symbols and shapes can be used in charts.\n",
    "Highcharts includes several common symbol shapes, such as squares,\n",
    "circles and triangles, but it is also possible to add your own\n",
    "custom symbols. In this chart, custom weather symbols are used on\n",
    "data points to highlight that certain temperatures are warm while\n",
    "others are cold."
   ]
  },
  {
   "cell_type": "markdown",
   "id": "19324d42-e2dd-41a3-a12f-ca8fbceda5ec",
   "metadata": {},
   "source": [
    "## Import Dependencies"
   ]
  },
  {
   "cell_type": "code",
   "execution_count": null,
   "id": "9962170c-4f90-41f7-873e-0599ab54c046",
   "metadata": {
    "tags": []
   },
   "outputs": [],
   "source": [
    "from highcharts_core.chart import Chart\n",
    "from highcharts_core.options import HighchartsOptions"
   ]
  },
  {
   "cell_type": "markdown",
   "id": "089b8f43-ea01-4753-a52f-bfd1e23d948d",
   "metadata": {},
   "source": [
    "## Prepare Options"
   ]
  },
  {
   "cell_type": "code",
   "execution_count": null,
   "id": "e8f030f9-6f9c-445b-b0f5-9f6b2118c865",
   "metadata": {
    "tags": []
   },
   "outputs": [],
   "source": [
    "as_str = \"\"\"{\n",
    "    chart: {\n",
    "        type: 'spline'\n",
    "    },\n",
    "    title: {\n",
    "        text: 'Monthly Average Temperature'\n",
    "    },\n",
    "    subtitle: {\n",
    "        text: 'Source: <a href=\"https://en.wikipedia.org/wiki/List_of_cities_by_average_temperature\" target=\"_blank\">Wikipedia.com</a>'\n",
    "    },\n",
    "    xAxis: {\n",
    "        categories: ['Jan', 'Feb', 'Mar', 'Apr', 'May', 'Jun',\n",
    "            'Jul', 'Aug', 'Sep', 'Oct', 'Nov', 'Dec'],\n",
    "        accessibility: {\n",
    "            description: 'Months of the year'\n",
    "        }\n",
    "    },\n",
    "    yAxis: {\n",
    "        title: {\n",
    "            text: 'Temperature'\n",
    "        },\n",
    "        labels: {\n",
    "            formatter: function () {\n",
    "                return this.value + '°';\n",
    "            }\n",
    "        }\n",
    "    },\n",
    "    tooltip: {\n",
    "        crosshairs: true,\n",
    "        shared: true\n",
    "    },\n",
    "    plotOptions: {\n",
    "        spline: {\n",
    "            marker: {\n",
    "                radius: 4,\n",
    "                lineColor: '#666666',\n",
    "                lineWidth: 1\n",
    "            }\n",
    "        }\n",
    "    },\n",
    "    series: [{\n",
    "        name: 'Tokyo',\n",
    "        marker: {\n",
    "            symbol: 'square'\n",
    "        },\n",
    "        data: [5.2, 5.7, 8.7, 13.9, 18.2, 21.4, 25.0, {\n",
    "            y: 26.4,\n",
    "            marker: {\n",
    "                symbol: 'url(https://www.highcharts.com/samples/graphics/sun.png)'\n",
    "            },\n",
    "            accessibility: {\n",
    "                description: 'Sunny symbol, this is the warmest point in the chart.'\n",
    "            }\n",
    "        }, 22.8, 17.5, 12.1, 7.6]\n",
    "\n",
    "    }, {\n",
    "        name: 'Bergen',\n",
    "        marker: {\n",
    "            symbol: 'diamond'\n",
    "        },\n",
    "        data: [{\n",
    "            y: 1.5,\n",
    "            marker: {\n",
    "                symbol: 'url(https://www.highcharts.com/samples/graphics/snow.png)'\n",
    "            },\n",
    "            accessibility: {\n",
    "                description: 'Snowy symbol, this is the coldest point in the chart.'\n",
    "            }\n",
    "        }, 1.6, 3.3, 5.9, 10.5, 13.5, 14.5, 14.4, 11.5, 8.7, 4.7, 2.6]\n",
    "    }]\n",
    "}\"\"\"\n",
    "\n",
    "options = HighchartsOptions.from_js_literal(as_str)"
   ]
  },
  {
   "cell_type": "markdown",
   "id": "b06bf4c1-988c-49de-994e-96d6948a440e",
   "metadata": {},
   "source": [
    "## Generate Chart"
   ]
  },
  {
   "cell_type": "code",
   "execution_count": null,
   "id": "57aa98fa-be9a-462c-8b07-eb2e97de4f13",
   "metadata": {
    "tags": []
   },
   "outputs": [],
   "source": [
    "chart = Chart.from_options(options)\n",
    "chart.display()"
   ]
  },
  {
   "cell_type": "code",
   "execution_count": null,
   "id": "6f7b3303-79bd-4ca1-b5ee-21e166b3efb2",
   "metadata": {},
   "outputs": [],
   "source": []
  }
 ],
 "metadata": {
  "kernelspec": {
   "display_name": "Python 3 (ipykernel)",
   "language": "python",
   "name": "python3"
  },
  "language_info": {
   "codemirror_mode": {
    "name": "ipython",
    "version": 3
   },
   "file_extension": ".py",
   "mimetype": "text/x-python",
   "name": "python",
   "nbconvert_exporter": "python",
   "pygments_lexer": "ipython3",
   "version": "3.11.6"
  }
 },
 "nbformat": 4,
 "nbformat_minor": 5
}
