{
 "cells": [
  {
   "cell_type": "markdown",
   "id": "31939505-97c1-4609-a34c-2740493ddbbf",
   "metadata": {},
   "source": [
    "# Spline with Inverted Axes\n",
    "Spline charts are smoothed line charts, and this example\n",
    "shows an inverted spline chart. Inverting the chart means the\n",
    "X-axis is positioned as the vertical axis, and the Y-axis is\n",
    "positioned as the horizontal axis. This can be more intuitive\n",
    "for certain data sets, such as in this chart where the X-axis\n",
    "represents vertical altitude."
   ]
  },
  {
   "cell_type": "markdown",
   "id": "5e403a63-9670-4b44-a1ff-e2971ac5d158",
   "metadata": {},
   "source": [
    "## Import Dependencies"
   ]
  },
  {
   "cell_type": "code",
   "execution_count": null,
   "id": "257dc105-4a15-44af-ab3d-5bbe6239e026",
   "metadata": {
    "tags": []
   },
   "outputs": [],
   "source": [
    "from highcharts_core.options import HighchartsOptions\n",
    "from highcharts_core.chart import Chart"
   ]
  },
  {
   "cell_type": "markdown",
   "id": "b43b06ec-8c9e-418f-b1e4-d0b9829826cd",
   "metadata": {},
   "source": [
    "## Assemble Options"
   ]
  },
  {
   "cell_type": "code",
   "execution_count": null,
   "id": "3e89a3d6-c1ae-4b85-b7a7-24fa3bcaffc7",
   "metadata": {
    "tags": []
   },
   "outputs": [],
   "source": [
    "as_dict = {\n",
    "    'chart': {\n",
    "        'type': 'spline',\n",
    "        'inverted': True\n",
    "    },\n",
    "    'title': {\n",
    "        'text': 'Atmosphere Temperature by Altitude',\n",
    "        'align': 'left'\n",
    "    },\n",
    "    'subtitle': {\n",
    "        'text': 'According to the Standard Atmosphere Model',\n",
    "        'align': 'left'\n",
    "    },\n",
    "    'xAxis': {\n",
    "        'reversed': False,\n",
    "        'title': {\n",
    "            'enabled': True,\n",
    "            'text': 'Altitude'\n",
    "        },\n",
    "        'labels': {\n",
    "            'format': '{value} km'\n",
    "        },\n",
    "        'accessibility': {\n",
    "            'rangeDescription': 'Range: 0 to 80 km.'\n",
    "        },\n",
    "        'maxPadding': 0.05,\n",
    "        'showLastLabel': True\n",
    "    },\n",
    "    'yAxis': {\n",
    "        'title': {\n",
    "            'text': 'Temperature'\n",
    "        },\n",
    "        'labels': {\n",
    "            'format': '{value}°'\n",
    "        },\n",
    "        'accessibility': {\n",
    "            'rangeDescription': 'Range: -90°C to 20°C.'\n",
    "        },\n",
    "        'lineWidth': 2\n",
    "    },\n",
    "    'legend': {\n",
    "        'enabled': False\n",
    "    },\n",
    "    'tooltip': {\n",
    "        'headerFormat': '<b>{series.name}</b><br/>',\n",
    "        'pointFormat': '{point.x} km: {point.y}°C'\n",
    "    },\n",
    "    'plotOptions': {\n",
    "        'spline': {\n",
    "            'marker': {\n",
    "                'enable': False\n",
    "            }\n",
    "        }\n",
    "    },\n",
    "    'series': [{\n",
    "        'name': 'Temperature',\n",
    "        'data': [[0, 15], [10, -50], [20, -56.5], [30, -46.5], [40, -22.1],\n",
    "            [50, -2.5], [60, -27.7], [70, -55.7], [80, -76.5]]\n",
    "    }]\n",
    "}"
   ]
  },
  {
   "cell_type": "markdown",
   "id": "da0205f3-be4e-4e60-ae94-de6ca7af2547",
   "metadata": {},
   "source": [
    "## Assemble Chart"
   ]
  },
  {
   "cell_type": "code",
   "execution_count": null,
   "id": "f9838ab6-2663-4fb4-9037-a760862c3b7d",
   "metadata": {
    "tags": []
   },
   "outputs": [],
   "source": [
    "chart = Chart(options = as_dict)\n",
    "chart.display()"
   ]
  },
  {
   "cell_type": "code",
   "execution_count": null,
   "id": "bdd2b7cb-8365-453b-b1ce-e370baa72930",
   "metadata": {},
   "outputs": [],
   "source": []
  }
 ],
 "metadata": {
  "kernelspec": {
   "display_name": "Python 3 (ipykernel)",
   "language": "python",
   "name": "python3"
  },
  "language_info": {
   "codemirror_mode": {
    "name": "ipython",
    "version": 3
   },
   "file_extension": ".py",
   "mimetype": "text/x-python",
   "name": "python",
   "nbconvert_exporter": "python",
   "pygments_lexer": "ipython3",
   "version": "3.10.5"
  }
 },
 "nbformat": 4,
 "nbformat_minor": 5
}
