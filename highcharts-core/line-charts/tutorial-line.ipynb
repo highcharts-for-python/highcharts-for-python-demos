{
 "cells": [
  {
   "cell_type": "markdown",
   "id": "c6dab5e1-7c58-4c71-a286-12cf985393aa",
   "metadata": {},
   "source": [
    "# Tutorial Line"
   ]
  },
  {
   "cell_type": "code",
   "execution_count": null,
   "id": "d97fd530-4317-469a-8693-5aca0f487bc0",
   "metadata": {
    "tags": []
   },
   "outputs": [],
   "source": [
    "from highcharts_core.chart import Chart\n",
    "from highcharts_core.options.series.area import LineSeries\n",
    "from highcharts_core.global_options.shared_options import SharedOptions\n",
    "\n",
    "my_chart = Chart(container = 'target_div',\n",
    "                 options = {\n",
    "                     'series': [\n",
    "                         LineSeries(data = [0, 5, 3, 5])\n",
    "                     ]\n",
    "                 },\n",
    "                 variable_name = 'myChart')\n",
    "\n",
    "# Now this will render the contents of \"my_chart\" in your Jupyter Notebook\n",
    "my_chart.display()"
   ]
  },
  {
   "cell_type": "code",
   "execution_count": null,
   "id": "d14e449a-5bd1-4bc3-96a9-78c3da46604f",
   "metadata": {},
   "outputs": [],
   "source": []
  }
 ],
 "metadata": {
  "kernelspec": {
   "display_name": "Python 3 (ipykernel)",
   "language": "python",
   "name": "python3"
  },
  "language_info": {
   "codemirror_mode": {
    "name": "ipython",
    "version": 3
   },
   "file_extension": ".py",
   "mimetype": "text/x-python",
   "name": "python",
   "nbconvert_exporter": "python",
   "pygments_lexer": "ipython3",
   "version": "3.10.5"
  }
 },
 "nbformat": 4,
 "nbformat_minor": 5
}
