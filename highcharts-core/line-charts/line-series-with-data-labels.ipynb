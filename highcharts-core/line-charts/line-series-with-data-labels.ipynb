{
 "cells": [
  {
   "cell_type": "markdown",
   "id": "3d033821-eebd-4e56-8d75-1640001f6451",
   "metadata": {},
   "source": [
    "# Line Chart with Data Labels Demo\n",
    "This chart shows how data labels can be added to the data series. This can increase readability and comprehension for small datasets."
   ]
  },
  {
   "cell_type": "markdown",
   "id": "19324d42-e2dd-41a3-a12f-ca8fbceda5ec",
   "metadata": {},
   "source": [
    "## Import Dependencies"
   ]
  },
  {
   "cell_type": "code",
   "execution_count": null,
   "id": "9962170c-4f90-41f7-873e-0599ab54c046",
   "metadata": {
    "tags": []
   },
   "outputs": [],
   "source": [
    "from highcharts_core.chart import Chart\n",
    "from highcharts_core.options import HighchartsOptions"
   ]
  },
  {
   "cell_type": "markdown",
   "id": "089b8f43-ea01-4753-a52f-bfd1e23d948d",
   "metadata": {},
   "source": [
    "## Configure Options"
   ]
  },
  {
   "cell_type": "code",
   "execution_count": null,
   "id": "e8f030f9-6f9c-445b-b0f5-9f6b2118c865",
   "metadata": {
    "tags": []
   },
   "outputs": [],
   "source": [
    "options_as_str = \"\"\"{\n",
    "    chart: {\n",
    "        type: 'line',\n",
    "    },\n",
    "    \n",
    "    title: {\n",
    "        text: 'Monthly Average Temperature'\n",
    "    },\n",
    "    \n",
    "    subtitle: {\n",
    "        text: 'Source: <a href=\"https://en.wikipedia.org/wiki/List_of_cities_by_average_temperature\" target=\"_blank\">Wikipedia.com</a>'\n",
    "    },\n",
    "    \n",
    "    xAxis: {\n",
    "        categories: ['Jan', 'Feb', 'Mar', 'Apr', 'May', 'Jun', 'Jul', 'Aug', 'Sep', 'Oct', 'Nov', 'Dec']\n",
    "    },\n",
    "    \n",
    "    yAxis: {\n",
    "        title: {\n",
    "            text: 'Temperature (°C)'\n",
    "        }\n",
    "    },\n",
    "    \n",
    "    plotOptions: {\n",
    "        line: {\n",
    "            dataLabels: {\n",
    "                enabled: true\n",
    "            },\n",
    "            enableMouseTracking: false\n",
    "        }\n",
    "    },\n",
    "    \n",
    "    series: [{\n",
    "        name: 'Reggane',\n",
    "        data: [16.0, 18.2, 23.1, 27.9, 32.2, 36.4, 39.8, 38.4, 35.5, 29.2,\n",
    "            22.0, 17.8]\n",
    "    }, {\n",
    "        name: 'Tallinn',\n",
    "        data: [-2.9, -3.6, -0.6, 4.8, 10.2, 14.5, 17.6, 16.5, 12.0, 6.5,\n",
    "            2.0, -0.9]\n",
    "    }]\n",
    "}\"\"\"\n",
    "\n",
    "options = HighchartsOptions.from_js_literal(options_as_str)"
   ]
  },
  {
   "cell_type": "markdown",
   "id": "b06bf4c1-988c-49de-994e-96d6948a440e",
   "metadata": {},
   "source": [
    "## Generate Chart"
   ]
  },
  {
   "cell_type": "code",
   "execution_count": null,
   "id": "57aa98fa-be9a-462c-8b07-eb2e97de4f13",
   "metadata": {
    "tags": []
   },
   "outputs": [],
   "source": [
    "chart = Chart.from_options(options)\n",
    "chart.display()"
   ]
  },
  {
   "cell_type": "code",
   "execution_count": null,
   "id": "55e6e27d-f635-4054-a892-c485938b104e",
   "metadata": {},
   "outputs": [],
   "source": []
  }
 ],
 "metadata": {
  "kernelspec": {
   "display_name": "Python 3 (ipykernel)",
   "language": "python",
   "name": "python3"
  },
  "language_info": {
   "codemirror_mode": {
    "name": "ipython",
    "version": 3
   },
   "file_extension": ".py",
   "mimetype": "text/x-python",
   "name": "python",
   "nbconvert_exporter": "python",
   "pygments_lexer": "ipython3",
   "version": "3.11.6"
  }
 },
 "nbformat": 4,
 "nbformat_minor": 5
}
