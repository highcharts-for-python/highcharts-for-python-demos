{
 "cells": [
  {
   "cell_type": "markdown",
   "id": "3d033821-eebd-4e56-8d75-1640001f6451",
   "metadata": {},
   "source": [
    "# Spline with Plot Bands\n",
    "This demo shows how plot bands can be used on an axis to\n",
    "highlight regions of a chart. In this example, the plot\n",
    "bands are used to separate the wind speeds on the Y-axis\n",
    "into categories."
   ]
  },
  {
   "cell_type": "markdown",
   "id": "19324d42-e2dd-41a3-a12f-ca8fbceda5ec",
   "metadata": {},
   "source": [
    "## Import Dependencies"
   ]
  },
  {
   "cell_type": "code",
   "execution_count": null,
   "id": "9962170c-4f90-41f7-873e-0599ab54c046",
   "metadata": {
    "tags": []
   },
   "outputs": [],
   "source": [
    "from highcharts_core.chart import Chart\n",
    "from highcharts_core.options import HighchartsOptions"
   ]
  },
  {
   "cell_type": "markdown",
   "id": "089b8f43-ea01-4753-a52f-bfd1e23d948d",
   "metadata": {},
   "source": [
    "## Prepare Options"
   ]
  },
  {
   "cell_type": "code",
   "execution_count": null,
   "id": "e8f030f9-6f9c-445b-b0f5-9f6b2118c865",
   "metadata": {
    "tags": []
   },
   "outputs": [],
   "source": [
    "as_str = \"\"\"{\n",
    "    chart: {\n",
    "        type: 'spline',\n",
    "        scrollablePlotArea: {\n",
    "            minWidth: 600,\n",
    "            scrollPositionX: 1\n",
    "        }\n",
    "    },\n",
    "    title: {\n",
    "        text: 'Wind speed during two days',\n",
    "        align: 'left'\n",
    "    },\n",
    "    subtitle: {\n",
    "        text: '13th & 14th of June, 2022 at two locations in Vik i Sogn, Norway',\n",
    "        align: 'left'\n",
    "    },\n",
    "    xAxis: {\n",
    "        type: 'datetime',\n",
    "        labels: {\n",
    "            overflow: 'justify'\n",
    "        }\n",
    "    },\n",
    "    yAxis: {\n",
    "        title: {\n",
    "            text: 'Wind speed (m/s)'\n",
    "        },\n",
    "        minorGridLineWidth: 0,\n",
    "        gridLineWidth: 0,\n",
    "        alternateGridColor: null,\n",
    "        plotBands: [{ // Light air\n",
    "            from: 0.3,\n",
    "            to: 1.5,\n",
    "            color: 'rgba(68, 170, 213, 0.1)',\n",
    "            label: {\n",
    "                text: 'Light air',\n",
    "                style: {\n",
    "                    color: '#606060'\n",
    "                }\n",
    "            }\n",
    "        }, { // Light breeze\n",
    "            from: 1.5,\n",
    "            to: 3.3,\n",
    "            color: 'rgba(0, 0, 0, 0)',\n",
    "            label: {\n",
    "                text: 'Light breeze',\n",
    "                style: {\n",
    "                    color: '#606060'\n",
    "                }\n",
    "            }\n",
    "        }, { // Gentle breeze\n",
    "            from: 3.3,\n",
    "            to: 5.5,\n",
    "            color: 'rgba(68, 170, 213, 0.1)',\n",
    "            label: {\n",
    "                text: 'Gentle breeze',\n",
    "                style: {\n",
    "                    color: '#606060'\n",
    "                }\n",
    "            }\n",
    "        }, { // Moderate breeze\n",
    "            from: 5.5,\n",
    "            to: 8,\n",
    "            color: 'rgba(0, 0, 0, 0)',\n",
    "            label: {\n",
    "                text: 'Moderate breeze',\n",
    "                style: {\n",
    "                    color: '#606060'\n",
    "                }\n",
    "            }\n",
    "        }, { // Fresh breeze\n",
    "            from: 8,\n",
    "            to: 11,\n",
    "            color: 'rgba(68, 170, 213, 0.1)',\n",
    "            label: {\n",
    "                text: 'Fresh breeze',\n",
    "                style: {\n",
    "                    color: '#606060'\n",
    "                }\n",
    "            }\n",
    "        }, { // Strong breeze\n",
    "            from: 11,\n",
    "            to: 14,\n",
    "            color: 'rgba(0, 0, 0, 0)',\n",
    "            label: {\n",
    "                text: 'Strong breeze',\n",
    "                style: {\n",
    "                    color: '#606060'\n",
    "                }\n",
    "            }\n",
    "        }, { // High wind\n",
    "            from: 14,\n",
    "            to: 15,\n",
    "            color: 'rgba(68, 170, 213, 0.1)',\n",
    "            label: {\n",
    "                text: 'High wind',\n",
    "                style: {\n",
    "                    color: '#606060'\n",
    "                }\n",
    "            }\n",
    "        }]\n",
    "    },\n",
    "    tooltip: {\n",
    "        valueSuffix: ' m/s'\n",
    "    },\n",
    "    plotOptions: {\n",
    "        spline: {\n",
    "            lineWidth: 4,\n",
    "            states: {\n",
    "                hover: {\n",
    "                    lineWidth: 5\n",
    "                }\n",
    "            },\n",
    "            marker: {\n",
    "                enabled: false\n",
    "            },\n",
    "            pointInterval: 3600000, // one hour\n",
    "            pointStart: Date.UTC(2022, 5, 13, 0, 0, 0)\n",
    "        }\n",
    "    },\n",
    "    series: [{\n",
    "        name: 'Hestavollane',\n",
    "        data: [\n",
    "            4.5, 5.1, 4.4, 3.7, 4.2, 3.7, 4.3, 4, 5, 4.9,\n",
    "            4.8, 4.6, 3.9, 3.8, 2.7, 3.1, 2.6, 3.3, 3.8,\n",
    "            4.1, 1, 1.9, 3.2, 3.8, 4.2]\n",
    "\n",
    "    }, {\n",
    "        name: 'Vik',\n",
    "        data: [\n",
    "            0.1, 0.1, 0.1, 0.2, 0.4, 0.4, 0.3, 0.4,\n",
    "            0.1, 0, 0.2, 0.3, 0, 0, 0, 0, 0, 0.1,\n",
    "            0.1, 0.1, 0, 0.1, 0, 0, 0]\n",
    "    }],\n",
    "    navigation: {\n",
    "        menuItemStyle: {\n",
    "            fontSize: '10px'\n",
    "        }\n",
    "    }\n",
    "}\"\"\"\n",
    "\n",
    "options = HighchartsOptions.from_js_literal(as_str)"
   ]
  },
  {
   "cell_type": "markdown",
   "id": "b06bf4c1-988c-49de-994e-96d6948a440e",
   "metadata": {},
   "source": [
    "## Generate Chart"
   ]
  },
  {
   "cell_type": "code",
   "execution_count": null,
   "id": "57aa98fa-be9a-462c-8b07-eb2e97de4f13",
   "metadata": {
    "tags": []
   },
   "outputs": [],
   "source": [
    "chart = Chart.from_options(options)\n",
    "chart.display()"
   ]
  },
  {
   "cell_type": "code",
   "execution_count": null,
   "id": "6f7b3303-79bd-4ca1-b5ee-21e166b3efb2",
   "metadata": {},
   "outputs": [],
   "source": []
  }
 ],
 "metadata": {
  "kernelspec": {
   "display_name": "Python 3 (ipykernel)",
   "language": "python",
   "name": "python3"
  },
  "language_info": {
   "codemirror_mode": {
    "name": "ipython",
    "version": 3
   },
   "file_extension": ".py",
   "mimetype": "text/x-python",
   "name": "python",
   "nbconvert_exporter": "python",
   "pygments_lexer": "ipython3",
   "version": "3.11.6"
  }
 },
 "nbformat": 4,
 "nbformat_minor": 5
}
