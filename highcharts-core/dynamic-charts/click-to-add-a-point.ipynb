{
 "cells": [
  {
   "cell_type": "markdown",
   "id": "02cca23b-860a-45e5-9728-17c8212f15a1",
   "metadata": {},
   "source": [
    "# Click to Add a Point\n",
    "Chart allowing users to update the data by clicking in the chart area.\n",
    "Clicking an existing point will remove it."
   ]
  },
  {
   "cell_type": "markdown",
   "id": "227424c2-3a0a-4c9f-bee9-5187a49fdde9",
   "metadata": {},
   "source": [
    "## Import Dependencies"
   ]
  },
  {
   "cell_type": "code",
   "execution_count": null,
   "id": "65cdd7bc-06c3-4e03-8df7-aa35bc8df5ae",
   "metadata": {
    "tags": []
   },
   "outputs": [],
   "source": [
    "from highcharts_core.chart import Chart\n",
    "from highcharts_core.options import HighchartsOptions"
   ]
  },
  {
   "cell_type": "markdown",
   "id": "e0fd01fa-3799-42d7-a647-1024fe3a7f41",
   "metadata": {},
   "source": [
    "## Prepare Options"
   ]
  },
  {
   "cell_type": "code",
   "execution_count": null,
   "id": "e92c8210-02d5-4d7a-9ed7-57f3e3a90a26",
   "metadata": {
    "tags": []
   },
   "outputs": [],
   "source": [
    "as_dict = {\n",
    "    'chart': {\n",
    "        'type': 'scatter',\n",
    "        'margin': [70, 50, 60, 80],\n",
    "        'events': {\n",
    "            'click': \"\"\"function (e) {\n",
    "                // find the clicked values and the series\n",
    "                var x = Math.round(e.xAxis[0].value),\n",
    "                    y = Math.round(e.yAxis[0].value),\n",
    "                    series = this.series[0];\n",
    "\n",
    "                // Add it\n",
    "                series.addPoint([x, y]);\n",
    "            }\"\"\"\n",
    "        }\n",
    "    },\n",
    "    'title': {\n",
    "        'text': 'User supplied data',\n",
    "        'align': 'left'\n",
    "    },\n",
    "    'subtitle': {\n",
    "        'text': 'Click the plot area to add a point. Click a point to remove it.',\n",
    "        'align': 'left'\n",
    "    },\n",
    "    'accessibility': {\n",
    "        'announceNewData': {\n",
    "            'enabled': True\n",
    "        }\n",
    "    },\n",
    "    'xAxis': {\n",
    "        'gridLineWidth': 1,\n",
    "        'minPadding': 0.2,\n",
    "        'maxPadding': 0.2,\n",
    "        'maxZoom': 60\n",
    "    },\n",
    "    'yAxis': {\n",
    "        'title': {\n",
    "            'text': 'Value'\n",
    "        },\n",
    "        'minPadding': 0.2,\n",
    "        'maxPadding': 0.2,\n",
    "        'maxZoom': 60,\n",
    "        'plotLines': [{\n",
    "            'value': 0,\n",
    "            'width': 1,\n",
    "            'color': '#808080'\n",
    "        }]\n",
    "    },\n",
    "    'legend': {\n",
    "        'enabled': False\n",
    "    },\n",
    "    'exporting': {\n",
    "        'enabled': False\n",
    "    },\n",
    "    'plotOptions': {\n",
    "        'series': {\n",
    "            'lineWidth': 1,\n",
    "            'point': {\n",
    "                'events': {\n",
    "                    'click': \"\"\"function () {\n",
    "                        if (this.series.data.length > 1) {\n",
    "                            this.remove();\n",
    "                        }\n",
    "                    }\"\"\"\n",
    "                }\n",
    "            }\n",
    "        }\n",
    "    },\n",
    "    'series': [{\n",
    "        'data': [[20, 20], [80, 80]]\n",
    "    }]\n",
    "}\n"
   ]
  },
  {
   "cell_type": "markdown",
   "id": "d32e5c25-5602-4d65-a36e-7a9015caedb3",
   "metadata": {},
   "source": [
    "## Assemble and Display Chart"
   ]
  },
  {
   "cell_type": "code",
   "execution_count": null,
   "id": "31173e83-98a7-41f1-85d0-3e6368711507",
   "metadata": {
    "tags": []
   },
   "outputs": [],
   "source": [
    "chart = Chart.from_options(as_dict)\n",
    "chart.display()"
   ]
  },
  {
   "cell_type": "code",
   "execution_count": null,
   "id": "e1affa5b-eb21-4dd7-a82e-753f7ccb0029",
   "metadata": {},
   "outputs": [],
   "source": []
  }
 ],
 "metadata": {
  "kernelspec": {
   "display_name": "Python 3 (ipykernel)",
   "language": "python",
   "name": "python3"
  },
  "language_info": {
   "codemirror_mode": {
    "name": "ipython",
    "version": 3
   },
   "file_extension": ".py",
   "mimetype": "text/x-python",
   "name": "python",
   "nbconvert_exporter": "python",
   "pygments_lexer": "ipython3",
   "version": "3.10.5"
  }
 },
 "nbformat": 4,
 "nbformat_minor": 5
}
