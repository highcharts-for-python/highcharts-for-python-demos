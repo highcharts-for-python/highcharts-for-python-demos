{
 "cells": [
  {
   "cell_type": "markdown",
   "id": "0c26872a-fc19-4f08-9fd9-ce0b0d961f27",
   "metadata": {},
   "source": [
    "# Bar / Pyramid Chart\n",
    "Bar chart showing Somalian population distribution by using a mirrored bar chart with stacking and two x-axes."
   ]
  },
  {
   "cell_type": "markdown",
   "id": "6b461423-bdfe-46fd-ac5e-89a8191948e5",
   "metadata": {},
   "source": [
    "## Import Dependencies"
   ]
  },
  {
   "cell_type": "code",
   "execution_count": null,
   "id": "6ebbd6b7-cd27-4304-9d60-5e5cb2950063",
   "metadata": {},
   "outputs": [],
   "source": [
    "from highcharts_core.chart import Chart\n",
    "from highcharts_core.options import HighchartsOptions"
   ]
  },
  {
   "cell_type": "markdown",
   "id": "a07d8167-8441-4d14-97e6-f40983f37278",
   "metadata": {},
   "source": [
    "## Configure Options"
   ]
  },
  {
   "cell_type": "code",
   "execution_count": null,
   "id": "2d4b0bda-3c20-4af7-bf76-caff71606fed",
   "metadata": {},
   "outputs": [],
   "source": [
    "options_as_str = \"\"\"{\n",
    "    chart: {\n",
    "        type: 'bar'\n",
    "    },\n",
    "    title: {\n",
    "        text: 'Population pyramid for Somalia, 2021',\n",
    "        align: 'left'\n",
    "    },\n",
    "    subtitle: {\n",
    "        text: 'Source: <a href=\"https://countryeconomy.com/demography/population-structure/somalia\" target=\"_blank\">countryeconomy.com</a>',\n",
    "        align: 'left'\n",
    "    },\n",
    "    accessibility: {\n",
    "        point: {\n",
    "            valueDescriptionFormat: '{index}. Age {xDescription}, {value}%.'\n",
    "        }\n",
    "    },\n",
    "    xAxis: [{\n",
    "        categories: ['0-4', '5-9', '10-14', '15-19', '20-24', '25-29', '30-34', '35-40', '40-45','45-49', '50-54', '55-59', '60-64', '65-69', '70-74', '75-79', '80+'],\n",
    "        reversed: false,\n",
    "        labels: {\n",
    "            step: 1\n",
    "        },\n",
    "        accessibility: {\n",
    "            description: 'Age (male)'\n",
    "        }\n",
    "    }, { // mirror axis on right side\n",
    "        opposite: true,\n",
    "        reversed: false,\n",
    "        categories: ['0-4', '5-9', '10-14', '15-19', '20-24', '25-29', '30-34', '35-40', '40-45','45-49', '50-54', '55-59', '60-64', '65-69', '70-74', '75-79', '80+'],\n",
    "        linkedTo: 0,\n",
    "        labels: {\n",
    "            step: 1\n",
    "        },\n",
    "        accessibility: {\n",
    "            description: 'Age (female)'\n",
    "        }\n",
    "    }],\n",
    "    yAxis: {\n",
    "        title: {\n",
    "            text: null\n",
    "        },\n",
    "        labels: {\n",
    "            formatter: function () {\n",
    "                return Math.abs(this.value) + '%';\n",
    "            }\n",
    "        },\n",
    "        accessibility: {\n",
    "            description: 'Percentage population',\n",
    "            rangeDescription: 'Range: 0 to 5%'\n",
    "        }\n",
    "    },\n",
    "\n",
    "    plotOptions: {\n",
    "        series: {\n",
    "            stacking: 'normal'\n",
    "        }\n",
    "    },\n",
    "\n",
    "    tooltip: {\n",
    "        formatter: function () {\n",
    "            return '<b>' + this.series.name + ', age ' + this.point.category + '</b><br/>' +\n",
    "                'Population: ' + Highcharts.numberFormat(Math.abs(this.point.y), 1) + '%';\n",
    "        }\n",
    "    },\n",
    "\n",
    "    series: [{\n",
    "        name: 'Male',\n",
    "        data: [\n",
    "            -8.98, -7.52, -6.65, -5.72, -4.85,\n",
    "            -3.71, -2.76, -2.07, -1.70, -1.47,\n",
    "            -1.22, -0.99, -0.81, -0.62, -0.41,\n",
    "            -0.23, -0.15\n",
    "        ]\n",
    "    }, {\n",
    "        name: 'Female',\n",
    "        data: [\n",
    "            8.84, 7.42, 6.57, 5.68, 4.83,\n",
    "            3.74, 2.80, 2.14, 1.79, 1.59,\n",
    "            1.34, 1.06, 0.83, 0.63, 0.43,\n",
    "            0.25, 0.19\n",
    "        ]\n",
    "    }]\n",
    "}\"\"\"\n",
    "options = HighchartsOptions.from_js_literal(options_as_str)"
   ]
  },
  {
   "cell_type": "code",
   "execution_count": null,
   "id": "71cd0e89-da09-4fa0-bdef-8ed5ce5db44a",
   "metadata": {
    "tags": []
   },
   "outputs": [],
   "source": [
    "chart = Chart.from_options(options)\n",
    "chart.display()"
   ]
  },
  {
   "cell_type": "code",
   "execution_count": null,
   "id": "c9526b0f-656c-4019-8e74-dd11ea37370e",
   "metadata": {},
   "outputs": [],
   "source": []
  }
 ],
 "metadata": {
  "kernelspec": {
   "display_name": "Python 3 (ipykernel)",
   "language": "python",
   "name": "python3"
  },
  "language_info": {
   "codemirror_mode": {
    "name": "ipython",
    "version": 3
   },
   "file_extension": ".py",
   "mimetype": "text/x-python",
   "name": "python",
   "nbconvert_exporter": "python",
   "pygments_lexer": "ipython3",
   "version": "3.10.5"
  }
 },
 "nbformat": 4,
 "nbformat_minor": 5
}
