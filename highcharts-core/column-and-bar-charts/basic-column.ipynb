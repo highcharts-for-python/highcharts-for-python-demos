{
 "cells": [
  {
   "cell_type": "markdown",
   "id": "0c26872a-fc19-4f08-9fd9-ce0b0d961f27",
   "metadata": {},
   "source": [
    "# Basic Column Chart\n",
    "Bar chart showing vertical columns."
   ]
  },
  {
   "cell_type": "markdown",
   "id": "6b461423-bdfe-46fd-ac5e-89a8191948e5",
   "metadata": {},
   "source": [
    "## Import Dependencies"
   ]
  },
  {
   "cell_type": "code",
   "execution_count": null,
   "id": "6ebbd6b7-cd27-4304-9d60-5e5cb2950063",
   "metadata": {},
   "outputs": [],
   "source": [
    "from highcharts_core.chart import Chart\n",
    "from highcharts_core.options import HighchartsOptions"
   ]
  },
  {
   "cell_type": "markdown",
   "id": "a07d8167-8441-4d14-97e6-f40983f37278",
   "metadata": {},
   "source": [
    "## Configure Options"
   ]
  },
  {
   "cell_type": "code",
   "execution_count": null,
   "id": "2d4b0bda-3c20-4af7-bf76-caff71606fed",
   "metadata": {},
   "outputs": [],
   "source": [
    "options_as_str = \"\"\"{\n",
    "    chart: {\n",
    "        type: 'column'\n",
    "    },\n",
    "    title: {\n",
    "        text: 'Monthly Average Rainfall'\n",
    "    },\n",
    "    subtitle: {\n",
    "        text: 'Source: WorldClimate.com'\n",
    "    },\n",
    "    xAxis: {\n",
    "        categories: [\n",
    "            'Jan',\n",
    "            'Feb',\n",
    "            'Mar',\n",
    "            'Apr',\n",
    "            'May',\n",
    "            'Jun',\n",
    "            'Jul',\n",
    "            'Aug',\n",
    "            'Sep',\n",
    "            'Oct',\n",
    "            'Nov',\n",
    "            'Dec'\n",
    "        ],\n",
    "        crosshair: true\n",
    "    },\n",
    "    yAxis: {\n",
    "        min: 0,\n",
    "        title: {\n",
    "            text: 'Rainfall (mm)'\n",
    "        }\n",
    "    },\n",
    "    tooltip: {\n",
    "        headerFormat: '<span style=\"font-size:10px\">{point.key}</span><table>',\n",
    "        pointFormat: '<tr><td style=\"color:{series.color};padding:0\">{series.name}: </td><td style=\"padding:0\"><b>{point.y:.1f} mm</b></td></tr>',\n",
    "        footerFormat: '</table>',\n",
    "        shared: true,\n",
    "        useHTML: true\n",
    "    },\n",
    "    plotOptions: {\n",
    "        column: {\n",
    "            pointPadding: 0.2,\n",
    "            borderWidth: 0\n",
    "        }\n",
    "    },\n",
    "    series: [{\n",
    "        name: 'Tokyo',\n",
    "        data: [49.9, 71.5, 106.4, 129.2, 144.0, 176.0, 135.6, 148.5, 216.4,\n",
    "            194.1, 95.6, 54.4]\n",
    "\n",
    "    }, {\n",
    "        name: 'New York',\n",
    "        data: [83.6, 78.8, 98.5, 93.4, 106.0, 84.5, 105.0, 104.3, 91.2, 83.5,\n",
    "            106.6, 92.3]\n",
    "\n",
    "    }, {\n",
    "        name: 'London',\n",
    "        data: [48.9, 38.8, 39.3, 41.4, 47.0, 48.3, 59.0, 59.6, 52.4, 65.2, 59.3,\n",
    "            51.2]\n",
    "\n",
    "    }, {\n",
    "        name: 'Berlin',\n",
    "        data: [42.4, 33.2, 34.5, 39.7, 52.6, 75.5, 57.4, 60.4, 47.6, 39.1, 46.8,\n",
    "            51.1]\n",
    "\n",
    "    }]\n",
    "}\"\"\"\n",
    "options = HighchartsOptions.from_js_literal(options_as_str)"
   ]
  },
  {
   "cell_type": "code",
   "execution_count": null,
   "id": "71cd0e89-da09-4fa0-bdef-8ed5ce5db44a",
   "metadata": {
    "tags": []
   },
   "outputs": [],
   "source": [
    "chart = Chart.from_options(options)\n",
    "chart.display()"
   ]
  }
 ],
 "metadata": {
  "kernelspec": {
   "display_name": "Python 3 (ipykernel)",
   "language": "python",
   "name": "python3"
  },
  "language_info": {
   "codemirror_mode": {
    "name": "ipython",
    "version": 3
   },
   "file_extension": ".py",
   "mimetype": "text/x-python",
   "name": "python",
   "nbconvert_exporter": "python",
   "pygments_lexer": "ipython3",
   "version": "3.10.5"
  }
 },
 "nbformat": 4,
 "nbformat_minor": 5
}
