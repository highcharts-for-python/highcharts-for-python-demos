{
 "cells": [
  {
   "cell_type": "markdown",
   "id": "0c26872a-fc19-4f08-9fd9-ce0b0d961f27",
   "metadata": {},
   "source": [
    "# Stacked Bar Chart Demo\n",
    "Chart showing stacked horizontal bars. This type of visualization is great for comparing data that accumulates up to a sum."
   ]
  },
  {
   "cell_type": "markdown",
   "id": "6b461423-bdfe-46fd-ac5e-89a8191948e5",
   "metadata": {
    "tags": []
   },
   "source": [
    "## Import Dependencies"
   ]
  },
  {
   "cell_type": "code",
   "execution_count": null,
   "id": "6ebbd6b7-cd27-4304-9d60-5e5cb2950063",
   "metadata": {},
   "outputs": [],
   "source": [
    "from highcharts_core.chart import Chart\n",
    "from highcharts_core.options import HighchartsOptions"
   ]
  },
  {
   "cell_type": "markdown",
   "id": "a07d8167-8441-4d14-97e6-f40983f37278",
   "metadata": {},
   "source": [
    "## Configure Options"
   ]
  },
  {
   "cell_type": "code",
   "execution_count": null,
   "id": "2d4b0bda-3c20-4af7-bf76-caff71606fed",
   "metadata": {},
   "outputs": [],
   "source": [
    "options_as_str = \"\"\"{\n",
    "    chart: {\n",
    "        type: 'bar'\n",
    "    },\n",
    "    \n",
    "    title: {\n",
    "        text: 'UEFA CL top scorers by season'\n",
    "    },\n",
    "    \n",
    "    xAxis: {\n",
    "        categories: ['2020/21', '2019/20', '2018/19', '2017/18', '2016/17']\n",
    "    },\n",
    "    \n",
    "    yAxis: {\n",
    "        min: 0,\n",
    "        title: {\n",
    "            text: 'Goals'\n",
    "        }\n",
    "    },\n",
    "    \n",
    "    legend: {\n",
    "        reversed: true\n",
    "    },\n",
    "    \n",
    "    plotOptions: {\n",
    "        series: {\n",
    "            stacking: 'normal',\n",
    "            dataLabels: {\n",
    "                enabled: true\n",
    "            }\n",
    "        }\n",
    "    },\n",
    "    \n",
    "    series: [{\n",
    "        name: 'Cristiano Ronaldo',\n",
    "        data: [4, 4, 6, 15, 12]\n",
    "    }, {\n",
    "        name: 'Lionel Messi',\n",
    "        data: [5, 3, 12, 6, 11]\n",
    "    }, {\n",
    "        name: 'Robert Lewandowski',\n",
    "        data: [5, 15, 8, 5, 8]\n",
    "    }]\n",
    "}\"\"\"\n",
    "\n",
    "options = HighchartsOptions.from_js_literal(options_as_str)"
   ]
  },
  {
   "cell_type": "markdown",
   "id": "f9fcaee0-cef9-4fee-9cb2-dae949dba41e",
   "metadata": {},
   "source": [
    "## Generate Chart"
   ]
  },
  {
   "cell_type": "code",
   "execution_count": null,
   "id": "71cd0e89-da09-4fa0-bdef-8ed5ce5db44a",
   "metadata": {
    "tags": []
   },
   "outputs": [],
   "source": [
    "chart = Chart.from_options(options)\n",
    "chart.display()"
   ]
  },
  {
   "cell_type": "code",
   "execution_count": null,
   "id": "11a4a807-b47b-420c-915d-32100ae1a0b5",
   "metadata": {},
   "outputs": [],
   "source": []
  }
 ],
 "metadata": {
  "kernelspec": {
   "display_name": "Python 3 (ipykernel)",
   "language": "python",
   "name": "python3"
  },
  "language_info": {
   "codemirror_mode": {
    "name": "ipython",
    "version": 3
   },
   "file_extension": ".py",
   "mimetype": "text/x-python",
   "name": "python",
   "nbconvert_exporter": "python",
   "pygments_lexer": "ipython3",
   "version": "3.11.6"
  }
 },
 "nbformat": 4,
 "nbformat_minor": 5
}
