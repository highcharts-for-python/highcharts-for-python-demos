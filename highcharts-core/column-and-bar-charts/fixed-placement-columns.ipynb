{
 "cells": [
  {
   "cell_type": "markdown",
   "id": "0c26872a-fc19-4f08-9fd9-ce0b0d961f27",
   "metadata": {},
   "source": [
    "# Column Chart With Fixed Placement Demo\n",
    "Chart showing overlapping placement of columns, using different data series. The chart is also using multiple y-axes, allowing data in different ranges to be visualized on the same chart."
   ]
  },
  {
   "cell_type": "markdown",
   "id": "6b461423-bdfe-46fd-ac5e-89a8191948e5",
   "metadata": {
    "tags": []
   },
   "source": [
    "## Import Dependencies"
   ]
  },
  {
   "cell_type": "code",
   "execution_count": null,
   "id": "6ebbd6b7-cd27-4304-9d60-5e5cb2950063",
   "metadata": {},
   "outputs": [],
   "source": [
    "from highcharts_core.chart import Chart\n",
    "from highcharts_core.options import HighchartsOptions"
   ]
  },
  {
   "cell_type": "markdown",
   "id": "a07d8167-8441-4d14-97e6-f40983f37278",
   "metadata": {},
   "source": [
    "## Configure Options"
   ]
  },
  {
   "cell_type": "code",
   "execution_count": null,
   "id": "2d4b0bda-3c20-4af7-bf76-caff71606fed",
   "metadata": {},
   "outputs": [],
   "source": [
    "options_as_str = \"\"\"{\n",
    "    chart: {\n",
    "        type: 'column'\n",
    "    },\n",
    "    \n",
    "    title: {\n",
    "        text: 'Efficiency Optimization by Branch'\n",
    "    },\n",
    "    \n",
    "    xAxis: {\n",
    "        categories: [\n",
    "            'Seattle HQ',\n",
    "            'San Francisco',\n",
    "            'Tokyo'\n",
    "        ]\n",
    "    },\n",
    "    \n",
    "    yAxis: [{\n",
    "        min: 0,\n",
    "        title: {\n",
    "            text: 'Employees'\n",
    "        }\n",
    "    }, {\n",
    "        title: {\n",
    "            text: 'Profit (millions)'\n",
    "        },\n",
    "        opposite: true\n",
    "    }],\n",
    "    \n",
    "    legend: {\n",
    "        shadow: false\n",
    "    },\n",
    "    \n",
    "    tooltip: {\n",
    "        shared: true\n",
    "    },\n",
    "    \n",
    "    plotOptions: {\n",
    "        column: {\n",
    "            grouping: false,\n",
    "            shadow: false,\n",
    "            borderWidth: 0\n",
    "        }\n",
    "    },\n",
    "    \n",
    "    series: [{\n",
    "        name: 'Employees',\n",
    "        color: 'rgba(165,170,217,1)',\n",
    "        data: [150, 73, 20],\n",
    "        pointPadding: 0.3,\n",
    "        pointPlacement: -0.2\n",
    "    }, {\n",
    "        name: 'Employees Optimized',\n",
    "        color: 'rgba(126,86,134,.9)',\n",
    "        data: [140, 90, 40],\n",
    "        pointPadding: 0.4,\n",
    "        pointPlacement: -0.2\n",
    "    }, {\n",
    "        name: 'Profit',\n",
    "        color: 'rgba(248,161,63,1)',\n",
    "        data: [183.6, 178.8, 198.5],\n",
    "        tooltip: {\n",
    "            valuePrefix: '$',\n",
    "            valueSuffix: ' M'\n",
    "        },\n",
    "        pointPadding: 0.3,\n",
    "        pointPlacement: 0.2,\n",
    "        yAxis: 1\n",
    "    }, {\n",
    "        name: 'Profit Optimized',\n",
    "        color: 'rgba(186,60,61,.9)',\n",
    "        data: [203.6, 198.8, 208.5],\n",
    "        tooltip: {\n",
    "            valuePrefix: '$',\n",
    "            valueSuffix: ' M'\n",
    "        },\n",
    "        pointPadding: 0.4,\n",
    "        pointPlacement: 0.2,\n",
    "        yAxis: 1\n",
    "    }]\n",
    "}\"\"\"\n",
    "\n",
    "options = HighchartsOptions.from_js_literal(options_as_str)"
   ]
  },
  {
   "cell_type": "markdown",
   "id": "f9fcaee0-cef9-4fee-9cb2-dae949dba41e",
   "metadata": {},
   "source": [
    "## Generate Chart"
   ]
  },
  {
   "cell_type": "code",
   "execution_count": null,
   "id": "71cd0e89-da09-4fa0-bdef-8ed5ce5db44a",
   "metadata": {
    "tags": []
   },
   "outputs": [],
   "source": [
    "chart = Chart.from_options(options)\n",
    "chart.display()"
   ]
  },
  {
   "cell_type": "code",
   "execution_count": null,
   "id": "11a4a807-b47b-420c-915d-32100ae1a0b5",
   "metadata": {},
   "outputs": [],
   "source": []
  }
 ],
 "metadata": {
  "kernelspec": {
   "display_name": "Python 3 (ipykernel)",
   "language": "python",
   "name": "python3"
  },
  "language_info": {
   "codemirror_mode": {
    "name": "ipython",
    "version": 3
   },
   "file_extension": ".py",
   "mimetype": "text/x-python",
   "name": "python",
   "nbconvert_exporter": "python",
   "pygments_lexer": "ipython3",
   "version": "3.11.6"
  }
 },
 "nbformat": 4,
 "nbformat_minor": 5
}
