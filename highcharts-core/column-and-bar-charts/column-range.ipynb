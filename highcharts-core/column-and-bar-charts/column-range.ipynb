{
 "cells": [
  {
   "cell_type": "markdown",
   "id": "0c26872a-fc19-4f08-9fd9-ce0b0d961f27",
   "metadata": {},
   "source": [
    "# Column Range Chart\n",
    "Chart showing ranges using horizontal columns. Each range is represented with a low and high value, with a bar between them."
   ]
  },
  {
   "cell_type": "markdown",
   "id": "48dad93b-4452-445e-8de3-17a362a89463",
   "metadata": {},
   "source": [
    "## Import Dependencies"
   ]
  },
  {
   "cell_type": "code",
   "execution_count": null,
   "id": "6ebbd6b7-cd27-4304-9d60-5e5cb2950063",
   "metadata": {},
   "outputs": [],
   "source": [
    "from highcharts_core.chart import Chart\n",
    "from highcharts_core.options import HighchartsOptions"
   ]
  },
  {
   "cell_type": "markdown",
   "id": "a07d8167-8441-4d14-97e6-f40983f37278",
   "metadata": {},
   "source": [
    "## Configure Options"
   ]
  },
  {
   "cell_type": "code",
   "execution_count": null,
   "id": "2d4b0bda-3c20-4af7-bf76-caff71606fed",
   "metadata": {},
   "outputs": [],
   "source": [
    "options_as_str = \"\"\"{\n",
    "    chart: {\n",
    "        type: 'columnrange',\n",
    "        inverted: true\n",
    "    },\n",
    "\n",
    "    accessibility: {\n",
    "        description: 'Image description: A column range chart compares the monthly temperature variations throughout 2017 in Vik I Sogn, Norway. The chart is interactive and displays the temperature range for each month when hovering over the data. The temperature is measured in degrees Celsius on the X-axis and the months are plotted on the Y-axis. The lowest temperature is recorded in March at minus 10.2 Celsius. The lowest range of temperatures is found in December ranging from a low of minus 9 to a high of 8.6 Celsius. The highest temperature is found in July at 26.2 Celsius. July also has the highest range of temperatures from 6 to 26.2 Celsius. The broadest range of temperatures is found in May ranging from a low of minus 0.6 to a high of 23.1 Celsius.'\n",
    "    },\n",
    "\n",
    "    title: {\n",
    "        text: 'Temperature variation by month'\n",
    "    },\n",
    "\n",
    "    subtitle: {\n",
    "        text: 'Observed in Vik i Sogn, Norway, 2021 | Source: <a href=\"https://www.vikjavev.no/ver/\" target=\"_blank\">Vikjavev</a>'\n",
    "    },\n",
    "\n",
    "    xAxis: {\n",
    "        categories: ['Jan', 'Feb', 'Mar', 'Apr', 'May', 'Jun',\n",
    "            'Jul', 'Aug', 'Sep', 'Oct', 'Nov', 'Dec']\n",
    "    },\n",
    "\n",
    "    yAxis: {\n",
    "        title: {\n",
    "            text: 'Temperature ( °C )'\n",
    "        }\n",
    "    },\n",
    "\n",
    "    tooltip: {\n",
    "        valueSuffix: '°C'\n",
    "    },\n",
    "\n",
    "    plotOptions: {\n",
    "        columnrange: {\n",
    "            // borderRadius: '50%',\n",
    "            dataLabels: {\n",
    "                enabled: true,\n",
    "                format: '{y}°C'\n",
    "            }\n",
    "        }\n",
    "    },\n",
    "\n",
    "    legend: {\n",
    "        enabled: false\n",
    "    },\n",
    "\n",
    "    series: [{\n",
    "        name: 'Temperatures',\n",
    "        data: [\n",
    "            [-13.9, 5.2],\n",
    "            [-16.7, 10.6],\n",
    "            [-4.7, 11.6],\n",
    "            [-4.4, 16.8],\n",
    "            [-2.1, 27.2],\n",
    "            [5.9, 29.4],\n",
    "            [6.5, 29.1],\n",
    "            [4.7, 25.4],\n",
    "            [4.3, 21.6],\n",
    "            [-3.5, 15.1],\n",
    "            [-9.8, 12.5],\n",
    "            [-11.5, 8.4]\n",
    "        ]\n",
    "    }]\n",
    "}\"\"\"\n",
    "\n",
    "options = HighchartsOptions.from_js_literal(options_as_str)"
   ]
  },
  {
   "cell_type": "markdown",
   "id": "02ba0a45-101e-4ef0-b76b-ac6ee225a329",
   "metadata": {},
   "source": [
    "## Generate Chart"
   ]
  },
  {
   "cell_type": "code",
   "execution_count": null,
   "id": "71cd0e89-da09-4fa0-bdef-8ed5ce5db44a",
   "metadata": {
    "tags": []
   },
   "outputs": [],
   "source": [
    "chart = Chart.from_options(options)\n",
    "chart.display()"
   ]
  },
  {
   "cell_type": "code",
   "execution_count": null,
   "id": "c9526b0f-656c-4019-8e74-dd11ea37370e",
   "metadata": {},
   "outputs": [],
   "source": []
  }
 ],
 "metadata": {
  "kernelspec": {
   "display_name": "Python 3 (ipykernel)",
   "language": "python",
   "name": "python3"
  },
  "language_info": {
   "codemirror_mode": {
    "name": "ipython",
    "version": 3
   },
   "file_extension": ".py",
   "mimetype": "text/x-python",
   "name": "python",
   "nbconvert_exporter": "python",
   "pygments_lexer": "ipython3",
   "version": "3.11.6"
  }
 },
 "nbformat": 4,
 "nbformat_minor": 5
}
