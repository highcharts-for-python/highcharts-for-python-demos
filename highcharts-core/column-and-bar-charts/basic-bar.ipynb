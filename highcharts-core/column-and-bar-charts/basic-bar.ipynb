{
 "cells": [
  {
   "cell_type": "markdown",
   "id": "0c26872a-fc19-4f08-9fd9-ce0b0d961f27",
   "metadata": {},
   "source": [
    "# Basic Bar Chart\n",
    "Bar chart showing horizontal columns. This chart type is often\n",
    "beneficial for smaller screens, as the user can scroll through the data\n",
    "vertically, and axis labels are easy to read."
   ]
  },
  {
   "cell_type": "markdown",
   "id": "6b461423-bdfe-46fd-ac5e-89a8191948e5",
   "metadata": {},
   "source": [
    "## Import Dependencies"
   ]
  },
  {
   "cell_type": "code",
   "execution_count": null,
   "id": "6ebbd6b7-cd27-4304-9d60-5e5cb2950063",
   "metadata": {},
   "outputs": [],
   "source": [
    "from highcharts_core.chart import Chart\n",
    "from highcharts_core.options import HighchartsOptions"
   ]
  },
  {
   "cell_type": "markdown",
   "id": "a07d8167-8441-4d14-97e6-f40983f37278",
   "metadata": {},
   "source": [
    "## Configure Options"
   ]
  },
  {
   "cell_type": "code",
   "execution_count": null,
   "id": "2d4b0bda-3c20-4af7-bf76-caff71606fed",
   "metadata": {},
   "outputs": [],
   "source": [
    "options_as_str = \"\"\"{\n",
    "    chart: {\n",
    "        type: 'bar'\n",
    "    },\n",
    "    title: {\n",
    "        text: 'Historic World Population by Region',\n",
    "        align: 'left'\n",
    "    },\n",
    "    subtitle: {\n",
    "        text: 'Source: <a href=\"https://en.wikipedia.org/wiki/List_of_continents_and_continental_subregions_by_population\" target=\"_blank\">Wikipedia.org</a>',\n",
    "        align: 'left'\n",
    "    },\n",
    "    xAxis: {\n",
    "        categories: ['Africa', 'America', 'Asia', 'Europe', 'Oceania'],\n",
    "        title: {\n",
    "            text: null\n",
    "        }\n",
    "    },\n",
    "    yAxis: {\n",
    "        min: 0,\n",
    "        title: {\n",
    "            text: 'Population (millions)',\n",
    "            align: 'high'\n",
    "        },\n",
    "        labels: {\n",
    "            overflow: 'justify'\n",
    "        }\n",
    "    },\n",
    "    tooltip: {\n",
    "        valueSuffix: ' millions'\n",
    "    },\n",
    "    plotOptions: {\n",
    "        bar: {\n",
    "            dataLabels: {\n",
    "                enabled: true\n",
    "            }\n",
    "        }\n",
    "    },\n",
    "    legend: {\n",
    "        layout: 'vertical',\n",
    "        align: 'right',\n",
    "        verticalAlign: 'top',\n",
    "        x: -40,\n",
    "        y: 80,\n",
    "        floating: true,\n",
    "        borderWidth: 1,\n",
    "        backgroundColor: '#FFFFFF',\n",
    "        shadow: true\n",
    "    },\n",
    "    credits: {\n",
    "        enabled: false\n",
    "    },\n",
    "    series: [{\n",
    "        name: 'Year 1990',\n",
    "        data: [631, 727, 3202, 721, 26]\n",
    "    }, {\n",
    "        name: 'Year 2000',\n",
    "        data: [814, 841, 3714, 726, 31]\n",
    "    }, {\n",
    "        name: 'Year 2010',\n",
    "        data: [1044, 944, 4170, 735, 40]\n",
    "    }, {\n",
    "        name: 'Year 2018',\n",
    "        data: [1276, 1007, 4561, 746, 42]\n",
    "    }]\n",
    "}\"\"\"\n",
    "options = HighchartsOptions.from_js_literal(options_as_str)"
   ]
  },
  {
   "cell_type": "code",
   "execution_count": null,
   "id": "71cd0e89-da09-4fa0-bdef-8ed5ce5db44a",
   "metadata": {
    "tags": []
   },
   "outputs": [],
   "source": [
    "chart = Chart.from_options(options)\n",
    "chart.display()"
   ]
  }
 ],
 "metadata": {
  "kernelspec": {
   "display_name": "Python 3 (ipykernel)",
   "language": "python",
   "name": "python3"
  },
  "language_info": {
   "codemirror_mode": {
    "name": "ipython",
    "version": 3
   },
   "file_extension": ".py",
   "mimetype": "text/x-python",
   "name": "python",
   "nbconvert_exporter": "python",
   "pygments_lexer": "ipython3",
   "version": "3.10.5"
  }
 },
 "nbformat": 4,
 "nbformat_minor": 5
}
