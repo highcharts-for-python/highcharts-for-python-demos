{
 "cells": [
  {
   "cell_type": "markdown",
   "id": "6c803845-b643-4a33-9261-2e11081a8bda",
   "metadata": {
    "tags": []
   },
   "source": [
    "# ``.from_geopandas()`` Demo\n",
    "This notebook demonstrates loading GIS data from a GeoPandas GeoDataFrame instance."
   ]
  },
  {
   "cell_type": "markdown",
   "id": "efd3c075-c3ca-4906-a513-98f40d652377",
   "metadata": {},
   "source": [
    "## Import Dependencies"
   ]
  },
  {
   "cell_type": "code",
   "execution_count": null,
   "id": "73c9ea28-0df9-4150-aac2-9dba0d6215d0",
   "metadata": {
    "tags": []
   },
   "outputs": [],
   "source": [
    "from highcharts_maps.chart import Chart\n",
    "from highcharts_maps.options import HighchartsMapsOptions\n",
    "from highcharts_maps.options.series.data.map_data import MapData\n",
    "from highcharts_maps.options.series.map import MapSeries\n",
    "import geopandas"
   ]
  },
  {
   "cell_type": "markdown",
   "id": "4257393d-a649-45ea-bd10-ec75fac2f610",
   "metadata": {},
   "source": [
    "## Assemble Data"
   ]
  },
  {
   "cell_type": "code",
   "execution_count": null,
   "id": "4ffbbb3f-d014-4077-9bec-84694c631cc6",
   "metadata": {
    "tags": []
   },
   "outputs": [],
   "source": [
    "gdf = geopandas.read_file(geopandas.datasets.get_path('naturalearth_lowres'))\n",
    "max_population = gdf.max()['pop_est']\n",
    "gdf.head()"
   ]
  },
  {
   "cell_type": "markdown",
   "id": "3237a080-4802-44b1-902b-2a3f748b7df6",
   "metadata": {},
   "source": [
    "## Assemble Options"
   ]
  },
  {
   "cell_type": "code",
   "execution_count": null,
   "id": "62f978e1-5be7-4876-9c56-30f62d35c0ff",
   "metadata": {},
   "outputs": [],
   "source": [
    "options_as_dict = {\n",
    "    'chart': {\n",
    "        'type': 'map',\n",
    "        'map': MapData.from_geodataframe(gdf)\n",
    "    },\n",
    "    'title': {\n",
    "        'text': 'World Population from a GeoDataFrame'\n",
    "    },\n",
    "    'mapNavigation': {\n",
    "        'enabled': True,\n",
    "        'buttonOptions': {\n",
    "            'verticalAlign': 'bottom'\n",
    "        }\n",
    "    },\n",
    "    'colorAxis': {\n",
    "        'min': 0,\n",
    "        'max': max_population,\n",
    "        'stops': [[0, '#F1EEF6'], [0.65, '#900037'], [1, '#500007']],\n",
    "        'labels': {\n",
    "            'format': '{value}%'\n",
    "        }\n",
    "    }\n",
    "}\n",
    "options = HighchartsMapsOptions.from_dict(options_as_dict)"
   ]
  },
  {
   "cell_type": "markdown",
   "id": "0347ab22-9f04-4aed-8f85-5c92e05f310f",
   "metadata": {},
   "source": [
    "## Assemble Series"
   ]
  },
  {
   "cell_type": "code",
   "execution_count": null,
   "id": "92f4beb4-7ece-46d4-a37e-afc18bd093a1",
   "metadata": {},
   "outputs": [],
   "source": [
    "series = MapSeries.from_geopandas(gdf,\n",
    "                                  property_map = {\n",
    "                                      'value': 'pop_est',\n",
    "                                      'name': 'name',\n",
    "                                      'iso_a3': 'iso_a3'\n",
    "                                  },\n",
    "                                  series_kwargs = {\n",
    "                                      'name': 'Population',\n",
    "                                      'join_by': ['iso_a3', 'isoA3'],\n",
    "                                      'tooltip': {\n",
    "                                          'enabled': True\n",
    "                                      },\n",
    "                                      'borderWidth': 0.5,\n",
    "                                      'states': {\n",
    "                                          'hover': {\n",
    "                                              'color': '#a4edba'\n",
    "                                          }\n",
    "                                      },\n",
    "                                      'shadow': False,\n",
    "                                      'accessibility': {\n",
    "                                          'enabled': False\n",
    "                                      }\n",
    "                                  })\n",
    "options.add_series(series)"
   ]
  },
  {
   "cell_type": "markdown",
   "id": "c6e49bbf-9a28-4415-98c0-fc7697c7666e",
   "metadata": {},
   "source": [
    "## Assemble and Display Chart"
   ]
  },
  {
   "cell_type": "code",
   "execution_count": null,
   "id": "5aaa52e2-ee1e-415d-90d3-d535a0ab9f8d",
   "metadata": {
    "tags": []
   },
   "outputs": [],
   "source": [
    "chart = Chart.from_options(options)\n",
    "chart.display()"
   ]
  },
  {
   "cell_type": "code",
   "execution_count": null,
   "id": "e4c7556f-87d5-4bb5-b83f-f047da853976",
   "metadata": {},
   "outputs": [],
   "source": []
  }
 ],
 "metadata": {
  "kernelspec": {
   "display_name": "Python 3 (ipykernel)",
   "language": "python",
   "name": "python3"
  },
  "language_info": {
   "codemirror_mode": {
    "name": "ipython",
    "version": 3
   },
   "file_extension": ".py",
   "mimetype": "text/x-python",
   "name": "python",
   "nbconvert_exporter": "python",
   "pygments_lexer": "ipython3",
   "version": "3.10.5"
  }
 },
 "nbformat": 4,
 "nbformat_minor": 5
}
