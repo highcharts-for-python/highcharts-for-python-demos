{
 "cells": [
  {
   "cell_type": "markdown",
   "id": "3d033821-eebd-4e56-8d75-1640001f6451",
   "metadata": {},
   "source": [
    "# Asynchronous Map Data\n",
    "Demonstrating how Asynchronous Map Data works in Highcharts Maps"
   ]
  },
  {
   "cell_type": "markdown",
   "id": "19324d42-e2dd-41a3-a12f-ca8fbceda5ec",
   "metadata": {},
   "source": [
    "## Import Dependencies"
   ]
  },
  {
   "cell_type": "code",
   "execution_count": null,
   "id": "9962170c-4f90-41f7-873e-0599ab54c046",
   "metadata": {
    "tags": []
   },
   "outputs": [],
   "source": [
    "from highcharts_maps.constants import EnforcedNull\n",
    "from highcharts_maps.chart import Chart\n",
    "import requests\n",
    "import json"
   ]
  },
  {
   "cell_type": "markdown",
   "id": "131fd3c7-bacc-4bfb-ae09-d5800a7be170",
   "metadata": {},
   "source": [
    "## Prepare Data"
   ]
  },
  {
   "cell_type": "code",
   "execution_count": null,
   "id": "3c274c54-ddde-40de-b650-b7a5a001ab77",
   "metadata": {
    "tags": []
   },
   "outputs": [],
   "source": [
    "response = requests.get('https://cdn.jsdelivr.net/gh/highcharts/highcharts@c116b6fa6948448/samples/data/us-counties-unemployment.json')\n",
    "data_as_str = response.text\n",
    "data_as_obj = json.loads(data_as_str)"
   ]
  },
  {
   "cell_type": "markdown",
   "id": "089b8f43-ea01-4753-a52f-bfd1e23d948d",
   "metadata": {},
   "source": [
    "## Prepare Options"
   ]
  },
  {
   "cell_type": "code",
   "execution_count": null,
   "id": "e8f030f9-6f9c-445b-b0f5-9f6b2118c865",
   "metadata": {
    "tags": []
   },
   "outputs": [],
   "source": [
    "options = {\n",
    "    'chart': {\n",
    "        'map': 'https://code.highcharts.com/mapdata/countries/us/us-all-all.topo.json',\n",
    "        'borderWidth': 1,\n",
    "        'marginRight': 20\n",
    "    },\n",
    "\n",
    "    'title': {\n",
    "        'text': 'US Counties unemployment rates, January 2018'\n",
    "    },\n",
    "\n",
    "    'accessibility': {\n",
    "        'description': 'Demo showing a large dataset.'\n",
    "    },\n",
    "\n",
    "    'legend': {\n",
    "        'layout': 'vertical',\n",
    "        'align': 'right',\n",
    "        'floating': True,\n",
    "        'backgroundColor': 'rgba(255, 255, 255, 0.85)'\n",
    "    },\n",
    "\n",
    "    'mapNavigation': {\n",
    "        'enabled': True\n",
    "    },\n",
    "\n",
    "    'colorAxis': {\n",
    "        'min': 0,\n",
    "        'max': 25,\n",
    "        'tickInterval': 5,\n",
    "        'stops': [[0, '#F1EEF6'], [0.65, '#900037'], [1, '#500007']],\n",
    "        'labels': {\n",
    "            'format': '{value}%'\n",
    "        }\n",
    "    },\n",
    "\n",
    "    'plotOptions': {\n",
    "        'mapline': {\n",
    "            'showInLegend': False,\n",
    "            'enableMouseTracking': False\n",
    "        }\n",
    "    },\n",
    "\n",
    "    'series': [{\n",
    "        'data': data_as_obj,\n",
    "        'joinBy': ['hc-key', 'code'],\n",
    "        'name': 'Unemployment rate',\n",
    "        'tooltip': {\n",
    "            'valueSuffix': '%'\n",
    "        },\n",
    "        'borderWidth': 0.5,\n",
    "        'states': {\n",
    "            'hover': {\n",
    "                'color': '#a4edba'\n",
    "            }\n",
    "        },\n",
    "        'shadow': False,\n",
    "        'accessibility': {\n",
    "            'enabled': False\n",
    "        },\n",
    "        'type': 'map'\n",
    "    }, {\n",
    "        'type': 'mapline',\n",
    "        'name': 'State borders',\n",
    "        'color': 'white',\n",
    "        'shadow': False,\n",
    "        'borderWidth': 2,\n",
    "        'accessibility': {\n",
    "            'enabled': False\n",
    "        }\n",
    "    }]\n",
    "}"
   ]
  },
  {
   "cell_type": "markdown",
   "id": "b06bf4c1-988c-49de-994e-96d6948a440e",
   "metadata": {},
   "source": [
    "## Generate Chart"
   ]
  },
  {
   "cell_type": "code",
   "execution_count": null,
   "id": "57aa98fa-be9a-462c-8b07-eb2e97de4f13",
   "metadata": {
    "tags": []
   },
   "outputs": [],
   "source": [
    "chart = Chart.from_options(options)\n",
    "chart.is_maps_chart = True"
   ]
  },
  {
   "cell_type": "markdown",
   "id": "8e558de2-ec54-456f-b223-98c1dde8d19f",
   "metadata": {},
   "source": [
    "## Display the Chart"
   ]
  },
  {
   "cell_type": "code",
   "execution_count": null,
   "id": "17bed092-879b-41c2-a47f-b74ff25ba12e",
   "metadata": {
    "tags": []
   },
   "outputs": [],
   "source": [
    "chart.display()"
   ]
  },
  {
   "cell_type": "code",
   "execution_count": null,
   "id": "a4325f54-3a52-41e3-af3d-696bc1a1be55",
   "metadata": {},
   "outputs": [],
   "source": []
  }
 ],
 "metadata": {
  "kernelspec": {
   "display_name": "Python 3 (ipykernel)",
   "language": "python",
   "name": "python3"
  },
  "language_info": {
   "codemirror_mode": {
    "name": "ipython",
    "version": 3
   },
   "file_extension": ".py",
   "mimetype": "text/x-python",
   "name": "python",
   "nbconvert_exporter": "python",
   "pygments_lexer": "ipython3",
   "version": "3.10.5"
  }
 },
 "nbformat": 4,
 "nbformat_minor": 5
}
