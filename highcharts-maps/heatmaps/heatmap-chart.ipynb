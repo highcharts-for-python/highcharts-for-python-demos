{
 "cells": [
  {
   "cell_type": "markdown",
   "id": "b61ab4e2-55d4-4159-96c0-b5ab12954d59",
   "metadata": {},
   "source": [
    "# Heatmap Demo\n",
    "This demo depicts a (literal) heatmap, showing the temperature variation by day and hour throughout the month of May 2017."
   ]
  },
  {
   "cell_type": "markdown",
   "id": "36247b6d-8b86-4c54-9142-b47d3f994eca",
   "metadata": {
    "tags": []
   },
   "source": [
    "## Import Dependencies"
   ]
  },
  {
   "cell_type": "code",
   "execution_count": null,
   "id": "03fde0d1-880a-467a-9aac-777ebf7c59f3",
   "metadata": {
    "tags": []
   },
   "outputs": [],
   "source": [
    "from highcharts_maps import constants\n",
    "from highcharts_maps.chart import Chart\n",
    "from highcharts_maps.options.series.heatmap import HeatmapSeries\n",
    "import pandas\n",
    "import datetime"
   ]
  },
  {
   "cell_type": "markdown",
   "id": "e0000636-b68e-488e-b15f-988ebc1d8b6a",
   "metadata": {},
   "source": [
    "## Prepare the Configuration"
   ]
  },
  {
   "cell_type": "code",
   "execution_count": null,
   "id": "0a5ab4ab-0e15-4cbc-a2fb-83bf97e48d3f",
   "metadata": {
    "tags": []
   },
   "outputs": [],
   "source": [
    "options_kwargs = {\n",
    "    'chart': {\n",
    "        'type': 'heatmap',\n",
    "        'inverted': True\n",
    "    },\n",
    "\n",
    "    'accessibility': {\n",
    "        'description': 'We see how temperatures are warmer during the day, especially from around 9am to 9pm. May 8th through 11th are also overall colder days compared to the rest. Overall the temperatures range from around -1 degrees C to around 23 degrees C.'\n",
    "    },\n",
    "\n",
    "    'title': {\n",
    "        'text': 'Highcharts Heat Map',\n",
    "        'align': 'left'\n",
    "    },\n",
    "\n",
    "    'subtitle': {\n",
    "        'text': 'Temperature variation by day and hour through May 2017',\n",
    "        'align': 'left'\n",
    "    },\n",
    "\n",
    "    'xAxis': {\n",
    "        'tickPixelInterval': 50,\n",
    "        'min': datetime.date(2017, 5, 1),\n",
    "        'max': datetime.date(2017, 5, 31),\n",
    "        'labels': {\n",
    "            'enabled': True,\n",
    "            'format': '{value:%Y-%m-%d}'\n",
    "        }\n",
    "    },\n",
    "\n",
    "    'yAxis': {\n",
    "        'accessibility': {\n",
    "            'description': 'Hours in the day'\n",
    "        },\n",
    "        'title': {\n",
    "            'text': constants.EnforcedNull\n",
    "        },\n",
    "        'labels': {\n",
    "            'format': '{value}:00'\n",
    "        },\n",
    "        'minPadding': 0,\n",
    "        'maxPadding': 0,\n",
    "        'startOnTick': False,\n",
    "        'endOnTick': False,\n",
    "        'tickPositions': [0, 6, 12, 18, 24],\n",
    "        'tickWidth': 1,\n",
    "        'min': 0,\n",
    "        'max': 23\n",
    "    },\n",
    "\n",
    "    'colorAxis': {\n",
    "        'stops': [\n",
    "            [0, '#3060cf'],\n",
    "            [0.5, '#fffbbc'],\n",
    "            [0.9, '#c4463a']\n",
    "        ],\n",
    "        'min': -5\n",
    "    }\n",
    "}"
   ]
  },
  {
   "cell_type": "markdown",
   "id": "83ea7d23-2026-4a15-9144-e30001406eb8",
   "metadata": {},
   "source": [
    "## Populate the Dataframe"
   ]
  },
  {
   "cell_type": "code",
   "execution_count": null,
   "id": "a51b0171-0852-4f72-94a5-af08626144a6",
   "metadata": {
    "tags": []
   },
   "outputs": [],
   "source": [
    "df = pandas.read_csv('temperatures.csv')\n",
    "df"
   ]
  },
  {
   "cell_type": "markdown",
   "id": "2294327c-46ec-425d-8f4e-0e618607c037",
   "metadata": {},
   "source": [
    "## Create the Series"
   ]
  },
  {
   "cell_type": "code",
   "execution_count": null,
   "id": "8fb6490d-cb69-4ed3-995b-8df7389caee3",
   "metadata": {
    "tags": []
   },
   "outputs": [],
   "source": [
    "series = HeatmapSeries.from_pandas(df, \n",
    "                                   property_map = {'x': 'Date','y': 'Time', 'value': 'Temperature'}, \n",
    "                                   series_kwargs = {\n",
    "                                       'name': 'Temperature',\n",
    "                                       'borderWidth': 0,\n",
    "                                       'colsize': 24 * 36e5,\n",
    "                                       'tooltip': {\n",
    "                                           'headerFormat': 'Temperature<br/>',\n",
    "                                           'pointFormat': '{point.x:%e %b, %Y} {point.y}:00: <b>{point.value} ℃</b>'\n",
    "                                       },\n",
    "                                       'accessibility': {\n",
    "                                           'enabled': False\n",
    "                                       }\n",
    "                                   })"
   ]
  },
  {
   "cell_type": "markdown",
   "id": "22f593cd-1641-46db-aca3-4aaeec8d59bb",
   "metadata": {},
   "source": [
    "## Assemble the Chart"
   ]
  },
  {
   "cell_type": "code",
   "execution_count": null,
   "id": "d54eeb90-3535-4973-b44e-8109bf480c4e",
   "metadata": {},
   "outputs": [],
   "source": [
    "chart = Chart(options = options_kwargs)\n",
    "chart.is_maps_chart = True\n",
    "chart.add_series(series)"
   ]
  },
  {
   "cell_type": "markdown",
   "id": "da99cefc-d953-4764-8392-a704e34702a8",
   "metadata": {},
   "source": [
    "## Display the Chart"
   ]
  },
  {
   "cell_type": "code",
   "execution_count": null,
   "id": "97eb8175-132f-48ac-bfeb-58d10dae40a6",
   "metadata": {},
   "outputs": [],
   "source": [
    "chart.display()"
   ]
  },
  {
   "cell_type": "code",
   "execution_count": null,
   "id": "4f9e0f1e-4fef-4538-bf71-366ab6484d3e",
   "metadata": {},
   "outputs": [],
   "source": []
  }
 ],
 "metadata": {
  "kernelspec": {
   "display_name": "Python 3 (ipykernel)",
   "language": "python",
   "name": "python3"
  },
  "language_info": {
   "codemirror_mode": {
    "name": "ipython",
    "version": 3
   },
   "file_extension": ".py",
   "mimetype": "text/x-python",
   "name": "python",
   "nbconvert_exporter": "python",
   "pygments_lexer": "ipython3",
   "version": "3.10.5"
  }
 },
 "nbformat": 4,
 "nbformat_minor": 5
}
