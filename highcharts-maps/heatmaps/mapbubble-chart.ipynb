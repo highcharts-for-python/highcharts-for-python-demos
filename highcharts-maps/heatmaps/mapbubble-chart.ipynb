{
 "cells": [
  {
   "cell_type": "markdown",
   "id": "47294813-79d0-43a9-9337-cb573859ed10",
   "metadata": {},
   "source": [
    "# Map Bubble Chart\n",
    "This demo shows how to assemble a **Map Bubble** chart using Highcharts Maps for Python."
   ]
  },
  {
   "cell_type": "markdown",
   "id": "c0669da6-fc33-44c7-b411-1d345d8ebb43",
   "metadata": {},
   "source": [
    "## Import Dependencies"
   ]
  },
  {
   "cell_type": "code",
   "execution_count": null,
   "id": "6857426f-0640-4d0b-be61-37983ed57c6c",
   "metadata": {},
   "outputs": [],
   "source": [
    "from highcharts_maps.chart import Chart\n",
    "from highcharts_maps.options import HighchartsMapsOptions\n",
    "from highcharts_maps.options.series.map import MapSeries\n",
    "from highcharts_maps.options.series.mapbubble import MapBubbleSeries\n",
    "import requests"
   ]
  },
  {
   "cell_type": "markdown",
   "id": "f35f89a4-c1e0-442a-8690-b580b28b46d3",
   "metadata": {},
   "source": [
    "## Download Map Data and Data"
   ]
  },
  {
   "cell_type": "code",
   "execution_count": null,
   "id": "f2b2db41-587e-409d-92e5-47622e63504f",
   "metadata": {},
   "outputs": [],
   "source": [
    "topology_response = requests.get('https://code.highcharts.com/mapdata/custom/world.topo.json')\n",
    "topology = topology_response.text\n",
    "\n",
    "data_response = requests.get('https://cdn.jsdelivr.net/gh/highcharts/highcharts@v7.0.0/samples/data/world-population.json')\n",
    "data = data_response.text"
   ]
  },
  {
   "cell_type": "markdown",
   "id": "cf28a6f6-344a-4d73-aafa-47eef1813a41",
   "metadata": {},
   "source": [
    "## Assemble Chart Options"
   ]
  },
  {
   "cell_type": "code",
   "execution_count": null,
   "id": "540d4b99-62a0-4f31-b34c-2d8effa133b4",
   "metadata": {},
   "outputs": [],
   "source": [
    "options_as_dict = {\n",
    "    'chart': {\n",
    "        'borderWidth': 1,\n",
    "        'map': topology\n",
    "    },\n",
    "\n",
    "    'title': {\n",
    "        'text': 'World population 2013 by country'\n",
    "    },\n",
    "\n",
    "    'subtitle': {\n",
    "        'text': 'Demo of Highcharts map with bubbles'\n",
    "    },\n",
    "\n",
    "    'accessibility': {\n",
    "        'description': 'We see how China and India by far are the countries with the largest population.'\n",
    "    },\n",
    "\n",
    "    'legend': {\n",
    "        'enabled': False\n",
    "    },\n",
    "\n",
    "    'mapNavigation': {\n",
    "        'enabled': True,\n",
    "        'buttonOptions': {\n",
    "            'verticalAlign': 'bottom'\n",
    "        }\n",
    "    },\n",
    "\n",
    "    'mapView': {\n",
    "        'fitToGeometry': {\n",
    "            'type': 'MultiPoint',\n",
    "            'coordinates': [\n",
    "                # Alaska west\n",
    "                [-164, 54],\n",
    "                # Greenland north\n",
    "                [-35, 84],\n",
    "                # New Zealand east\n",
    "                [179, -38],\n",
    "                # Chile south\n",
    "                [-68, -55]\n",
    "            ]\n",
    "        }\n",
    "    }\n",
    "}\n",
    "options = HighchartsMapsOptions.from_dict(options_as_dict)"
   ]
  },
  {
   "cell_type": "markdown",
   "id": "d901ae11-1f5b-494d-b4b7-3a67016241ee",
   "metadata": {},
   "source": [
    "## Assemble the Series"
   ]
  },
  {
   "cell_type": "code",
   "execution_count": null,
   "id": "f4d913ff-02bd-4eaf-897d-9840c8ef34f9",
   "metadata": {},
   "outputs": [],
   "source": [
    "map_series = MapSeries(name = 'Countries', color = '#E0E0E0', enable_mouse_tracking = False)\n",
    "bubble_series = MapBubbleSeries(name = 'Population 2016',\n",
    "                                join_by = ['iso-a3', 'code3'],\n",
    "                                data = data,\n",
    "                                min_size = 4,\n",
    "                                max_size = '12%',\n",
    "                                tooltip = {\n",
    "                                    'pointFormat': '{point.properties.hc-a2}: {point.z} thousands'\n",
    "                                })\n",
    "options.add_series(map_series, bubble_series)"
   ]
  },
  {
   "cell_type": "markdown",
   "id": "a0719190-1022-4ed7-90b1-5bbac2413948",
   "metadata": {},
   "source": [
    "## Assemble and Display the Chart"
   ]
  },
  {
   "cell_type": "code",
   "execution_count": null,
   "id": "9550b861-1697-483b-849a-094fbca32602",
   "metadata": {},
   "outputs": [],
   "source": [
    "chart = Chart.from_options(options)\n",
    "chart.display()"
   ]
  },
  {
   "cell_type": "code",
   "execution_count": null,
   "id": "16306c31-2e3f-4255-8fc5-62c65a82f83e",
   "metadata": {
    "tags": []
   },
   "outputs": [],
   "source": []
  },
  {
   "cell_type": "code",
   "execution_count": null,
   "id": "210e5b98-4bdf-41f6-b5ef-0bce41c1f896",
   "metadata": {},
   "outputs": [],
   "source": []
  }
 ],
 "metadata": {
  "kernelspec": {
   "display_name": "Python 3 (ipykernel)",
   "language": "python",
   "name": "python3"
  },
  "language_info": {
   "codemirror_mode": {
    "name": "ipython",
    "version": 3
   },
   "file_extension": ".py",
   "mimetype": "text/x-python",
   "name": "python",
   "nbconvert_exporter": "python",
   "pygments_lexer": "ipython3",
   "version": "3.10.5"
  }
 },
 "nbformat": 4,
 "nbformat_minor": 5
}
