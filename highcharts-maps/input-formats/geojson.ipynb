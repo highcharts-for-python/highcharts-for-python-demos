{
 "cells": [
  {
   "cell_type": "markdown",
   "id": "60e0ca3d-2748-4ef0-b70e-f3a6132a0459",
   "metadata": {},
   "source": [
    "# GeoJSON Demo"
   ]
  },
  {
   "cell_type": "markdown",
   "id": "db7258fb-2824-4fcd-9786-6eef9a0f0523",
   "metadata": {},
   "source": [
    "## Import Dependencies"
   ]
  },
  {
   "cell_type": "code",
   "execution_count": null,
   "id": "7baf8929-2abf-4e27-9155-9dd06a316775",
   "metadata": {
    "tags": []
   },
   "outputs": [],
   "source": [
    "from highcharts_maps.chart import Chart\n",
    "from highcharts_maps.options.series.data.map_data import MapData\n",
    "import requests"
   ]
  },
  {
   "cell_type": "markdown",
   "id": "43e3d9c0-b17a-476e-8a42-7a7287974cbf",
   "metadata": {},
   "source": [
    "## Configure Data"
   ]
  },
  {
   "cell_type": "code",
   "execution_count": null,
   "id": "1f4f6edb-a45d-4ecb-80da-495b3b1c3f32",
   "metadata": {
    "tags": []
   },
   "outputs": [],
   "source": [
    "data = [\n",
    "    ['DE.SH', 728],\n",
    "    ['DE.BE', 710],\n",
    "    ['DE.MV', 963],\n",
    "    ['DE.HB', 541],\n",
    "    ['DE.HH', 622],\n",
    "    ['DE.RP', 866],\n",
    "    ['DE.SL', 398],\n",
    "    ['DE.BY', 785],\n",
    "    ['DE.SN', 223],\n",
    "    ['DE.ST', 605],\n",
    "    ['DE.NW', 237],\n",
    "    ['DE.BW', 157],\n",
    "    ['DE.HE', 134],\n",
    "    ['DE.NI', 136],\n",
    "    ['DE.TH', 704],\n",
    "    ['DE.', 361]\n",
    "]\n",
    "map_response = requests.get('https://cdn.jsdelivr.net/gh/highcharts/highcharts@v7.0.0/samples/data/germany.geo.json')\n",
    "map_data_as_str = map_response.text"
   ]
  },
  {
   "cell_type": "markdown",
   "id": "1cd77806-6379-4f1a-b27b-7702f46a9249",
   "metadata": {},
   "source": [
    "## Configure Options"
   ]
  },
  {
   "cell_type": "code",
   "execution_count": null,
   "id": "e8f070b7-87a8-49ec-8f3e-42c65aba320d",
   "metadata": {
    "tags": []
   },
   "outputs": [],
   "source": [
    "options = {\n",
    "    'chart': {\n",
    "        'map': MapData.from_geojson(map_data_as_str)\n",
    "    },\n",
    "\n",
    "    'title': {\n",
    "        'text': 'GeoJSON Data for Germany'\n",
    "    },\n",
    "\n",
    "    'accessibility': {\n",
    "        'typeDescription': 'Map of Germany.'\n",
    "    },\n",
    "\n",
    "    'mapNavigation': {\n",
    "        'enabled': False,\n",
    "        'buttonOptions': {\n",
    "            'verticalAlign': 'bottom'\n",
    "        }\n",
    "    },\n",
    "\n",
    "    'colorAxis': {\n",
    "        'tickPixelInterval': 100\n",
    "    },\n",
    "\n",
    "    'series': [{\n",
    "        'type': 'map',\n",
    "        'data': data,\n",
    "        'keys': ['code_hasc', 'value'],\n",
    "        'joinBy': 'code_hasc',\n",
    "        'name': 'Random data',\n",
    "        'states': {\n",
    "            'hover': {\n",
    "                'color': '#a4edba'\n",
    "            }\n",
    "        },\n",
    "        'dataLabels': {\n",
    "            'enabled': True,\n",
    "            'format': '{point.properties.postal} '\n",
    "        }\n",
    "    }]\n",
    "}"
   ]
  },
  {
   "cell_type": "markdown",
   "id": "2ea908b1-8c55-4ca6-a943-c47c75f4c5d0",
   "metadata": {},
   "source": [
    "## Assemble Chart"
   ]
  },
  {
   "cell_type": "code",
   "execution_count": null,
   "id": "3a509997-f08b-4466-b3c9-ccbadddcdee7",
   "metadata": {
    "tags": []
   },
   "outputs": [],
   "source": [
    "chart = Chart.from_options(options)\n",
    "chart.is_maps_chart == True"
   ]
  },
  {
   "cell_type": "markdown",
   "id": "00a063d8-d405-4ae9-a59b-20294b68344a",
   "metadata": {
    "tags": []
   },
   "source": [
    "## Display Chart"
   ]
  },
  {
   "cell_type": "code",
   "execution_count": null,
   "id": "cad11295-c153-4aca-a131-46f69ae09dec",
   "metadata": {
    "tags": []
   },
   "outputs": [],
   "source": [
    "chart.display()"
   ]
  },
  {
   "cell_type": "code",
   "execution_count": null,
   "id": "71f1bead-c36b-4143-8720-a7299c8491c5",
   "metadata": {
    "tags": []
   },
   "outputs": [],
   "source": [
    "print(chart._jupyter_javascript())"
   ]
  },
  {
   "cell_type": "code",
   "execution_count": null,
   "id": "85bb7586-46b9-436e-808a-3dd82307e2c2",
   "metadata": {
    "tags": []
   },
   "outputs": [],
   "source": [
    "import json\n",
    "\n",
    "map_data_as_json = json.loads(map_data_as_str)\n",
    "map_data = MapData.from_geojson(map_data_as_str)\n",
    "map_data_as_geojson = map_data.to_geojson()\n",
    "print(map_data_as_geojson)"
   ]
  },
  {
   "cell_type": "code",
   "execution_count": null,
   "id": "5a5045a6-6e5c-4740-8d1e-3d8524029f3d",
   "metadata": {},
   "outputs": [],
   "source": []
  },
  {
   "cell_type": "code",
   "execution_count": null,
   "id": "6fe3196a-ef6d-4503-a01f-bb83e1ad73f7",
   "metadata": {
    "tags": []
   },
   "outputs": [],
   "source": [
    "from validator_collection import checkers\n",
    "print(checkers.are_dicts_equivalent(map_data_as_json, map_data_as_geojson))"
   ]
  },
  {
   "cell_type": "code",
   "execution_count": null,
   "id": "3e0c6630-5263-42cc-8bca-25c7d935c3b5",
   "metadata": {
    "tags": []
   },
   "outputs": [],
   "source": [
    "print(map_data_as_json)"
   ]
  },
  {
   "cell_type": "code",
   "execution_count": null,
   "id": "8fcf92d4-20a5-46b7-8894-d8b898f35e95",
   "metadata": {
    "tags": []
   },
   "outputs": [],
   "source": [
    "print(map_data_as_geojson)"
   ]
  },
  {
   "cell_type": "code",
   "execution_count": null,
   "id": "69b85ab6-31e0-4c74-b984-91166588cd9c",
   "metadata": {
    "tags": []
   },
   "outputs": [],
   "source": [
    "print(map_data_as_str)"
   ]
  },
  {
   "cell_type": "code",
   "execution_count": null,
   "id": "a0967329-fa8a-4b58-b7b6-578772f9d818",
   "metadata": {},
   "outputs": [],
   "source": []
  }
 ],
 "metadata": {
  "kernelspec": {
   "display_name": "Python 3 (ipykernel)",
   "language": "python",
   "name": "python3"
  },
  "language_info": {
   "codemirror_mode": {
    "name": "ipython",
    "version": 3
   },
   "file_extension": ".py",
   "mimetype": "text/x-python",
   "name": "python",
   "nbconvert_exporter": "python",
   "pygments_lexer": "ipython3",
   "version": "3.10.5"
  }
 },
 "nbformat": 4,
 "nbformat_minor": 5
}
