{
 "cells": [
  {
   "cell_type": "markdown",
   "id": "60e0ca3d-2748-4ef0-b70e-f3a6132a0459",
   "metadata": {
    "tags": []
   },
   "source": [
    "# GeoJSON Demo\n",
    "**WARNING:** There is some strange bug in this demo tied to the use of a verbose object representation for ``GeometricData`` in the JS literal representation of the chart configuration. This bug is currently being investigated."
   ]
  },
  {
   "cell_type": "markdown",
   "id": "db7258fb-2824-4fcd-9786-6eef9a0f0523",
   "metadata": {},
   "source": [
    "## Import Dependencies"
   ]
  },
  {
   "cell_type": "code",
   "execution_count": null,
   "id": "7baf8929-2abf-4e27-9155-9dd06a316775",
   "metadata": {
    "tags": []
   },
   "outputs": [],
   "source": [
    "from highcharts_maps.chart import Chart\n",
    "from highcharts_maps.options.series.data.map_data import MapData\n",
    "import requests"
   ]
  },
  {
   "cell_type": "markdown",
   "id": "43e3d9c0-b17a-476e-8a42-7a7287974cbf",
   "metadata": {},
   "source": [
    "## Configure Data"
   ]
  },
  {
   "cell_type": "code",
   "execution_count": null,
   "id": "1f4f6edb-a45d-4ecb-80da-495b3b1c3f32",
   "metadata": {
    "tags": []
   },
   "outputs": [],
   "source": [
    "data = [\n",
    "    ['DE.SH', 728],\n",
    "    ['DE.BE', 710],\n",
    "    ['DE.MV', 963],\n",
    "    ['DE.HB', 541],\n",
    "    ['DE.HH', 622],\n",
    "    ['DE.RP', 866],\n",
    "    ['DE.SL', 398],\n",
    "    ['DE.BY', 785],\n",
    "    ['DE.SN', 223],\n",
    "    ['DE.ST', 605],\n",
    "    ['DE.NW', 237],\n",
    "    ['DE.BW', 157],\n",
    "    ['DE.HE', 134],\n",
    "    ['DE.NI', 136],\n",
    "    ['DE.TH', 704],\n",
    "    ['DE.', 361]\n",
    "]\n",
    "map_response = requests.get('https://cdn.jsdelivr.net/gh/highcharts/highcharts@v7.0.0/samples/data/germany.geo.json')\n",
    "map_data_as_str = map_response.text"
   ]
  },
  {
   "cell_type": "markdown",
   "id": "1cd77806-6379-4f1a-b27b-7702f46a9249",
   "metadata": {},
   "source": [
    "## Configure Options"
   ]
  },
  {
   "cell_type": "code",
   "execution_count": null,
   "id": "e8f070b7-87a8-49ec-8f3e-42c65aba320d",
   "metadata": {
    "tags": []
   },
   "outputs": [],
   "source": [
    "options = {\n",
    "    'chart': {\n",
    "        'map': MapData.from_geojson(map_data_as_str)\n",
    "    },\n",
    "\n",
    "    'title': {\n",
    "        'text': 'GeoJSON Data for Germany'\n",
    "    },\n",
    "\n",
    "    'accessibility': {\n",
    "        'typeDescription': 'Map of Germany.'\n",
    "    },\n",
    "\n",
    "    'mapNavigation': {\n",
    "        'enabled': True,\n",
    "        'buttonOptions': {\n",
    "            'verticalAlign': 'bottom'\n",
    "        }\n",
    "    },\n",
    "\n",
    "    'colorAxis': {\n",
    "        'tickPixelInterval': 100\n",
    "    },\n",
    "\n",
    "    'series': [{\n",
    "        'type': 'map',\n",
    "        'data': data,\n",
    "        'keys': ['code_hasc', 'value'],\n",
    "        'joinBy': 'code_hasc',\n",
    "        'name': 'Random data',\n",
    "        'states': {\n",
    "            'hover': {\n",
    "                'color': '#a4edba'\n",
    "            }\n",
    "        },\n",
    "        'dataLabels': {\n",
    "            'enabled': True,\n",
    "            'format': '{point.properties.postal} '\n",
    "        }\n",
    "    }]\n",
    "}\n",
    "options['chart']['map'].force_geojson = True"
   ]
  },
  {
   "cell_type": "markdown",
   "id": "2ea908b1-8c55-4ca6-a943-c47c75f4c5d0",
   "metadata": {},
   "source": [
    "## Assemble Chart"
   ]
  },
  {
   "cell_type": "code",
   "execution_count": null,
   "id": "3a509997-f08b-4466-b3c9-ccbadddcdee7",
   "metadata": {
    "tags": []
   },
   "outputs": [],
   "source": [
    "chart = Chart.from_options(options)\n",
    "chart.is_maps_chart == True"
   ]
  },
  {
   "cell_type": "markdown",
   "id": "00a063d8-d405-4ae9-a59b-20294b68344a",
   "metadata": {
    "tags": []
   },
   "source": [
    "## Display Chart"
   ]
  },
  {
   "cell_type": "code",
   "execution_count": null,
   "id": "cad11295-c153-4aca-a131-46f69ae09dec",
   "metadata": {
    "tags": []
   },
   "outputs": [],
   "source": [
    "chart.display()"
   ]
  },
  {
   "cell_type": "code",
   "execution_count": null,
   "id": "4906eaa6-a5e9-446a-a47b-7789fb1fcac2",
   "metadata": {},
   "outputs": [],
   "source": []
  }
 ],
 "metadata": {
  "kernelspec": {
   "display_name": "Python 3 (ipykernel)",
   "language": "python",
   "name": "python3"
  },
  "language_info": {
   "codemirror_mode": {
    "name": "ipython",
    "version": 3
   },
   "file_extension": ".py",
   "mimetype": "text/x-python",
   "name": "python",
   "nbconvert_exporter": "python",
   "pygments_lexer": "ipython3",
   "version": "3.10.5"
  }
 },
 "nbformat": 4,
 "nbformat_minor": 5
}
