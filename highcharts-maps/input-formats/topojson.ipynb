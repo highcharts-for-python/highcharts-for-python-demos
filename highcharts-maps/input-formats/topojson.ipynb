{
 "cells": [
  {
   "cell_type": "markdown",
   "id": "f86b86ac-6eb9-4ca4-ad4d-382e2febd3bb",
   "metadata": {},
   "source": [
    "# Basic Latitude / Longitude Demo\n",
    "This demo shows a basic map whose map data is encoded using TopoJSON with latitude and longitude points."
   ]
  },
  {
   "cell_type": "markdown",
   "id": "bf3ac5e1-7ad4-4eab-afb5-94b8630b698f",
   "metadata": {},
   "source": [
    "## Import Dependencies"
   ]
  },
  {
   "cell_type": "code",
   "execution_count": null,
   "id": "2c8c44d1-55f8-406a-b0fa-d8e878a83b11",
   "metadata": {
    "tags": []
   },
   "outputs": [],
   "source": [
    "from highcharts_maps.chart import Chart\n",
    "from highcharts_maps.options import HighchartsMapsOptions\n",
    "import requests"
   ]
  },
  {
   "cell_type": "markdown",
   "id": "89a27739-f417-4c5d-acc2-0e598f0d3dc5",
   "metadata": {},
   "source": [
    "## Load Map Data"
   ]
  },
  {
   "cell_type": "code",
   "execution_count": null,
   "id": "73a26127-af12-4755-bb0c-3e6156ef3e45",
   "metadata": {
    "tags": []
   },
   "outputs": [],
   "source": [
    "topology_response = requests.get('https://code.highcharts.com/mapdata/countries/gb/gb-all.topo.json')\n",
    "topology = topology_response.text"
   ]
  },
  {
   "cell_type": "markdown",
   "id": "67acd36f-c30a-46de-a810-5ef53e5e24b9",
   "metadata": {},
   "source": [
    "## Configure Options"
   ]
  },
  {
   "cell_type": "code",
   "execution_count": null,
   "id": "a232e303-a22d-4c1c-8e08-3289e1d7ea4c",
   "metadata": {
    "tags": []
   },
   "outputs": [],
   "source": [
    "as_dict = {\n",
    "    'chart': {\n",
    "        'map': topology\n",
    "    },\n",
    "\n",
    "    'title': {\n",
    "        'text': 'Highcharts Maps Basic Lat/Lon Demo'\n",
    "    },\n",
    "\n",
    "    'accessibility': {\n",
    "        'description': 'Map where city locations have been defined using latitude/longitude.'\n",
    "    },\n",
    "\n",
    "    'mapNavigation': {\n",
    "        'enabled': True\n",
    "    },\n",
    "\n",
    "    'tooltip': {\n",
    "        'headerFormat': '',\n",
    "        'pointFormat': '<b>{point.name}</b><br>Lat: {point.lat}, Lon: {point.lon}'\n",
    "    },\n",
    "\n",
    "    'series': [{\n",
    "        'type': 'map',\n",
    "        'name': 'Great Britain',\n",
    "        'borderColor': '#A0A0A0',\n",
    "        'nullColor': 'rgba(200, 200, 200, 0.3)',\n",
    "        'showInLegend': False\n",
    "    }, {\n",
    "        'name': 'Separators',\n",
    "        'type': 'mapline',\n",
    "        'nullColor': '#707070',\n",
    "        'showInLegend': False,\n",
    "        'enableMouseTracking': False,\n",
    "        'accessibility': {\n",
    "            'enabled': False\n",
    "        }\n",
    "    }, {\n",
    "        'type': 'mappoint',\n",
    "        'name': 'Cities',\n",
    "        'accessibility': {\n",
    "            'point': {\n",
    "                'valueDescriptionFormat': '{xDescription}. Lat: {point.lat:.2f}, lon: {point.lon:.2f}.'\n",
    "            }\n",
    "        },\n",
    "        'color': '#000',\n",
    "        'data': [{\n",
    "            'name': 'London',\n",
    "            'lat': 51.507222,\n",
    "            'lon': -0.1275\n",
    "        }, {\n",
    "            'name': 'Birmingham',\n",
    "            'lat': 52.483056,\n",
    "            'lon': -1.893611\n",
    "        }, {\n",
    "            'name': 'Leeds',\n",
    "            'lat': 53.799722,\n",
    "            'lon': -1.549167\n",
    "        }, {\n",
    "            'name': 'Glasgow',\n",
    "            'lat': 55.858,\n",
    "            'lon': -4.259\n",
    "        }, {\n",
    "            'name': 'Sheffield',\n",
    "            'lat': 53.383611,\n",
    "            'lon': -1.466944\n",
    "        }, {\n",
    "            'name': 'Liverpool',\n",
    "            'lat': 53.4,\n",
    "            'lon': -3\n",
    "        }, {\n",
    "            'name': 'Bristol',\n",
    "            'lat': 51.45,\n",
    "            'lon': -2.583333\n",
    "        }, {\n",
    "            'name': 'Belfast',\n",
    "            'lat': 54.597,\n",
    "            'lon': -5.93\n",
    "        }, {\n",
    "            'name': 'Lerwick',\n",
    "            'lat': 60.155,\n",
    "            'lon': -1.145,\n",
    "            'dataLabels': {\n",
    "                'align': 'left',\n",
    "                'x': 5,\n",
    "                'verticalAlign': 'middle'\n",
    "            }\n",
    "        }]\n",
    "    }]\n",
    "}"
   ]
  },
  {
   "cell_type": "markdown",
   "id": "85a0ce12-8341-4fa3-acce-8d2cc4bba238",
   "metadata": {},
   "source": [
    "## Assemble and Display Chart"
   ]
  },
  {
   "cell_type": "code",
   "execution_count": null,
   "id": "76efd090-f826-4579-8e81-249702a2ab4c",
   "metadata": {
    "tags": []
   },
   "outputs": [],
   "source": [
    "chart = Chart.from_options(as_dict)\n",
    "chart.display()"
   ]
  },
  {
   "cell_type": "code",
   "execution_count": null,
   "id": "d8f714a3-ed9d-4831-ad64-25a42df83f3a",
   "metadata": {},
   "outputs": [],
   "source": []
  }
 ],
 "metadata": {
  "kernelspec": {
   "display_name": "Python 3 (ipykernel)",
   "language": "python",
   "name": "python3"
  },
  "language_info": {
   "codemirror_mode": {
    "name": "ipython",
    "version": 3
   },
   "file_extension": ".py",
   "mimetype": "text/x-python",
   "name": "python",
   "nbconvert_exporter": "python",
   "pygments_lexer": "ipython3",
   "version": "3.10.5"
  }
 },
 "nbformat": 4,
 "nbformat_minor": 5
}
