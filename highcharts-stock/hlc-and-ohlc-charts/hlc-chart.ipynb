{
 "cells": [
  {
   "cell_type": "markdown",
   "id": "a518f4fc-72a6-40ba-a109-b1ba91640e44",
   "metadata": {},
   "source": [
    "# HLC Chart\n",
    "Renders an HLC (High-Low-Close) chart of the AAPL (Apple) stock price for a given period of time."
   ]
  },
  {
   "cell_type": "markdown",
   "id": "896b9416-fd0b-4d57-8048-1ede94014c7e",
   "metadata": {},
   "source": [
    "## Import Dependencies"
   ]
  },
  {
   "cell_type": "code",
   "execution_count": null,
   "id": "c6f4b449-9437-4eb9-98fb-99c8e3141f62",
   "metadata": {
    "tags": []
   },
   "outputs": [],
   "source": [
    "from highcharts_stock.chart import Chart\n",
    "from highcharts_stock.options.series.hlc import HLCSeries\n",
    "import requests"
   ]
  },
  {
   "cell_type": "markdown",
   "id": "1ec75703-f9f8-4c54-bdac-5e027780e9f3",
   "metadata": {},
   "source": [
    "## Retrieve Data"
   ]
  },
  {
   "cell_type": "code",
   "execution_count": null,
   "id": "cb492896-d889-4908-98ab-b33dd0ddcf87",
   "metadata": {
    "tags": []
   },
   "outputs": [],
   "source": [
    "stock_response = requests.get('https://demo-live-data.highcharts.com/aapl-ohlc.json')\n",
    "stock_data = stock_response.text"
   ]
  },
  {
   "cell_type": "markdown",
   "id": "e0fc56b4-47aa-453f-8c08-2550383b359a",
   "metadata": {},
   "source": [
    "## Assemble Options"
   ]
  },
  {
   "cell_type": "code",
   "execution_count": null,
   "id": "a2bd4550-d823-484f-93bc-1daad7ee1e85",
   "metadata": {
    "tags": []
   },
   "outputs": [],
   "source": [
    "as_dict = {\n",
    "    'range_selector': {\n",
    "        'selected': 2\n",
    "    },\n",
    "    'title': {\n",
    "        'text': 'AAPL Stock Price'\n",
    "    },\n",
    "    'series': [\n",
    "        {\n",
    "            'type': 'hlc',\n",
    "            'name': 'AAPL Stock Price',\n",
    "            'use_ohlc_data': True,\n",
    "            'data': stock_data,\n",
    "            'accessibility': {\n",
    "                'point': {\n",
    "                    'value_description_format': '{xDescription}. High: {point.high}, low: {point.low}, close: {point.close}.'\n",
    "                }\n",
    "            },\n",
    "            'data_grouping': {\n",
    "                'units': [[\n",
    "                    'week',\n",
    "                    [1]\n",
    "                ],\n",
    "                [\n",
    "                    'month',\n",
    "                    [1, 2, 3, 4, 6]\n",
    "                ]]\n",
    "            }\n",
    "        }\n",
    "    ]\n",
    "}"
   ]
  },
  {
   "cell_type": "markdown",
   "id": "57eb864d-43ae-4c6a-8b80-66d8812e8899",
   "metadata": {},
   "source": [
    "## Assemble and Display Chart"
   ]
  },
  {
   "cell_type": "code",
   "execution_count": null,
   "id": "814e9ed9-e70d-4891-8048-e75a86e55c82",
   "metadata": {
    "tags": []
   },
   "outputs": [],
   "source": [
    "chart = Chart.from_options(as_dict)\n",
    "chart.display()"
   ]
  },
  {
   "cell_type": "code",
   "execution_count": null,
   "id": "25abb79d-ca39-4e32-91c5-e176dbffe846",
   "metadata": {},
   "outputs": [],
   "source": []
  }
 ],
 "metadata": {
  "kernelspec": {
   "display_name": "Python 3 (ipykernel)",
   "language": "python",
   "name": "python3"
  },
  "language_info": {
   "codemirror_mode": {
    "name": "ipython",
    "version": 3
   },
   "file_extension": ".py",
   "mimetype": "text/x-python",
   "name": "python",
   "nbconvert_exporter": "python",
   "pygments_lexer": "ipython3",
   "version": "3.10.5"
  }
 },
 "nbformat": 4,
 "nbformat_minor": 5
}
