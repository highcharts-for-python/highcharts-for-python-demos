{
 "cells": [
  {
   "cell_type": "markdown",
   "id": "3d033821-eebd-4e56-8d75-1640001f6451",
   "metadata": {},
   "source": [
    "# MACD and Pivot Points Demo\n",
    "Demonstrating a Highcharts Stock chart that adds the MACD and Pivot Point technical indicators."
   ]
  },
  {
   "cell_type": "markdown",
   "id": "19324d42-e2dd-41a3-a12f-ca8fbceda5ec",
   "metadata": {},
   "source": [
    "## Import Dependencies"
   ]
  },
  {
   "cell_type": "code",
   "execution_count": null,
   "id": "9962170c-4f90-41f7-873e-0599ab54c046",
   "metadata": {
    "tags": []
   },
   "outputs": [],
   "source": [
    "from highcharts_stock.constants import EnforcedNull\n",
    "from highcharts_stock.chart import Chart\n",
    "import requests"
   ]
  },
  {
   "cell_type": "markdown",
   "id": "131fd3c7-bacc-4bfb-ae09-d5800a7be170",
   "metadata": {},
   "source": [
    "# Prepare Data"
   ]
  },
  {
   "cell_type": "code",
   "execution_count": null,
   "id": "3c274c54-ddde-40de-b650-b7a5a001ab77",
   "metadata": {
    "tags": []
   },
   "outputs": [],
   "source": [
    "response = requests.get('https://demo-live-data.highcharts.com/aapl-ohlc.json')\n",
    "data = response.text"
   ]
  },
  {
   "cell_type": "markdown",
   "id": "089b8f43-ea01-4753-a52f-bfd1e23d948d",
   "metadata": {},
   "source": [
    "## Prepare Options"
   ]
  },
  {
   "cell_type": "code",
   "execution_count": null,
   "id": "e8f030f9-6f9c-445b-b0f5-9f6b2118c865",
   "metadata": {
    "jupyter": {
     "source_hidden": true
    },
    "tags": []
   },
   "outputs": [],
   "source": [
    "options = {\n",
    "    'rangeSelector': {\n",
    "        'selected': 2\n",
    "    },\n",
    "\n",
    "    'yAxis': [{\n",
    "        'height': '75%',\n",
    "        'resize': {\n",
    "            'enabled': True\n",
    "        },\n",
    "        'labels': {\n",
    "            'align': 'right',\n",
    "            'x': -3\n",
    "        },\n",
    "        'title': {\n",
    "            'text': 'AAPL'\n",
    "        }\n",
    "    }, {\n",
    "        'top': '75%',\n",
    "        'height': '25%',\n",
    "        'labels': {\n",
    "            'align': 'right',\n",
    "            'x': -3\n",
    "        },\n",
    "        'offset': 0,\n",
    "        'title': {\n",
    "            'text': 'MACD'\n",
    "        }\n",
    "    }],\n",
    "\n",
    "    'title': {\n",
    "        'text': 'AAPL Stock Price'\n",
    "    },\n",
    "\n",
    "    'subtitle': {\n",
    "        'text': 'With MACD and Pivot Points technical indicators'\n",
    "    },\n",
    "\n",
    "    'series': [{\n",
    "        'type': 'ohlc',\n",
    "        'id': 'aapl',\n",
    "        'name': 'AAPL Stock Price',\n",
    "        'data': data,\n",
    "        'zIndex': 1\n",
    "    }]\n",
    "}"
   ]
  },
  {
   "cell_type": "markdown",
   "id": "b06bf4c1-988c-49de-994e-96d6948a440e",
   "metadata": {},
   "source": [
    "## Generate Chart"
   ]
  },
  {
   "cell_type": "code",
   "execution_count": null,
   "id": "57aa98fa-be9a-462c-8b07-eb2e97de4f13",
   "metadata": {
    "tags": []
   },
   "outputs": [],
   "source": [
    "chart = Chart.from_options(options)\n",
    "chart.is_stock_chart = True"
   ]
  },
  {
   "cell_type": "markdown",
   "id": "bac702f0-34c5-4532-90a3-638a8d36ffb9",
   "metadata": {},
   "source": [
    "## Add Technical Indicators"
   ]
  },
  {
   "cell_type": "code",
   "execution_count": null,
   "id": "d7b3b207-476b-4015-84e6-6bba06e6129d",
   "metadata": {
    "tags": []
   },
   "outputs": [],
   "source": [
    "chart = chart.options.series[0].add_indicator(chart, \n",
    "                                              'macd', \n",
    "                                              indicator_kwargs = {\n",
    "                                                  'y_axis': 1\n",
    "                                              })\n",
    "chart = chart.options.series[0].add_indicator(chart, \n",
    "                                              'pivotpoints', \n",
    "                                              indicator_kwargs = {\n",
    "                                                  'z_index': 0,\n",
    "                                                  'line_width': 1,\n",
    "                                                  'data_labels': {\n",
    "                                                      'overflow': 'none',\n",
    "                                                      'crop': False,\n",
    "                                                      'y': 4,\n",
    "                                                      'style': {\n",
    "                                                          'font_size': 9\n",
    "                                                      }\n",
    "                                                  }\n",
    "                                              })"
   ]
  },
  {
   "cell_type": "markdown",
   "id": "8e558de2-ec54-456f-b223-98c1dde8d19f",
   "metadata": {},
   "source": [
    "## Display the Chart"
   ]
  },
  {
   "cell_type": "code",
   "execution_count": null,
   "id": "17bed092-879b-41c2-a47f-b74ff25ba12e",
   "metadata": {
    "tags": []
   },
   "outputs": [],
   "source": [
    "chart.display()"
   ]
  },
  {
   "cell_type": "code",
   "execution_count": null,
   "id": "80d5248d-bd84-4d11-9b96-1e990d46d0db",
   "metadata": {},
   "outputs": [],
   "source": []
  }
 ],
 "metadata": {
  "kernelspec": {
   "display_name": "Python 3 (ipykernel)",
   "language": "python",
   "name": "python3"
  },
  "language_info": {
   "codemirror_mode": {
    "name": "ipython",
    "version": 3
   },
   "file_extension": ".py",
   "mimetype": "text/x-python",
   "name": "python",
   "nbconvert_exporter": "python",
   "pygments_lexer": "ipython3",
   "version": "3.10.5"
  }
 },
 "nbformat": 4,
 "nbformat_minor": 5
}
