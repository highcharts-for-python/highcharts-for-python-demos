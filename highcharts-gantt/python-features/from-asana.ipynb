{
 "cells": [
  {
   "cell_type": "markdown",
   "id": "7bb0c2c9-3aa6-4243-83c7-366cd5e69138",
   "metadata": {},
   "source": [
    "# ``.from_asana()`` Demo\n",
    "This demonstrates the ``.from_asana()`` method which generates a Gantt chart from an Asana project."
   ]
  },
  {
   "cell_type": "markdown",
   "id": "73d6b277-e09a-445a-aa15-5e1930fa6791",
   "metadata": {},
   "source": [
    "## Import Dependencies"
   ]
  },
  {
   "cell_type": "code",
   "execution_count": null,
   "id": "11cad6ef-15d4-4d3d-a369-60f01483b83b",
   "metadata": {},
   "outputs": [],
   "source": [
    "import os\n",
    "from highcharts_gantt.chart import Chart\n",
    "from dotenv import load_dotenv\n",
    "\n",
    "## Load Environment Variables\n",
    "load_dotenv()"
   ]
  },
  {
   "cell_type": "markdown",
   "id": "dd940927-5f6a-4638-8959-7bdfe184375e",
   "metadata": {},
   "source": [
    "## Assemble Chart"
   ]
  },
  {
   "cell_type": "code",
   "execution_count": null,
   "id": "5844467b-ffeb-46bd-9657-010634cb6b7f",
   "metadata": {},
   "outputs": [],
   "source": [
    "project_gid = os.getenv('ASANA_PROJECT_GID', None)\n",
    "section_gid = os.getenv('ASANA_SECTION_GID', None)\n",
    "personal_access_token = os.getenv('ASANA_PERSONAL_ACCESS_TOKEN', None)\n",
    "\n",
    "kwargs = {}\n",
    "kwargs['project_gid'] = project_gid\n",
    "kwargs['section_gid'] = section_gid\n",
    "kwargs['personal_access_token'] = personal_access_token\n",
    "\n",
    "chart = Chart.from_asana(**kwargs)"
   ]
  },
  {
   "cell_type": "markdown",
   "id": "34ff4dfd-a2d6-49bd-a1c7-ab500d4ce76a",
   "metadata": {},
   "source": [
    "## Display Chart"
   ]
  },
  {
   "cell_type": "code",
   "execution_count": null,
   "id": "a2f63850-1889-49a4-a770-daf092e76beb",
   "metadata": {},
   "outputs": [],
   "source": [
    "chart.display()"
   ]
  },
  {
   "cell_type": "code",
   "execution_count": null,
   "id": "de334b24-78dd-49fb-934e-394ede18e60a",
   "metadata": {},
   "outputs": [],
   "source": []
  }
 ],
 "metadata": {
  "kernelspec": {
   "display_name": "Python 3 (ipykernel)",
   "language": "python",
   "name": "python3"
  },
  "language_info": {
   "codemirror_mode": {
    "name": "ipython",
    "version": 3
   },
   "file_extension": ".py",
   "mimetype": "text/x-python",
   "name": "python",
   "nbconvert_exporter": "python",
   "pygments_lexer": "ipython3",
   "version": "3.10.5"
  }
 },
 "nbformat": 4,
 "nbformat_minor": 5
}
