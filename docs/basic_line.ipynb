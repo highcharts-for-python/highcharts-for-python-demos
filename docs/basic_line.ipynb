{
 "cells": [
  {
   "cell_type": "markdown",
   "id": "b61ab4e2-55d4-4159-96c0-b5ab12954d59",
   "metadata": {},
   "source": [
    "# Basic Line Demo\n",
    "Basic line chart showing trends in a dataset. This chart includes the series-label module, which adds a label to each line for enhanced readability."
   ]
  },
  {
   "cell_type": "markdown",
   "id": "36247b6d-8b86-4c54-9142-b47d3f994eca",
   "metadata": {
    "tags": []
   },
   "source": [
    "## Import the Library Components"
   ]
  },
  {
   "cell_type": "code",
   "execution_count": null,
   "id": "03fde0d1-880a-467a-9aac-777ebf7c59f3",
   "metadata": {
    "tags": []
   },
   "outputs": [],
   "source": [
    "from highcharts_core.chart import Chart\n",
    "from highcharts_core.options import HighchartsOptions\n",
    "from highcharts_core.options.plot_options import PlotOptions\n",
    "from highcharts_core.options.axes.x_axis import XAxis\n",
    "from highcharts_core.options.axes.y_axis import YAxis\n",
    "from highcharts_core.options.axes.accessibility import AxisAccessibility\n",
    "from highcharts_core.options.axes.title import AxisTitle\n",
    "from highcharts_core.options.title import Title\n",
    "from highcharts_core.options.subtitle import Subtitle\n",
    "from highcharts_core.options.legend import Legend\n",
    "from highcharts_core.options.plot_options.series import SeriesOptions\n",
    "from highcharts_core.options.series.area import LineSeries\n",
    "from highcharts_core.options.series.labels import SeriesLabel\n",
    "from highcharts_core.options.responsive import Responsive, ResponsiveRules, Condition\n",
    "from highcharts_core.constants import EnforcedNull"
   ]
  },
  {
   "cell_type": "markdown",
   "id": "e0000636-b68e-488e-b15f-988ebc1d8b6a",
   "metadata": {},
   "source": [
    "## Instantiate the Preliminary Chart Options"
   ]
  },
  {
   "cell_type": "code",
   "execution_count": null,
   "id": "0a5ab4ab-0e15-4cbc-a2fb-83bf97e48d3f",
   "metadata": {
    "tags": []
   },
   "outputs": [],
   "source": [
    "chart_options = HighchartsOptions(\n",
    "    title = Title(text = 'U.S Solar Employment Growth by Job Category, 2010-2020',\n",
    "                  align = 'left'),\n",
    "    subtitle = Subtitle(text = 'Source: <a href=\"https://irecusa.org/programs/solar-jobs-census/\" target=\"_blank\">IREC</a>',\n",
    "                        align = 'left'),\n",
    "    y_axis = YAxis(title = AxisTitle(text = 'Number of Employees')),\n",
    "    x_axis = XAxis(\n",
    "        accessibility = AxisAccessibility(range_description = 'Range: 2010 to 2020')\n",
    "    ),\n",
    "    legend = Legend(layout = 'vertical',\n",
    "                    align = 'right',\n",
    "                    vertical_align = 'middle'),\n",
    "    plot_options = PlotOptions(series = SeriesOptions(point_start = 2010,\n",
    "                                                      label = SeriesLabel(connector_allowed = False)))\n",
    ")"
   ]
  },
  {
   "cell_type": "markdown",
   "id": "c6c67da8-10ce-4237-91ed-bcdbedd6e210",
   "metadata": {},
   "source": [
    "## Instantiate the Responsive Configuration"
   ]
  },
  {
   "cell_type": "code",
   "execution_count": null,
   "id": "6ca8409e-2276-46cd-9773-f2e13264587e",
   "metadata": {
    "tags": []
   },
   "outputs": [],
   "source": [
    "override_options = HighchartsOptions(legend = Legend(layout = 'horizontal',\n",
    "                                                     align = 'center',\n",
    "                                                     vertical_align = 'bottom'))\n",
    "responsive_config = Responsive(\n",
    "    rules = [\n",
    "        ResponsiveRules(chart_options = override_options,\n",
    "                        condition = Condition(max_width = 500))\n",
    "    ]\n",
    ")\n",
    "chart_options.responsive = responsive_config"
   ]
  },
  {
   "cell_type": "markdown",
   "id": "83ea7d23-2026-4a15-9144-e30001406eb8",
   "metadata": {},
   "source": [
    "## Instantiate the Charts' Series (plural)"
   ]
  },
  {
   "cell_type": "code",
   "execution_count": null,
   "id": "a51b0171-0852-4f72-94a5-af08626144a6",
   "metadata": {
    "tags": []
   },
   "outputs": [],
   "source": [
    "series1 = LineSeries(name = 'Installation & Developers',\n",
    "                     data = [43934, 48656, 65165, 81827, 112143, 142383, 171533, 165174, 155157, 161454, 154610])\n",
    "series2 = LineSeries(name = 'Manufacturing',\n",
    "                     data = [24916, 37941, 29742, 29851, 32490, 30282, 38121, 36885, 33726, 34243, 31050])\n",
    "series3 = LineSeries(name = 'Sales & Distribution',\n",
    "                     data = [11744, 30000, 16005, 19771, 20185, 24377, 32147, 30912, 29243, 29213, 25663])\n",
    "series4 = LineSeries(name = 'Operations & Maintenance',\n",
    "                     data = [EnforcedNull, EnforcedNull, EnforcedNull, EnforcedNull, EnforcedNull, EnforcedNull, EnforcedNull, EnforcedNull, 11164, 11218, 10077])\n",
    "series5 = LineSeries(name = 'Other',\n",
    "                     data = [21908, 5548, 8105, 11248, 8989, 11816, 18274, 17300, 13053, 11906, 10073])\n",
    "\n",
    "chart_options.add_series(series1, series2, series3, series4, series5)"
   ]
  },
  {
   "cell_type": "markdown",
   "id": "2294327c-46ec-425d-8f4e-0e618607c037",
   "metadata": {},
   "source": [
    "## Instantiate and Display the Chart"
   ]
  },
  {
   "cell_type": "code",
   "execution_count": null,
   "id": "8fb6490d-cb69-4ed3-995b-8df7389caee3",
   "metadata": {
    "tags": []
   },
   "outputs": [],
   "source": [
    "chart = Chart.from_options(chart_options)\n",
    "chart.display()"
   ]
  },
  {
   "cell_type": "code",
   "execution_count": null,
   "id": "1819d661-006f-4270-ad75-327624db7111",
   "metadata": {},
   "outputs": [],
   "source": []
  }
 ],
 "metadata": {
  "kernelspec": {
   "display_name": "Python 3 (ipykernel)",
   "language": "python",
   "name": "python3"
  },
  "language_info": {
   "codemirror_mode": {
    "name": "ipython",
    "version": 3
   },
   "file_extension": ".py",
   "mimetype": "text/x-python",
   "name": "python",
   "nbconvert_exporter": "python",
   "pygments_lexer": "ipython3",
   "version": "3.10.5"
  }
 },
 "nbformat": 4,
 "nbformat_minor": 5
}
